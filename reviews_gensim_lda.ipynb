{
 "cells": [
  {
   "cell_type": "code",
   "execution_count": 2,
   "metadata": {},
   "outputs": [],
   "source": [
    "import pandas as pd\n",
    "df = pd.read_csv('reviews.csv')"
   ]
  },
  {
   "cell_type": "code",
   "execution_count": 3,
   "metadata": {},
   "outputs": [
    {
     "data": {
      "text/plain": [
       "13"
      ]
     },
     "execution_count": 3,
     "metadata": {},
     "output_type": "execute_result"
    }
   ],
   "source": [
    "# check for duplicates in id column\n",
    "df['id'].duplicated().sum()"
   ]
  },
  {
   "cell_type": "code",
   "execution_count": 4,
   "metadata": {},
   "outputs": [
    {
     "data": {
      "text/plain": [
       "616    R2YFM3DW9ZPKAV\n",
       "626    R2RXKVD3AWSP2L\n",
       "630    R3CLJT1O2XDK28\n",
       "633    R1SU9GHKMF2PXN\n",
       "635    R1PXSZE8MH4HCZ\n",
       "638    R2J2XFTAAEL50V\n",
       "641    R1MXD3GZKHTAKE\n",
       "642    R33O38DNX0P4DD\n",
       "880     R4P0HPOPSRECI\n",
       "881    R366Y3EP4BFRMK\n",
       "882     RUPX3V2E7K6B8\n",
       "883     R5DM8A2UO2Z9N\n",
       "884    R3SGPS32AFOG6R\n",
       "Name: id, dtype: object"
      ]
     },
     "execution_count": 4,
     "metadata": {},
     "output_type": "execute_result"
    }
   ],
   "source": [
    "# list the duplicate ids\n",
    "df[df['id'].duplicated()]['id']"
   ]
  },
  {
   "cell_type": "code",
   "execution_count": 5,
   "metadata": {},
   "outputs": [],
   "source": [
    "# drop duplicates\n",
    "df.drop_duplicates(subset='id', inplace=True)"
   ]
  },
  {
   "cell_type": "code",
   "execution_count": 6,
   "metadata": {},
   "outputs": [
    {
     "data": {
      "text/html": [
       "<div>\n",
       "<style scoped>\n",
       "    .dataframe tbody tr th:only-of-type {\n",
       "        vertical-align: middle;\n",
       "    }\n",
       "\n",
       "    .dataframe tbody tr th {\n",
       "        vertical-align: top;\n",
       "    }\n",
       "\n",
       "    .dataframe thead th {\n",
       "        text-align: right;\n",
       "    }\n",
       "</style>\n",
       "<table border=\"1\" class=\"dataframe\">\n",
       "  <thead>\n",
       "    <tr style=\"text-align: right;\">\n",
       "      <th></th>\n",
       "      <th>id</th>\n",
       "      <th>title</th>\n",
       "      <th>body</th>\n",
       "      <th>asin</th>\n",
       "      <th>body_html</th>\n",
       "      <th>link</th>\n",
       "      <th>rating</th>\n",
       "      <th>vine_program</th>\n",
       "      <th>verified_purchase</th>\n",
       "      <th>helpful_votes</th>\n",
       "      <th>...</th>\n",
       "      <th>date.raw</th>\n",
       "      <th>date.utc</th>\n",
       "      <th>profile.name</th>\n",
       "      <th>profile.link</th>\n",
       "      <th>profile.id</th>\n",
       "      <th>profile.image</th>\n",
       "      <th>images</th>\n",
       "      <th>videos</th>\n",
       "      <th>attributes</th>\n",
       "      <th>attributes_flat</th>\n",
       "    </tr>\n",
       "  </thead>\n",
       "  <tbody>\n",
       "    <tr>\n",
       "      <th>66</th>\n",
       "      <td>R2YFM3DW9ZPKAV</td>\n",
       "      <td>Good activity book</td>\n",
       "      <td>Cute pictures and great quality book</td>\n",
       "      <td>0593385691</td>\n",
       "      <td>&lt;span&gt;Cute pictures and great quality book&lt;/span&gt;</td>\n",
       "      <td>https://www.amazon.ca/gp/customer-reviews/R2YF...</td>\n",
       "      <td>5</td>\n",
       "      <td>False</td>\n",
       "      <td>True</td>\n",
       "      <td>NaN</td>\n",
       "      <td>...</td>\n",
       "      <td>Reviewed in Canada on March 26, 2024</td>\n",
       "      <td>2024-03-26T00:00:00.000Z</td>\n",
       "      <td>Magskywei</td>\n",
       "      <td>https://www.amazon.ca/gp/profile/amzn1.account...</td>\n",
       "      <td>AEB3ND3DRYZCTFEJK6YAX6UTB5HA</td>\n",
       "      <td>NaN</td>\n",
       "      <td>NaN</td>\n",
       "      <td>NaN</td>\n",
       "      <td>NaN</td>\n",
       "      <td>NaN</td>\n",
       "    </tr>\n",
       "  </tbody>\n",
       "</table>\n",
       "<p>1 rows × 24 columns</p>\n",
       "</div>"
      ],
      "text/plain": [
       "                id               title                                  body  \\\n",
       "66  R2YFM3DW9ZPKAV  Good activity book  Cute pictures and great quality book   \n",
       "\n",
       "          asin                                          body_html  \\\n",
       "66  0593385691  <span>Cute pictures and great quality book</span>   \n",
       "\n",
       "                                                 link  rating  vine_program  \\\n",
       "66  https://www.amazon.ca/gp/customer-reviews/R2YF...       5         False   \n",
       "\n",
       "    verified_purchase  helpful_votes  ...  \\\n",
       "66               True            NaN  ...   \n",
       "\n",
       "                                date.raw                  date.utc  \\\n",
       "66  Reviewed in Canada on March 26, 2024  2024-03-26T00:00:00.000Z   \n",
       "\n",
       "    profile.name                                       profile.link  \\\n",
       "66     Magskywei  https://www.amazon.ca/gp/profile/amzn1.account...   \n",
       "\n",
       "                      profile.id profile.image images videos attributes  \\\n",
       "66  AEB3ND3DRYZCTFEJK6YAX6UTB5HA           NaN    NaN    NaN        NaN   \n",
       "\n",
       "   attributes_flat  \n",
       "66             NaN  \n",
       "\n",
       "[1 rows x 24 columns]"
      ]
     },
     "execution_count": 6,
     "metadata": {},
     "output_type": "execute_result"
    }
   ],
   "source": [
    "# view id R2YFM3DW9ZPKAV to see if it was dropped\n",
    "df[df['id'] == 'R2YFM3DW9ZPKAV']"
   ]
  },
  {
   "cell_type": "code",
   "execution_count": 7,
   "metadata": {},
   "outputs": [
    {
     "data": {
      "text/plain": [
       "1"
      ]
     },
     "execution_count": 7,
     "metadata": {},
     "output_type": "execute_result"
    }
   ],
   "source": [
    "# check for null values in body column\n",
    "df['body'].isnull().sum()"
   ]
  },
  {
   "cell_type": "code",
   "execution_count": 8,
   "metadata": {},
   "outputs": [
    {
     "data": {
      "text/plain": [
       "0"
      ]
     },
     "execution_count": 8,
     "metadata": {},
     "output_type": "execute_result"
    }
   ],
   "source": [
    "#check for null values in title column\n",
    "df['title'].isnull().sum()"
   ]
  },
  {
   "cell_type": "code",
   "execution_count": 9,
   "metadata": {},
   "outputs": [],
   "source": [
    "df['title_body'] = df['title'] + ' ' + df['body']"
   ]
  },
  {
   "cell_type": "code",
   "execution_count": 13,
   "metadata": {},
   "outputs": [],
   "source": [
    "# string\n",
    "docs = df['title_body'].astype(str)"
   ]
  },
  {
   "cell_type": "markdown",
   "metadata": {},
   "source": [
    "Preprocessing with SPACY"
   ]
  },
  {
   "cell_type": "code",
   "execution_count": 14,
   "metadata": {},
   "outputs": [],
   "source": [
    "import spacy\n",
    "nlp = spacy.load('en_core_web_sm')"
   ]
  },
  {
   "cell_type": "code",
   "execution_count": 15,
   "metadata": {},
   "outputs": [],
   "source": [
    "# tokenize\n",
    "docs = docs.apply(nlp)"
   ]
  },
  {
   "cell_type": "code",
   "execution_count": 16,
   "metadata": {},
   "outputs": [],
   "source": [
    "# stop words\n",
    "from spacy.lang.en.stop_words import STOP_WORDS\n",
    "\n",
    "# remove stop words\n",
    "docs = docs.apply(lambda x: [token for token in x if not token.is_stop])"
   ]
  },
  {
   "cell_type": "code",
   "execution_count": 17,
   "metadata": {},
   "outputs": [],
   "source": [
    "# lemmatize the text\n",
    "\n",
    "docs = docs.apply(lambda x: [token.lemma_ for token in x])"
   ]
  },
  {
   "cell_type": "code",
   "execution_count": 18,
   "metadata": {},
   "outputs": [
    {
     "data": {
      "text/plain": [
       "0      [financial, intelligence, Great, ,, great, rea...\n",
       "1      [Unlock, psychology, personal, finance, \", psy...\n",
       "2      [quick, review, decision, make, money, like, b...\n",
       "3      [wish, read, book, soon, investor, solid, book...\n",
       "4      [read, book, timeless, lesson, great, insight,...\n",
       "                             ...                        \n",
       "877    [product, look, disappointed, quality, product...\n",
       "878    [worth, money, piece, LEGO, come, piece, build...\n",
       "879    [terrible, ., gearbot, gear, ., little, Lego, ...\n",
       "885    [beautiful, book, easy, recipe, beautiful, boo...\n",
       "886    [great, inspiration, great, meal, inspiration,...\n",
       "Name: title_body, Length: 874, dtype: object"
      ]
     },
     "execution_count": 18,
     "metadata": {},
     "output_type": "execute_result"
    }
   ],
   "source": [
    "docs"
   ]
  },
  {
   "cell_type": "code",
   "execution_count": 20,
   "metadata": {},
   "outputs": [],
   "source": [
    "# remove punctuation and non-alphabetic characters\n",
    "docs = docs.apply(lambda x: [token for token in x if token.isalpha()])"
   ]
  },
  {
   "cell_type": "code",
   "execution_count": 21,
   "metadata": {},
   "outputs": [],
   "source": [
    "# lower case\n",
    "docs = docs.apply(lambda x: [token.lower() for token in x])"
   ]
  },
  {
   "cell_type": "code",
   "execution_count": 22,
   "metadata": {},
   "outputs": [],
   "source": [
    "from gensim import corpora, models\n",
    "from gensim.models import CoherenceModel"
   ]
  },
  {
   "cell_type": "code",
   "execution_count": 23,
   "metadata": {},
   "outputs": [],
   "source": [
    "dictionary = corpora.Dictionary(docs)"
   ]
  },
  {
   "cell_type": "code",
   "execution_count": 24,
   "metadata": {},
   "outputs": [],
   "source": [
    "corpus = [dictionary.doc2bow(doc) for doc in docs]"
   ]
  },
  {
   "cell_type": "markdown",
   "metadata": {},
   "source": [
    "Model "
   ]
  },
  {
   "cell_type": "code",
   "execution_count": 25,
   "metadata": {},
   "outputs": [],
   "source": [
    "# Calculate coherence scores for different numbers of topics\n",
    "coherence_scores = []\n",
    "for num_topics in range(2, 50, 2):\n",
    "    lda_model = models.LdaModel(corpus, num_topics=num_topics, id2word=dictionary)\n",
    "    coherence_model = CoherenceModel(model=lda_model, texts=docs, dictionary=dictionary, coherence='c_v')\n",
    "    coherence_score = coherence_model.get_coherence()\n",
    "    coherence_scores.append(coherence_score)\n",
    "\n",
    "# Find the number of topics with the highest coherence score\n",
    "optimal_num_topics = range(2, 50, 2)[coherence_scores.index(max(coherence_scores))]\n",
    "\n",
    "# Create the LDA model with the optimal number of topics\n",
    "lda_model = models.LdaModel(corpus, num_topics=optimal_num_topics, id2word=dictionary, passes=15)"
   ]
  },
  {
   "cell_type": "code",
   "execution_count": 27,
   "metadata": {},
   "outputs": [
    {
     "name": "stderr",
     "output_type": "stream",
     "text": [
      "/Users/grahammarsh/Documents/GitHub/project4/venv/lib/python3.12/site-packages/joblib/externals/loky/backend/fork_exec.py:38: DeprecationWarning: This process (pid=84057) is multi-threaded, use of fork() may lead to deadlocks in the child.\n",
      "  pid = os.fork()\n",
      "/Users/grahammarsh/Documents/GitHub/project4/venv/lib/python3.12/site-packages/joblib/externals/loky/backend/fork_exec.py:38: DeprecationWarning: This process (pid=84057) is multi-threaded, use of fork() may lead to deadlocks in the child.\n",
      "  pid = os.fork()\n",
      "/Users/grahammarsh/Documents/GitHub/project4/venv/lib/python3.12/site-packages/joblib/externals/loky/backend/fork_exec.py:38: DeprecationWarning: This process (pid=84057) is multi-threaded, use of fork() may lead to deadlocks in the child.\n",
      "  pid = os.fork()\n",
      "/Users/grahammarsh/Documents/GitHub/project4/venv/lib/python3.12/site-packages/joblib/externals/loky/backend/fork_exec.py:38: DeprecationWarning: This process (pid=84057) is multi-threaded, use of fork() may lead to deadlocks in the child.\n",
      "  pid = os.fork()\n",
      "/Users/grahammarsh/Documents/GitHub/project4/venv/lib/python3.12/site-packages/joblib/externals/loky/backend/fork_exec.py:38: DeprecationWarning: This process (pid=84057) is multi-threaded, use of fork() may lead to deadlocks in the child.\n",
      "  pid = os.fork()\n",
      "/Users/grahammarsh/Documents/GitHub/project4/venv/lib/python3.12/site-packages/joblib/externals/loky/backend/fork_exec.py:38: DeprecationWarning: This process (pid=84057) is multi-threaded, use of fork() may lead to deadlocks in the child.\n",
      "  pid = os.fork()\n",
      "/Users/grahammarsh/Documents/GitHub/project4/venv/lib/python3.12/site-packages/joblib/externals/loky/backend/fork_exec.py:38: DeprecationWarning: This process (pid=84057) is multi-threaded, use of fork() may lead to deadlocks in the child.\n",
      "  pid = os.fork()\n",
      "/Users/grahammarsh/Documents/GitHub/project4/venv/lib/python3.12/site-packages/joblib/externals/loky/backend/fork_exec.py:38: DeprecationWarning: This process (pid=84057) is multi-threaded, use of fork() may lead to deadlocks in the child.\n",
      "  pid = os.fork()\n",
      "/Users/grahammarsh/Documents/GitHub/project4/venv/lib/python3.12/site-packages/joblib/externals/loky/backend/fork_exec.py:38: DeprecationWarning: This process (pid=84057) is multi-threaded, use of fork() may lead to deadlocks in the child.\n",
      "  pid = os.fork()\n"
     ]
    },
    {
     "data": {
      "text/html": [
       "\n",
       "<link rel=\"stylesheet\" type=\"text/css\" href=\"https://cdn.jsdelivr.net/gh/bmabey/pyLDAvis@3.4.0/pyLDAvis/js/ldavis.v1.0.0.css\">\n",
       "\n",
       "\n",
       "<div id=\"ldavis_el84057133752891685391990837\" style=\"background-color:white;\"></div>\n",
       "<script type=\"text/javascript\">\n",
       "\n",
       "var ldavis_el84057133752891685391990837_data = {\"mdsDat\": {\"x\": [0.061283530653463585, -0.061283530653463585], \"y\": [0.0, 0.0], \"topics\": [1, 2], \"cluster\": [1, 1], \"Freq\": [59.383976818568215, 40.616023181431785]}, \"tinfo\": {\"Term\": [\"feyre\", \"violet\", \"great\", \"dragon\", \"world\", \"rhys\", \"court\", \"recipe\", \"read\", \"tamlin\", \"rider\", \"fantasy\", \"power\", \"free\", \"becky\", \"bluey\", \"wing\", \"maas\", \"gluten\", \"sarah\", \"law\", \"fourth\", \"good\", \"de\", \"fae\", \"miles\", \"tate\", \"xaden\", \"acotar\", \"dad\", \"recipe\", \"becky\", \"free\", \"gluten\", \"miles\", \"tate\", \"serial\", \"fryer\", \"cook\", \"rachel\", \"excell\", \"rowan\", \"hoover\", \"colleen\", \"ptsd\", \"brilliant\", \"favourite\", \"lovely\", \"sloane\", \"david\", \"forward\", \"coeliac\", \"humour\", \"nicholls\", \"richard\", \"recovery\", \"finance\", \"mile\", \"holiday\", \"incredible\", \"dad\", \"joke\", \"louise\", \"great\", \"trauma\", \"air\", \"money\", \"killer\", \"read\", \"recommend\", \"good\", \"book\", \"easy\", \"need\", \"enjoy\", \"hard\", \"thank\", \"love\", \"write\", \"work\", \"story\", \"feel\", \"know\", \"wait\", \"life\", \"think\", \"way\", \"find\", \"like\", \"go\", \"character\", \"time\", \"end\", \"day\", \"get\", \"want\", \"help\", \"thing\", \"look\", \"series\", \"de\", \"rhys\", \"que\", \"mist\", \"bluey\", \"fury\", \"y\", \"en\", \"dynamic\", \"cadet\", \"quadrant\", \"greene\", \"vivid\", \"para\", \"mortal\", \"smell\", \"\\u1d1b\\u029c\\u1d07\", \"laws\", \"es\", \"el\", \"law\", \"college\", \"section\", \"rebecca\", \"acomaf\", \"libro\", \"bone\", \"\\u00e0\", \"topic\", \"amren\", \"violet\", \"rider\", \"wing\", \"bond\", \"dragon\", \"feyre\", \"power\", \"fourth\", \"xaden\", \"court\", \"world\", \"sarah\", \"fantasy\", \"acotar\", \"tamlin\", \"maas\", \"fae\", \"building\", \"like\", \"character\", \"book\", \"series\", \"create\", \"time\", \"love\", \"new\", \"page\", \"reader\", \"story\", \"read\", \"want\", \"think\", \"thing\", \"feel\", \"find\", \"way\", \"go\", \"know\", \"start\"], \"Freq\": [212.0, 76.0, 233.0, 87.0, 137.0, 52.0, 111.0, 85.0, 634.0, 126.0, 49.0, 90.0, 58.0, 64.0, 58.0, 34.0, 39.0, 93.0, 51.0, 48.0, 30.0, 38.0, 293.0, 25.0, 62.0, 43.0, 42.0, 36.0, 44.0, 60.0, 85.0724360624253, 58.36413599454996, 64.3547850847727, 50.595962599367034, 42.81700973114065, 41.95401848781319, 28.08638549709643, 26.377475617490287, 20.298008981775332, 18.598481884757376, 18.593046905389137, 18.58349336754153, 18.581793112180627, 18.5765901848316, 33.759642884008585, 43.040448096156446, 24.423510048914974, 16.828756862757423, 14.262229422432263, 15.936389877022886, 27.659024487825345, 13.39354779657076, 14.216354635514463, 14.194293639775925, 16.675167614971482, 11.67051193272584, 11.670174800546985, 11.660495020563136, 13.317180790549672, 12.476910212851843, 57.73161181136113, 27.3985657987884, 44.45503720528045, 215.07197610954387, 56.94115214822775, 33.579138520887234, 24.669800429759956, 27.816241920012317, 521.4509984757086, 93.17113326198094, 244.31566778266327, 1064.8225588943783, 101.3353245899279, 95.66283487195979, 93.35943690806252, 55.619547304815164, 50.964823148649785, 427.72682833352275, 116.37375488160853, 57.73485762073678, 198.50032120850145, 155.8843736061591, 139.8081833334102, 73.99654940197678, 93.94883152350425, 141.76901413908223, 128.65930682651583, 126.34061969939039, 221.42187675222863, 121.62240377565361, 192.52674764422082, 141.50366338483522, 86.71552781648124, 83.78259461615835, 98.51795037627986, 105.27559706510219, 73.59932304737686, 89.73094310433784, 77.1007282357991, 85.94133222694607, 24.76829310149076, 51.24587912602649, 18.76157556346999, 20.372248599450757, 33.09313198496681, 20.349623461692936, 13.552185009098794, 12.692441752668016, 12.624290836967079, 12.579117422635914, 13.38704825515169, 9.199893486772936, 9.1903567107146, 8.324572863921983, 8.299803598576418, 8.287656037738872, 7.447470958165848, 7.447193958442571, 7.446278112510655, 7.446031557802009, 28.945656553524923, 9.901136004248844, 7.421263290653645, 10.717134266543086, 10.691309906756066, 6.5698440006819885, 6.563927685871674, 6.561650298957597, 7.366471747192264, 7.347721610968717, 70.02571371269713, 45.9743877291896, 36.00732079981484, 19.92319761021539, 75.679662370702, 171.74929932675008, 50.234765253247566, 33.09701497207869, 31.09040102713886, 85.67650352618813, 102.31218656838223, 39.38201391858249, 67.33962094385475, 35.37766998379171, 87.47725127678854, 64.62711188428516, 45.15897640684955, 20.223257685229793, 162.34198545259576, 135.49853020797823, 395.8891624161655, 81.27898169229064, 23.02675042327595, 92.49382307243455, 172.49269271743253, 52.12713952132198, 52.994848391416724, 51.17144954993127, 82.08217108810169, 112.57494745821424, 59.05029991318462, 65.03610122705567, 55.511315513499106, 62.13015352829908, 57.87077020865331, 57.27469475368295, 55.636744980987714, 53.86751231241722, 50.14960306084722], \"Total\": [212.0, 76.0, 233.0, 87.0, 137.0, 52.0, 111.0, 85.0, 634.0, 126.0, 49.0, 90.0, 58.0, 64.0, 58.0, 34.0, 39.0, 93.0, 51.0, 48.0, 30.0, 38.0, 293.0, 25.0, 62.0, 43.0, 42.0, 36.0, 44.0, 60.0, 85.66738561334026, 58.84226674538776, 64.89958776618985, 51.05451698744183, 43.26692974462047, 42.401627893128335, 28.557411267419504, 26.826598976022723, 20.76991029581833, 19.039007084537044, 19.039034520995628, 19.03913220875418, 19.03917811223445, 19.039226482004235, 34.61888729138816, 44.13939371497513, 25.098671046049954, 17.30875174686809, 14.712678106104663, 16.443785118332634, 28.561698833349897, 13.847452363727665, 14.713097209876148, 14.713334005600828, 17.310382382192977, 12.116852255074571, 12.11681430131305, 12.116823927978302, 13.848226942015916, 12.982591736729454, 60.60381295824498, 28.56517646082044, 46.75211081410478, 233.87307429299017, 60.6141095852452, 35.49698416126346, 25.97151321493292, 29.436750941662417, 634.0259459339229, 105.72797691227379, 293.9916901562578, 1460.711721310544, 117.89533030952553, 110.95601754360165, 109.23346354358472, 62.386012197360934, 57.18745573223243, 600.2195210509553, 144.00242398684153, 66.74254224727434, 280.58249229660316, 218.01452713445818, 193.67569564582743, 91.07861824687959, 122.38121906906481, 206.8051153661379, 185.93400158019878, 184.2113899080437, 383.76386220482436, 177.2591487566413, 328.02527785219905, 233.99748645726976, 118.09434395008766, 114.62616343582883, 145.99963584292047, 164.3258969782868, 97.22361028632542, 145.24225861783694, 113.84001107195056, 167.22031391923673, 25.423093548800736, 52.602262674603246, 19.285805566212023, 21.037342980142917, 34.18731736651669, 21.037038209160045, 14.024086369354077, 13.147627614229553, 13.146299151420605, 13.145794200125913, 14.02179499317549, 9.639658287614257, 9.63937029869748, 8.762596544895873, 8.762113977055675, 8.761645501305408, 7.885565923987622, 7.885556094218856, 7.885502370794643, 7.885520979301346, 30.669081177474357, 10.513867901534782, 7.8848527373087745, 11.389802491293942, 11.389348285727783, 7.00847289594341, 7.008353731311983, 7.008322295987166, 7.883394984614697, 7.883686203378884, 76.21641134601163, 49.93512566003952, 39.41767074615079, 21.895498572063538, 87.5407240379218, 212.56571708736683, 58.644002054037045, 38.512728914660684, 36.75527279839445, 111.9022492309395, 137.21863053134274, 48.115052312420815, 90.02369386734043, 44.60015132899731, 126.63596530337222, 93.44848347690304, 62.037046512859774, 24.495041645305147, 383.76386220482436, 328.02527785219905, 1460.711721310544, 167.22031391923673, 29.72395850694319, 233.99748645726976, 600.2195210509553, 101.93284678008828, 114.05839444484133, 114.03394458531008, 280.58249229660316, 634.0259459339229, 164.3258969782868, 206.8051153661379, 145.24225861783694, 218.01452713445818, 184.2113899080437, 185.93400158019878, 177.2591487566413, 193.67569564582743, 122.67292862461878], \"Category\": [\"Default\", \"Default\", \"Default\", \"Default\", \"Default\", \"Default\", \"Default\", \"Default\", \"Default\", \"Default\", \"Default\", \"Default\", \"Default\", \"Default\", \"Default\", \"Default\", \"Default\", \"Default\", \"Default\", \"Default\", \"Default\", \"Default\", \"Default\", \"Default\", \"Default\", \"Default\", \"Default\", \"Default\", \"Default\", \"Default\", \"Topic1\", \"Topic1\", \"Topic1\", \"Topic1\", \"Topic1\", \"Topic1\", \"Topic1\", \"Topic1\", \"Topic1\", \"Topic1\", \"Topic1\", \"Topic1\", \"Topic1\", \"Topic1\", \"Topic1\", \"Topic1\", \"Topic1\", \"Topic1\", \"Topic1\", \"Topic1\", \"Topic1\", \"Topic1\", \"Topic1\", \"Topic1\", \"Topic1\", \"Topic1\", \"Topic1\", \"Topic1\", \"Topic1\", \"Topic1\", \"Topic1\", \"Topic1\", \"Topic1\", \"Topic1\", \"Topic1\", \"Topic1\", \"Topic1\", \"Topic1\", \"Topic1\", \"Topic1\", \"Topic1\", \"Topic1\", \"Topic1\", \"Topic1\", \"Topic1\", \"Topic1\", \"Topic1\", \"Topic1\", \"Topic1\", \"Topic1\", \"Topic1\", \"Topic1\", \"Topic1\", \"Topic1\", \"Topic1\", \"Topic1\", \"Topic1\", \"Topic1\", \"Topic1\", \"Topic1\", \"Topic1\", \"Topic1\", \"Topic1\", \"Topic1\", \"Topic1\", \"Topic1\", \"Topic1\", \"Topic1\", \"Topic1\", \"Topic1\", \"Topic2\", \"Topic2\", \"Topic2\", \"Topic2\", \"Topic2\", \"Topic2\", \"Topic2\", \"Topic2\", \"Topic2\", \"Topic2\", \"Topic2\", \"Topic2\", \"Topic2\", \"Topic2\", \"Topic2\", \"Topic2\", \"Topic2\", \"Topic2\", \"Topic2\", \"Topic2\", \"Topic2\", \"Topic2\", \"Topic2\", \"Topic2\", \"Topic2\", \"Topic2\", \"Topic2\", \"Topic2\", \"Topic2\", \"Topic2\", \"Topic2\", \"Topic2\", \"Topic2\", \"Topic2\", \"Topic2\", \"Topic2\", \"Topic2\", \"Topic2\", \"Topic2\", \"Topic2\", \"Topic2\", \"Topic2\", \"Topic2\", \"Topic2\", \"Topic2\", \"Topic2\", \"Topic2\", \"Topic2\", \"Topic2\", \"Topic2\", \"Topic2\", \"Topic2\", \"Topic2\", \"Topic2\", \"Topic2\", \"Topic2\", \"Topic2\", \"Topic2\", \"Topic2\", \"Topic2\", \"Topic2\", \"Topic2\", \"Topic2\", \"Topic2\", \"Topic2\", \"Topic2\", \"Topic2\", \"Topic2\", \"Topic2\"], \"logprob\": [30.0, 29.0, 28.0, 27.0, 26.0, 25.0, 24.0, 23.0, 22.0, 21.0, 20.0, 19.0, 18.0, 17.0, 16.0, 15.0, 14.0, 13.0, 12.0, 11.0, 10.0, 9.0, 8.0, 7.0, 6.0, 5.0, 4.0, 3.0, 2.0, 1.0, -5.686, -6.0628, -5.9651, -6.2057, -6.3726, -6.393, -6.7943, -6.857, -7.119, -7.2065, -7.2068, -7.2073, -7.2074, -7.2076, -6.6103, -6.3674, -6.934, -7.3065, -7.4719, -7.3609, -6.8096, -7.5348, -7.4752, -7.4767, -7.3156, -7.6725, -7.6725, -7.6733, -7.5405, -7.6057, -6.0737, -6.8191, -6.3351, -4.7586, -6.0875, -6.6156, -6.924, -6.8039, -3.8729, -5.5951, -4.6311, -3.159, -5.5111, -5.5687, -5.5931, -6.111, -6.1984, -4.0711, -5.3727, -6.0737, -4.8388, -5.0804, -5.1893, -5.8255, -5.5868, -5.1754, -5.2724, -5.2906, -4.7295, -5.3286, -4.8693, -5.1772, -5.6669, -5.7013, -5.5393, -5.473, -5.8309, -5.6327, -5.7844, -5.6759, -6.5401, -5.8131, -6.8179, -6.7355, -6.2504, -6.7366, -7.1431, -7.2087, -7.2141, -7.2177, -7.1554, -7.5305, -7.5315, -7.6305, -7.6335, -7.6349, -7.7418, -7.7419, -7.742, -7.742, -6.3843, -7.457, -7.7453, -7.3778, -7.3803, -7.8672, -7.8681, -7.8684, -7.7528, -7.7553, -5.5008, -5.9216, -6.166, -6.7578, -5.4232, -4.6037, -5.833, -6.2502, -6.3128, -5.2991, -5.1217, -6.0764, -5.5399, -6.1836, -5.2783, -5.5811, -5.9395, -6.7429, -4.66, -4.8407, -3.7686, -5.3518, -6.613, -5.2225, -4.5993, -5.796, -5.7795, -5.8145, -5.342, -5.0261, -5.6713, -5.5747, -5.7331, -5.6205, -5.6915, -5.7018, -5.7308, -5.7632, -5.8347], \"loglift\": [30.0, 29.0, 28.0, 27.0, 26.0, 25.0, 24.0, 23.0, 22.0, 21.0, 20.0, 19.0, 18.0, 17.0, 16.0, 15.0, 14.0, 13.0, 12.0, 11.0, 10.0, 9.0, 8.0, 7.0, 6.0, 5.0, 4.0, 3.0, 2.0, 1.0, 0.5142, 0.513, 0.5127, 0.5121, 0.5107, 0.5105, 0.5045, 0.5043, 0.4982, 0.4977, 0.4974, 0.4969, 0.4968, 0.4965, 0.496, 0.4959, 0.4939, 0.493, 0.4901, 0.4898, 0.489, 0.4878, 0.4868, 0.4852, 0.4838, 0.4836, 0.4836, 0.4828, 0.482, 0.4814, 0.4726, 0.4794, 0.4708, 0.4373, 0.4586, 0.4656, 0.4697, 0.4645, 0.3257, 0.3947, 0.3361, 0.205, 0.3698, 0.3728, 0.3641, 0.4063, 0.4059, 0.1823, 0.3081, 0.3762, 0.1751, 0.1857, 0.1952, 0.3134, 0.2568, 0.1436, 0.1529, 0.144, -0.0288, 0.1445, -0.0117, 0.0182, 0.2123, 0.2077, 0.1278, 0.0759, 0.2428, 0.0396, 0.1315, -0.1445, 0.8749, 0.8749, 0.8734, 0.8689, 0.8685, 0.8678, 0.8668, 0.8658, 0.8605, 0.8569, 0.8547, 0.8543, 0.8533, 0.8497, 0.8468, 0.8454, 0.8438, 0.8438, 0.8437, 0.8437, 0.8432, 0.841, 0.8404, 0.8401, 0.8378, 0.8364, 0.8355, 0.8352, 0.8332, 0.8306, 0.8163, 0.8184, 0.8105, 0.8066, 0.7554, 0.6878, 0.7462, 0.7495, 0.7336, 0.634, 0.6075, 0.7007, 0.6107, 0.6694, 0.5311, 0.5322, 0.5835, 0.7094, 0.0407, 0.0169, -0.4045, 0.1796, 0.6457, -0.0272, -0.3459, 0.2304, 0.1345, 0.0997, -0.3281, -0.8275, -0.1225, -0.2558, -0.0608, -0.3543, -0.2569, -0.2765, -0.2578, -0.3786, 0.0065]}, \"token.table\": {\"Topic\": [1, 2, 1, 2, 1, 2, 1, 2, 1, 1, 2, 1, 2, 2, 1, 2, 1, 2, 1, 2, 1, 2, 1, 2, 1, 1, 1, 2, 1, 1, 2, 1, 2, 1, 2, 1, 2, 1, 2, 1, 2, 1, 2, 1, 2, 1, 2, 2, 2, 1, 2, 1, 2, 2, 1, 1, 2, 1, 2, 1, 2, 1, 2, 1, 2, 1, 1, 2, 1, 2, 1, 2, 1, 2, 1, 1, 2, 1, 2, 1, 1, 2, 1, 2, 1, 2, 2, 1, 2, 1, 2, 1, 2, 1, 1, 1, 2, 1, 2, 1, 2, 1, 2, 1, 2, 2, 2, 1, 2, 1, 2, 1, 2, 1, 2, 1, 2, 1, 1, 2, 1, 1, 1, 2, 1, 2, 2, 1, 2, 1, 2, 1, 2, 1, 2, 2, 1, 2, 1, 2, 1, 2, 1, 2, 1, 1, 2, 1, 2, 1, 2, 1, 2, 1, 2, 1, 1, 2, 1, 2, 1, 2, 1, 1, 2, 2, 1, 1, 2, 1, 2, 1, 2, 1, 2, 1, 2, 1, 1, 2, 1, 2, 1, 2, 1, 2, 1, 2, 1, 2, 1, 2, 2, 1, 2, 1, 2, 1, 2, 1, 2, 1, 2, 1, 2, 1, 2, 1, 2, 2, 2, 2], \"Freq\": [0.08780133638139065, 0.9658147001952971, 0.2017930372839014, 0.7847507005485055, 0.9578278494177805, 0.05634281467163415, 0.1268442165508069, 0.8879095158556484, 0.9856860248257894, 0.029250613298468613, 0.9652702388494643, 0.09134297597369168, 0.9134297597369166, 0.9988080322951366, 0.7290966345121725, 0.27110072043832895, 0.9741864665760335, 0.022655499222698453, 0.1632983547413834, 0.8164917737069171, 0.07606995703541608, 0.9889094414604089, 0.5883692905123048, 0.41155364880394374, 0.9388008464324094, 0.997939701907464, 0.09511247519611912, 0.9511247519611913, 0.9629314578227457, 0.2323456425468465, 0.7685278945780307, 0.23550026145961941, 0.7737865733673209, 0.9570354927991253, 0.04950183583443751, 0.9730119850667549, 0.06081324906667218, 0.7328169894391146, 0.2704443651501494, 0.03933431618305838, 0.9833579045764596, 0.13707905813986315, 0.8681673682191334, 0.0760670351771159, 0.9888714573025067, 0.8566921160900259, 0.14419570270822218, 0.8877029201208462, 0.9887715397362048, 0.736699126223779, 0.2625019875050247, 0.8513874501735681, 0.14647526024491495, 0.8877050149557677, 0.9979497636315233, 0.27402980888969364, 0.725373023531542, 0.2554882943805102, 0.7442485097171384, 0.9562259274989436, 0.03984274697912265, 0.7155486473788448, 0.2843847188300537, 0.1928815265311506, 0.8091615259355587, 0.9903593223096279, 0.6839967933736226, 0.3148556667910326, 0.9803338437035113, 0.035011922989411116, 0.1298272062485981, 0.8568595612407474, 0.9861387753427534, 0.015408418364730522, 0.9691873361673045, 0.047535208619080956, 0.9507041723816192, 0.6780838830756613, 0.3219186111571321, 0.998932180918385, 0.6882578465244326, 0.31592163447023136, 0.8299554312923368, 0.17007283428121658, 0.9193020643781059, 0.08124064754969308, 0.933643053671712, 0.8976371149167461, 0.11220463936459327, 0.761131990285781, 0.2468536184710641, 0.9387483361178628, 0.07221141047060482, 0.9979422372119481, 0.9515331680540055, 0.9243146702403363, 0.07702622252002803, 0.9452068338185409, 0.03500766051179781, 0.9511919319999085, 0.06794228085713631, 0.7228578657386956, 0.278816605356354, 0.06521225687937948, 0.9455777247510025, 0.8876989671193786, 0.9987910496239039, 0.768091711416536, 0.22879327574109581, 0.5758749631356554, 0.4221345883618832, 0.6763878470754322, 0.3250175369063765, 0.9411339773502914, 0.04277881715228597, 0.7130724426466382, 0.28656182274584524, 0.9821621020750987, 0.31033141385507573, 0.6955704103648248, 0.9903585354815175, 0.9938306289307792, 0.04753451996974603, 0.9506903993949206, 0.9625931224379207, 0.03850372489751683, 0.9130216772971301, 0.8652076933301569, 0.135188702082837, 0.4905190189367602, 0.5101397796942306, 0.9515178541227102, 0.06796556100876501, 0.5348137705857294, 0.4646742596892403, 0.9129713959796452, 0.1364163378997986, 0.8526021118737411, 0.9821228427655987, 0.02888596596369408, 0.07131754532759231, 0.9271280892587, 0.05185160643493995, 0.985180522263859, 0.9979512017426201, 0.8217329327628142, 0.1782261447259079, 0.5524670766156737, 0.44723525249840257, 0.08779783501639937, 0.965776185180393, 0.992209571839247, 0.011673053786344081, 0.8796158095143102, 0.12295704864178529, 0.9903562201952547, 0.019010589072678944, 0.9695400427066262, 0.9820695825580223, 0.05776879897400131, 0.08010393379666594, 0.9211952386616583, 0.9979446432576278, 0.1870516515613694, 0.8105571567659341, 0.8877781530247337, 0.9804810295233083, 0.5142915832674245, 0.484390909821644, 0.9515602733258363, 0.9130704955830581, 0.5950783177548588, 0.4075878888731909, 0.7092388351502613, 0.2922491682528715, 0.3079693822096325, 0.6870086218522572, 0.9905280076948786, 0.8918039690171946, 0.1049181140020229, 0.6196543682015371, 0.3855627179920675, 0.6866367872409551, 0.31430557162438083, 0.6068441253360668, 0.3931666164149165, 0.1268489022751757, 0.88794231592623, 0.9403751105151109, 0.06599123582562182, 0.07872320270710276, 0.9184373649161989, 0.9336709474908464, 0.8124848776187411, 0.18665193134484592, 0.6389741479024099, 0.35904261644040175, 0.6937945663712214, 0.306560389791935, 0.07610799783985094, 0.9132959740782113, 0.8690109493449604, 0.13484652662249386, 0.2550674049469215, 0.7433392944167425, 0.8055419956722374, 0.19444117136916075, 0.1632418845837567, 0.8434164036827431, 0.9982824999276452, 0.9988125123766167, 0.8876978605563666], \"Term\": [\"acomaf\", \"acomaf\", \"acotar\", \"acotar\", \"air\", \"air\", \"amren\", \"amren\", \"becky\", \"bluey\", \"bluey\", \"bond\", \"bond\", \"bone\", \"book\", \"book\", \"brilliant\", \"brilliant\", \"building\", \"building\", \"cadet\", \"cadet\", \"character\", \"character\", \"coeliac\", \"colleen\", \"college\", \"college\", \"cook\", \"court\", \"court\", \"create\", \"create\", \"dad\", \"dad\", \"david\", \"david\", \"day\", \"day\", \"de\", \"de\", \"dragon\", \"dragon\", \"dynamic\", \"dynamic\", \"easy\", \"easy\", \"el\", \"en\", \"end\", \"end\", \"enjoy\", \"enjoy\", \"es\", \"excell\", \"fae\", \"fae\", \"fantasy\", \"fantasy\", \"favourite\", \"favourite\", \"feel\", \"feel\", \"feyre\", \"feyre\", \"finance\", \"find\", \"find\", \"forward\", \"forward\", \"fourth\", \"fourth\", \"free\", \"free\", \"fryer\", \"fury\", \"fury\", \"get\", \"get\", \"gluten\", \"go\", \"go\", \"good\", \"good\", \"great\", \"great\", \"greene\", \"hard\", \"hard\", \"help\", \"help\", \"holiday\", \"holiday\", \"hoover\", \"humour\", \"incredible\", \"incredible\", \"joke\", \"joke\", \"killer\", \"killer\", \"know\", \"know\", \"law\", \"law\", \"laws\", \"libro\", \"life\", \"life\", \"like\", \"like\", \"look\", \"look\", \"louise\", \"louise\", \"love\", \"love\", \"lovely\", \"maas\", \"maas\", \"mile\", \"miles\", \"mist\", \"mist\", \"money\", \"money\", \"mortal\", \"need\", \"need\", \"new\", \"new\", \"nicholls\", \"nicholls\", \"page\", \"page\", \"para\", \"power\", \"power\", \"ptsd\", \"ptsd\", \"quadrant\", \"quadrant\", \"que\", \"que\", \"rachel\", \"read\", \"read\", \"reader\", \"reader\", \"rebecca\", \"rebecca\", \"recipe\", \"recipe\", \"recommend\", \"recommend\", \"recovery\", \"rhys\", \"rhys\", \"richard\", \"richard\", \"rider\", \"rider\", \"rowan\", \"sarah\", \"sarah\", \"section\", \"serial\", \"series\", \"series\", \"sloane\", \"smell\", \"start\", \"start\", \"story\", \"story\", \"tamlin\", \"tamlin\", \"tate\", \"thank\", \"thank\", \"thing\", \"thing\", \"think\", \"think\", \"time\", \"time\", \"topic\", \"topic\", \"trauma\", \"trauma\", \"violet\", \"violet\", \"vivid\", \"wait\", \"wait\", \"want\", \"want\", \"way\", \"way\", \"wing\", \"wing\", \"work\", \"work\", \"world\", \"world\", \"write\", \"write\", \"xaden\", \"xaden\", \"y\", \"\\u00e0\", \"\\u1d1b\\u029c\\u1d07\"]}, \"R\": 30, \"lambda.step\": 0.01, \"plot.opts\": {\"xlab\": \"PC1\", \"ylab\": \"PC2\"}, \"topic.order\": [2, 1]};\n",
       "\n",
       "function LDAvis_load_lib(url, callback){\n",
       "  var s = document.createElement('script');\n",
       "  s.src = url;\n",
       "  s.async = true;\n",
       "  s.onreadystatechange = s.onload = callback;\n",
       "  s.onerror = function(){console.warn(\"failed to load library \" + url);};\n",
       "  document.getElementsByTagName(\"head\")[0].appendChild(s);\n",
       "}\n",
       "\n",
       "if(typeof(LDAvis) !== \"undefined\"){\n",
       "   // already loaded: just create the visualization\n",
       "   !function(LDAvis){\n",
       "       new LDAvis(\"#\" + \"ldavis_el84057133752891685391990837\", ldavis_el84057133752891685391990837_data);\n",
       "   }(LDAvis);\n",
       "}else if(typeof define === \"function\" && define.amd){\n",
       "   // require.js is available: use it to load d3/LDAvis\n",
       "   require.config({paths: {d3: \"https://d3js.org/d3.v5\"}});\n",
       "   require([\"d3\"], function(d3){\n",
       "      window.d3 = d3;\n",
       "      LDAvis_load_lib(\"https://cdn.jsdelivr.net/gh/bmabey/pyLDAvis@3.4.0/pyLDAvis/js/ldavis.v3.0.0.js\", function(){\n",
       "        new LDAvis(\"#\" + \"ldavis_el84057133752891685391990837\", ldavis_el84057133752891685391990837_data);\n",
       "      });\n",
       "    });\n",
       "}else{\n",
       "    // require.js not available: dynamically load d3 & LDAvis\n",
       "    LDAvis_load_lib(\"https://d3js.org/d3.v5.js\", function(){\n",
       "         LDAvis_load_lib(\"https://cdn.jsdelivr.net/gh/bmabey/pyLDAvis@3.4.0/pyLDAvis/js/ldavis.v3.0.0.js\", function(){\n",
       "                 new LDAvis(\"#\" + \"ldavis_el84057133752891685391990837\", ldavis_el84057133752891685391990837_data);\n",
       "            })\n",
       "         });\n",
       "}\n",
       "</script>"
      ],
      "text/plain": [
       "<IPython.core.display.HTML object>"
      ]
     },
     "execution_count": 27,
     "metadata": {},
     "output_type": "execute_result"
    }
   ],
   "source": [
    "import pyLDAvis\n",
    "import pyLDAvis.gensim_models as gensimvis\n",
    "\n",
    "# Prepare the visualization\n",
    "vis = gensimvis.prepare(lda_model, corpus, dictionary)\n",
    "\n",
    "# Display the visualization\n",
    "pyLDAvis.display(vis)"
   ]
  },
  {
   "cell_type": "code",
   "execution_count": 29,
   "metadata": {},
   "outputs": [
    {
     "name": "stdout",
     "output_type": "stream",
     "text": [
      "0.3247869701008909\n"
     ]
    }
   ],
   "source": [
    "# coherence_scores of the optimal number of topics\n",
    "coherence_model = CoherenceModel(model=lda_model, texts=docs, dictionary=dictionary, coherence='c_v')\n",
    "coherence_score = coherence_model.get_coherence()\n",
    "print(coherence_score)"
   ]
  },
  {
   "cell_type": "code",
   "execution_count": 31,
   "metadata": {},
   "outputs": [],
   "source": [
    "# how can we improve the model?\n",
    "# 1. increase the number of passes\n",
    "# 2. increase the number of topics\n",
    "# 3. increase the number of words per topic\n",
    "# 4. increase the number of documents\n",
    "# 5. increase the number of words per document\n",
    "# 6. increase the number of words per topic\n",
    "# 7. increase the number of words per document\n",
    "# 8. increase the number of words per topic\n",
    "\n",
    "# let's try increasing the number of topics\n"
   ]
  }
 ],
 "metadata": {
  "kernelspec": {
   "display_name": "venv",
   "language": "python",
   "name": "python3"
  },
  "language_info": {
   "codemirror_mode": {
    "name": "ipython",
    "version": 3
   },
   "file_extension": ".py",
   "mimetype": "text/x-python",
   "name": "python",
   "nbconvert_exporter": "python",
   "pygments_lexer": "ipython3",
   "version": "3.12.3"
  }
 },
 "nbformat": 4,
 "nbformat_minor": 2
}
