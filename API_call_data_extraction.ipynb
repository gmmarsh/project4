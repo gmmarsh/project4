{
 "cells": [
  {
   "cell_type": "code",
   "execution_count": 1,
   "metadata": {},
   "outputs": [],
   "source": [
    "from config import rainforest_api_key\n",
    "import pandas as pd\n",
    "import requests\n",
    "import json"
   ]
  },
  {
   "cell_type": "code",
   "execution_count": 2,
   "metadata": {},
   "outputs": [],
   "source": [
    "# Amazon.ca call\n",
    "cad_data = []\n",
    "chosen_cad_asins = ['0857197681', '1637589131', '144347004X', '0679805273', '1728235871', '1338896431', '0593385691', '0399226907', '1738325105', '1649374178']\n",
    "\n",
    "for asin in chosen_cad_asins:\n",
    "    params = {\n",
    "        'api_key':  rainforest_api_key,\n",
    "        'type': 'reviews',\n",
    "        'amazon_domain': 'amazon.ca',\n",
    "        'asin': asin,\n",
    "        'max_page': 5\n",
    "    }\n",
    "    response = requests.get('https://api.rainforestapi.com/request', params)\n",
    "    cad_response = response.json()\n",
    "    cad_data.append(cad_response)"
   ]
  },
  {
   "cell_type": "code",
   "execution_count": 3,
   "metadata": {},
   "outputs": [],
   "source": [
    "# Amazon.co.uk call\n",
    "gbp_data = []\n",
    "chosen_gbp_asins = ['1471197611', '1444715445', '1474612644', '1471136728', '1529937647', '1474612717', '1837832439', '152992376X']\n",
    "\n",
    "for asin in chosen_gbp_asins:\n",
    "    params ={\n",
    "        'api_key':  rainforest_api_key,\n",
    "        'type': 'reviews',\n",
    "        'amazon_domain': 'amazon.co.uk',\n",
    "        'asin': asin,\n",
    "        'max_page': 5\n",
    "    }\n",
    "    response = requests.get('https://api.rainforestapi.com/request', params)\n",
    "    gbp_response = response.json()\n",
    "    gbp_data.append(gbp_response)"
   ]
  },
  {
   "cell_type": "code",
   "execution_count": 4,
   "metadata": {},
   "outputs": [],
   "source": [
    "# Amazon.com.au call\n",
    "aud_data = []\n",
    "chosen_aud_asins = ['0349441561', '1761041118', '1863958533', '1921844779', '1526605392', '1408728516', '178633089X', '1338603450', 'B0CZKSCK6Q', '1761450301']\n",
    "\n",
    "for asin in chosen_aud_asins:\n",
    "    params ={\n",
    "        'api_key':  rainforest_api_key,\n",
    "        'type': 'reviews',\n",
    "        'amazon_domain': 'amazon.com.au',\n",
    "        'asin': asin,\n",
    "        'max_page': 5\n",
    "    }\n",
    "    response = requests.get('https://api.rainforestapi.com/request', params)\n",
    "    aud_response = response.json()\n",
    "    aud_data.append(aud_response)"
   ]
  },
  {
   "cell_type": "code",
   "execution_count": 5,
   "metadata": {},
   "outputs": [],
   "source": [
    "# Amazon.com call\n",
    "usd_data = []\n",
    "chosen_usd_asins = ['1635575567', '1649374046', 'B095NP7FLT', '0140280197', '1668051354', '1070527718', '1732557101', '1492675377', '1635575583', '1538742578']\n",
    "\n",
    "for asin in chosen_usd_asins:\n",
    "    params ={\n",
    "        'api_key':  rainforest_api_key,\n",
    "        'type': 'reviews',\n",
    "        'amazon_domain': 'amazon.com',\n",
    "        'asin': asin,\n",
    "        'max_page': 5\n",
    "    }\n",
    "    response = requests.get('https://api.rainforestapi.com/request', params)\n",
    "    usd_response = response.json()\n",
    "    usd_data.append(usd_response)"
   ]
  },
  {
   "cell_type": "code",
   "execution_count": 6,
   "metadata": {},
   "outputs": [],
   "source": [
    "df_cad = pd.json_normalize(cad_data, record_path=['reviews'])\n",
    "df_usd = pd.json_normalize(usd_data, record_path=['reviews'])\n",
    "df_gbp = pd.json_normalize(gbp_data, record_path=['reviews'])\n",
    "df_aud = pd.json_normalize(aud_data, record_path=['reviews'])\n",
    "df_concat = pd.concat([df_cad, df_usd, df_gbp, df_aud], ignore_index=True)\n",
    "df_concat.to_csv('reviews.csv', index=False)"
   ]
  }
 ],
 "metadata": {
  "kernelspec": {
   "display_name": "venv",
   "language": "python",
   "name": "python3"
  },
  "language_info": {
   "codemirror_mode": {
    "name": "ipython",
    "version": 3
   },
   "file_extension": ".py",
   "mimetype": "text/x-python",
   "name": "python",
   "nbconvert_exporter": "python",
   "pygments_lexer": "ipython3",
   "version": "3.12.3"
  }
 },
 "nbformat": 4,
 "nbformat_minor": 2
}
