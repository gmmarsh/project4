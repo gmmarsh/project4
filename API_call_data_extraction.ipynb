{
 "cells": [
  {
   "cell_type": "code",
   "execution_count": 6,
   "metadata": {},
   "outputs": [],
   "source": [
    "from config import rainforest_api_key\n",
    "import pandas as pd\n",
    "import requests\n",
    "import json"
   ]
  },
  {
   "cell_type": "code",
   "execution_count": 7,
   "metadata": {},
   "outputs": [],
   "source": [
    "# Amazon.ca call\n",
    "cad_data = []\n",
    "chosen_cad_asins = ['1464221138', '152478589X', '1538724731', '1668001225', '0316565075']\n",
    "\n",
    "for asin in chosen_cad_asins:\n",
    "    params = {\n",
    "        'api_key':  rainforest_api_key,\n",
    "        'type': 'reviews',\n",
    "        'amazon_domain': 'amazon.ca',\n",
    "        'asin': asin,\n",
    "        'max_page': 5\n",
    "    }\n",
    "    response = requests.get('https://api.rainforestapi.com/request', params)\n",
    "    cad_response = response.json()\n",
    "    cad_data.append(cad_response)"
   ]
  },
  {
   "cell_type": "code",
   "execution_count": 9,
   "metadata": {},
   "outputs": [],
   "source": [
    "# Amazon.co.uk call\n",
    "gbp_data = []\n",
    "chosen_gbp_asins = ['1526632217', '024155067X', '1474612644', '152661717X', '1804940208']\n",
    "\n",
    "for asin in chosen_gbp_asins:\n",
    "    params ={\n",
    "        'api_key':  rainforest_api_key,\n",
    "        'type': 'reviews',\n",
    "        'amazon_domain': 'amazon.co.uk',\n",
    "        'asin': asin,\n",
    "        'max_page': 5\n",
    "    }\n",
    "    response = requests.get('https://api.rainforestapi.com/request', params)\n",
    "    gbp_response = response.json()\n",
    "    gbp_data.append(gbp_response)"
   ]
  },
  {
   "cell_type": "code",
   "execution_count": 10,
   "metadata": {},
   "outputs": [],
   "source": [
    "# Amazon.com.au call\n",
    "aud_data = []\n",
    "chosen_aud_asins = ['0063078902', '146075266X', '1471156265', '1761290495', '0141033576']\n",
    "\n",
    "for asin in chosen_aud_asins:\n",
    "    params ={\n",
    "        'api_key':  rainforest_api_key,\n",
    "        'type': 'reviews',\n",
    "        'amazon_domain': 'amazon.com.au',\n",
    "        'asin': asin,\n",
    "        'max_page': 5\n",
    "    }\n",
    "    response = requests.get('https://api.rainforestapi.com/request', params)\n",
    "    aud_response = response.json()\n",
    "    aud_data.append(aud_response)"
   ]
  },
  {
   "cell_type": "code",
   "execution_count": 11,
   "metadata": {},
   "outputs": [],
   "source": [
    "# Amazon.com call\n",
    "usd_data = []\n",
    "chosen_usd_asins = ['0593655036', '1728235871', '059379625X', '0063389428', '148381579X']\n",
    "\n",
    "for asin in chosen_usd_asins:\n",
    "    params ={\n",
    "        'api_key':  rainforest_api_key,\n",
    "        'type': 'reviews',\n",
    "        'amazon_domain': 'amazon.com',\n",
    "        'asin': asin,\n",
    "        'max_page': 5\n",
    "    }\n",
    "    response = requests.get('https://api.rainforestapi.com/request', params)\n",
    "    usd_response = response.json()\n",
    "    usd_data.append(usd_response)"
   ]
  },
  {
   "cell_type": "code",
   "execution_count": 15,
   "metadata": {},
   "outputs": [],
   "source": [
    "df_cad = pd.json_normalize(cad_data, record_path=['reviews'])\n",
    "df_usd = pd.json_normalize(usd_data, record_path=['reviews'])\n",
    "df_gbp = pd.json_normalize(gbp_data, record_path=['reviews'])\n",
    "df_aud = pd.json_normalize(aud_data, record_path=['reviews'])\n",
    "df_concat = pd.concat([df_cad, df_usd, df_gbp, df_aud], ignore_index=True)\n",
    "df_concat.to_csv('concatenated_reviews.csv', index=False)"
   ]
  }
 ],
 "metadata": {
  "kernelspec": {
   "display_name": "venv",
   "language": "python",
   "name": "python3"
  },
  "language_info": {
   "codemirror_mode": {
    "name": "ipython",
    "version": 3
   },
   "file_extension": ".py",
   "mimetype": "text/x-python",
   "name": "python",
   "nbconvert_exporter": "python",
   "pygments_lexer": "ipython3",
   "version": "3.12.3"
  }
 },
 "nbformat": 4,
 "nbformat_minor": 2
}
