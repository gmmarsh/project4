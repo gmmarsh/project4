{
 "cells": [
  {
   "cell_type": "code",
   "execution_count": 1,
   "metadata": {},
   "outputs": [],
   "source": [
    "import requests\n",
    "import json\n",
    "from config import rainforest_api_key\n",
    "import pandas as pd\n",
    "import random"
   ]
  },
  {
   "cell_type": "code",
   "execution_count": 2,
   "metadata": {},
   "outputs": [],
   "source": [
    "bestsellers_data = []\n",
    "domains = ['amazon.com', 'amazon.co.uk', 'amazon.ca', 'amazon.com.au']\n",
    "for domain in domains:\n",
    "    try:\n",
    "        params = {\n",
    "            'api_key': rainforest_api_key,\n",
    "            'type': 'bestsellers',\n",
    "            'amazon_domain': domain,\n",
    "            'category_id': 'bestsellers_books',\n",
    "            'max_pages': '5'\n",
    "        }\n",
    "        response = requests.get('https://api.rainforestapi.com/request', params)\n",
    "        response.raise_for_status()  # Raise an exception if the request failed\n",
    "        domain_data = response.json()\n",
    "        bestsellers_data.append(domain_data)\n",
    "    except Exception as e:\n",
    "        print(f\"Failed to fetch data for ASIN {asin}: {e}\")"
   ]
  },
  {
   "cell_type": "code",
   "execution_count": 3,
   "metadata": {},
   "outputs": [],
   "source": [
    "# save the data to a json file\n",
    "with open('rainforest_data.json', 'w') as f:\n",
    "    json.dump(bestsellers_data, f)"
   ]
  },
  {
   "cell_type": "code",
   "execution_count": 4,
   "metadata": {},
   "outputs": [],
   "source": [
    "df = pd.json_normalize(bestsellers_data, record_path=['bestsellers'])"
   ]
  },
  {
   "cell_type": "code",
   "execution_count": 5,
   "metadata": {},
   "outputs": [
    {
     "data": {
      "text/plain": [
       "Index(['rank', 'position', 'title', 'asin', 'link', 'variant', 'image',\n",
       "       'rating', 'ratings_total', 'sub_title.text', 'sub_title.link',\n",
       "       'price.symbol', 'price.value', 'price.currency', 'price.raw',\n",
       "       'current_category.name', 'current_category.link', 'current_category.id',\n",
       "       'parent_category.name', 'parent_category.link', 'parent_category.id'],\n",
       "      dtype='object')"
      ]
     },
     "execution_count": 5,
     "metadata": {},
     "output_type": "execute_result"
    }
   ],
   "source": [
    "df.columns"
   ]
  },
  {
   "cell_type": "markdown",
   "metadata": {},
   "source": [
    "Isolate ASINs by Currency = Country"
   ]
  },
  {
   "cell_type": "code",
   "execution_count": 6,
   "metadata": {},
   "outputs": [],
   "source": [
    "cad_df = df[df['price.currency'] == 'CAD']"
   ]
  },
  {
   "cell_type": "code",
   "execution_count": 7,
   "metadata": {},
   "outputs": [
    {
     "name": "stdout",
     "output_type": "stream",
     "text": [
      "['1464221138', '0679805273', '1070527718', '1492667838', '0593655036', '152478589X', '0316565075', '059379625X', '0735247269', '0857197681', '1668037718', '0593519655', '0920668364', '1639730192', '1419729616', '0735211299', '1538742578', '0307118398', '1445724324', '0593385691', '0143127748', '1952568137', '1955034222', '0140280197', '1649374186', 'B0957BYD33', '0593550420', '1635575567', '1949759229', 'B093R55X48', '144347004X', '0063042061', '0385545991', 'B0C2RVLQQ1', '1501110365', '1998754774', '000864604X', 'B0B149FW7R', '0349132615', '125007181X', '1637589131', 'B0CP465ZPP', '1847941834', '1538740478', '1401976662', '1338896431', '0735243751', '0735242062', '1941529259', '0593191714']\n"
     ]
    }
   ],
   "source": [
    "cad_asins = cad_df['asin'].tolist()\n",
    "print(cad_asins)"
   ]
  },
  {
   "cell_type": "code",
   "execution_count": 8,
   "metadata": {},
   "outputs": [],
   "source": [
    "usd_df = df[df['price.currency'] == 'USD']"
   ]
  },
  {
   "cell_type": "code",
   "execution_count": 9,
   "metadata": {},
   "outputs": [
    {
     "name": "stdout",
     "output_type": "stream",
     "text": [
      "['1070527718', '1464221138', '0316565075', '1492667838', '0316258873', '1250178630', '1952568137', '0063389428', 'B095NP7FLT', '1728235871', '0593655036', '1538740761', '1087852714', '1538742578', '0679805273', '0385348746', '1483815803', '0471138134', '1483815811', '0735211299', '1081439793', '1732557101', '148381582X', '1483815838', '0349132615', '152478589X', '1668037718', '0140280197', '1419729616', '1483815846', '1680524267', '0385545991', '1483815854', '1492675377', '1538704439', '148381579X', '1635575567', '1501110365', '0143127748', '1728266181', 'B093R55X48', '0593652827', '1483815862', '1955034222', '059379625X', '0857197681', '1649374186', '1649374178', '1668051354', '1635575583']\n"
     ]
    }
   ],
   "source": [
    "usd_asins = usd_df['asin'].tolist()\n",
    "print(usd_asins)\n"
   ]
  },
  {
   "cell_type": "code",
   "execution_count": 10,
   "metadata": {},
   "outputs": [],
   "source": [
    "gbp_df = df[df['price.currency'] == 'GBP']"
   ]
  },
  {
   "cell_type": "code",
   "execution_count": 11,
   "metadata": {},
   "outputs": [
    {
     "name": "stdout",
     "output_type": "stream",
     "text": [
      "['1780722400', '1780725906', '1780723628', '1780722370', '1780724136', '1464223319', '024155067X', '1035054566', '0711295085', '1529922860', '1399620053', '1035044412', '0753560364', '1529160227', '1780724500', '0241992400', '1401969925', '1780725027', '1405953195', '1804940208', '1526605392', '1471156265', 'B0CM3G16GV', '1780722931', '0008532818', '1408728907', '0241430216', 'B0CZ78ZTNS', '1408728516', '1398518204', '1800818025', '1780725132', '0241558573', '1837832439', '1847941834', '1405943505', 'B0B6XFT4RH', '1529937647', '1444715445', '1529907497', '0115539956', '1526617161', '1780726201', '1780726325', '1399725092', '1472249496', '1471182940', '152911554X', '1408726602', '0711287597']\n"
     ]
    }
   ],
   "source": [
    "gbp_asins = gbp_df['asin'].tolist()\n",
    "print(gbp_asins)"
   ]
  },
  {
   "cell_type": "code",
   "execution_count": 12,
   "metadata": {},
   "outputs": [],
   "source": [
    "aud_df = df[df['price.currency'] == 'AUD']"
   ]
  },
  {
   "cell_type": "code",
   "execution_count": 13,
   "metadata": {},
   "outputs": [
    {
     "name": "stdout",
     "output_type": "stream",
     "text": [
      "['1761561839', '1408728907', '1760980137', '1847941834', '0241694906', '1761522787', '1035040972', '073039753X', '1761450301', '1509836314', '1464223319', '1847941494', '1526605392', '1760266094', '1760630497', '0008623007', '178633089X', '0141978619', '1398530123', '1760850187', '0349437033', '024150970X', '0141033576', '031648623X', '0143778919', '152661717X', '0349441588', '1526617161', '1785042181', '0008710236', '1338603450', '176085042X', '1408728516', '1761048627', '0578660636', '1984862057', '1761527975', '0140449337', '1761345435', '1398529486', '0857197681', '1526617188', '1921844779', '0141988517', '1761268287', '1526635364', '0349433844', '0241624142', '0349437017', '1338896431']\n"
     ]
    }
   ],
   "source": [
    "aud_asins = aud_df['asin'].tolist()\n",
    "print(aud_asins)"
   ]
  },
  {
   "cell_type": "code",
   "execution_count": 17,
   "metadata": {},
   "outputs": [
    {
     "name": "stdout",
     "output_type": "stream",
     "text": [
      "['B0B149FW7R', 'B0CP465ZPP', '0349132615', '152478589X', '1941529259', '1649374186', '1464221138', '144347004X', '1639730192', '000864604X', '1998754774', '0140280197', '1419729616', '0063042061', '059379625X']\n",
      "['1087852714', '1483815846', '1538704439', '1680524267', '1483815854', '1492675377', '059379625X', '1732557101', '1483815811', '1649374178', '1668051354', '1492667838', '0316258873', '1538740761', '1070527718']\n",
      "['1780723628', 'B0B6XFT4RH', '1780722931', '1529160227', '0008532818', '0241558573', '1780724500', '1471156265', '0115539956', '0753560364', '1804940208', '1408728907', '0711287597', 'B0CM3G16GV', '1780724136']\n",
      "['1464223319', '1526605392', '0008623007', '1526617161', '1398530123', '024150970X', '178633089X', '1526617188', '1761561839', '1761268287', '0349433844', '1398529486', '0578660636', '0241624142', '1761450301']\n"
     ]
    }
   ],
   "source": [
    "import random\n",
    "\n",
    "# random\n",
    "cad_asins_sample = random.sample(cad_asins, 15)\n",
    "usd_asins_sample = random.sample(usd_asins, 15)\n",
    "gbp_asins_sample = random.sample(gbp_asins, 15)\n",
    "aud_asins_sample = random.sample(aud_asins, 15)\n"
   ]
  },
  {
   "cell_type": "code",
   "execution_count": 18,
   "metadata": {},
   "outputs": [
    {
     "name": "stdout",
     "output_type": "stream",
     "text": [
      "['B0B149FW7R', 'B0CP465ZPP', '0349132615', '152478589X', '1941529259', '1649374186', '1464221138', '144347004X', '1639730192', '000864604X', '1998754774', '0140280197', '1419729616', '0063042061', '059379625X']\n"
     ]
    }
   ],
   "source": [
    "\n",
    "print(cad_asins_sample)\n"
   ]
  },
  {
   "cell_type": "code",
   "execution_count": 19,
   "metadata": {},
   "outputs": [
    {
     "name": "stdout",
     "output_type": "stream",
     "text": [
      "['1087852714', '1483815846', '1538704439', '1680524267', '1483815854', '1492675377', '059379625X', '1732557101', '1483815811', '1649374178', '1668051354', '1492667838', '0316258873', '1538740761', '1070527718']\n"
     ]
    }
   ],
   "source": [
    "\n",
    "print(usd_asins_sample)\n"
   ]
  },
  {
   "cell_type": "code",
   "execution_count": 20,
   "metadata": {},
   "outputs": [
    {
     "name": "stdout",
     "output_type": "stream",
     "text": [
      "['1780723628', 'B0B6XFT4RH', '1780722931', '1529160227', '0008532818', '0241558573', '1780724500', '1471156265', '0115539956', '0753560364', '1804940208', '1408728907', '0711287597', 'B0CM3G16GV', '1780724136']\n"
     ]
    }
   ],
   "source": [
    "\n",
    "print(gbp_asins_sample)\n"
   ]
  },
  {
   "cell_type": "code",
   "execution_count": 21,
   "metadata": {},
   "outputs": [
    {
     "name": "stdout",
     "output_type": "stream",
     "text": [
      "['1464223319', '1526605392', '0008623007', '1526617161', '1398530123', '024150970X', '178633089X', '1526617188', '1761561839', '1761268287', '0349433844', '1398529486', '0578660636', '0241624142', '1761450301']\n"
     ]
    }
   ],
   "source": [
    "\n",
    "print(aud_asins_sample)"
   ]
  }
 ],
 "metadata": {
  "kernelspec": {
   "display_name": "venv",
   "language": "python",
   "name": "python3"
  },
  "language_info": {
   "codemirror_mode": {
    "name": "ipython",
    "version": 3
   },
   "file_extension": ".py",
   "mimetype": "text/x-python",
   "name": "python",
   "nbconvert_exporter": "python",
   "pygments_lexer": "ipython3",
   "version": "3.12.3"
  }
 },
 "nbformat": 4,
 "nbformat_minor": 2
}
