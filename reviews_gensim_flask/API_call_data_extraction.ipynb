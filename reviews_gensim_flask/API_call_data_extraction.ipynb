{
 "cells": [
  {
   "cell_type": "code",
   "execution_count": 1,
   "metadata": {},
   "outputs": [],
   "source": [
    "from config import rainforest_api_key\n",
    "import pandas as pd\n",
    "import requests\n",
    "import json"
   ]
  },
  {
   "cell_type": "code",
   "execution_count": 2,
   "metadata": {},
   "outputs": [],
   "source": [
    "# Amazon.ca call\n",
    "cad_data = []\n",
    "chosen_cad_asins = ['B0B149FW7R', 'B0CP465ZPP', '0349132615', '152478589X', '1941529259', '1649374186', '1464221138', '144347004X', '1639730192', '000864604X', '1998754774', '0140280197', '1419729616', '0063042061', '059379625X']\n",
    "\n",
    "for asin in chosen_cad_asins:\n",
    "    params = {\n",
    "        'api_key':  rainforest_api_key,\n",
    "        'type': 'reviews',\n",
    "        'amazon_domain': 'amazon.ca',\n",
    "        'asin': asin,\n",
    "        'max_page': 5\n",
    "    }\n",
    "    response = requests.get('https://api.rainforestapi.com/request', params)\n",
    "    cad_response = response.json()\n",
    "    cad_data.append(cad_response)"
   ]
  },
  {
   "cell_type": "code",
   "execution_count": 3,
   "metadata": {},
   "outputs": [],
   "source": [
    "# Amazon.co.uk call\n",
    "gbp_data = []\n",
    "chosen_gbp_asins = ['1780723628', 'B0B6XFT4RH', '1780722931', '1529160227', '0008532818', '0241558573', '1780724500', '1471156265', '0115539956', '0753560364', '1804940208', '1408728907', '0711287597', 'B0CM3G16GV', '1780724136']\n",
    "\n",
    "for asin in chosen_gbp_asins:\n",
    "    params ={\n",
    "        'api_key':  rainforest_api_key,\n",
    "        'type': 'reviews',\n",
    "        'amazon_domain': 'amazon.co.uk',\n",
    "        'asin': asin,\n",
    "        'max_page': 5\n",
    "    }\n",
    "    response = requests.get('https://api.rainforestapi.com/request', params)\n",
    "    gbp_response = response.json()\n",
    "    gbp_data.append(gbp_response)"
   ]
  },
  {
   "cell_type": "code",
   "execution_count": 4,
   "metadata": {},
   "outputs": [],
   "source": [
    "# Amazon.com.au call\n",
    "aud_data = []\n",
    "chosen_aud_asins = ['1464223319', '1526605392', '0008623007', '1526617161', '1398530123', '024150970X', '178633089X', '1526617188', '1761561839', '1761268287', '0349433844', '1398529486', '0578660636', '0241624142', '1761450301']\n",
    "\n",
    "for asin in chosen_aud_asins:\n",
    "    params ={\n",
    "        'api_key':  rainforest_api_key,\n",
    "        'type': 'reviews',\n",
    "        'amazon_domain': 'amazon.com.au',\n",
    "        'asin': asin,\n",
    "        'max_page': 5\n",
    "    }\n",
    "    response = requests.get('https://api.rainforestapi.com/request', params)\n",
    "    aud_response = response.json()\n",
    "    aud_data.append(aud_response)"
   ]
  },
  {
   "cell_type": "code",
   "execution_count": 5,
   "metadata": {},
   "outputs": [],
   "source": [
    "# Amazon.com call\n",
    "usd_data = []\n",
    "chosen_usd_asins = ['1087852714', '1483815846', '1538704439', '1680524267', '1483815854', '1492675377', '059379625X', '1732557101', '1483815811', '1649374178', '1668051354', '1492667838', '0316258873', '1538740761', '1070527718']\n",
    "\n",
    "for asin in chosen_usd_asins:\n",
    "    params ={\n",
    "        'api_key':  rainforest_api_key,\n",
    "        'type': 'reviews',\n",
    "        'amazon_domain': 'amazon.com',\n",
    "        'asin': asin,\n",
    "        'max_page': 5\n",
    "    }\n",
    "    response = requests.get('https://api.rainforestapi.com/request', params)\n",
    "    usd_response = response.json()\n",
    "    usd_data.append(usd_response)"
   ]
  },
  {
   "cell_type": "code",
   "execution_count": 6,
   "metadata": {},
   "outputs": [],
   "source": [
    "df_cad = pd.json_normalize(cad_data, record_path=['reviews'])\n",
    "df_usd = pd.json_normalize(usd_data, record_path=['reviews'])\n",
    "df_gbp = pd.json_normalize(gbp_data, record_path=['reviews'])\n",
    "df_aud = pd.json_normalize(aud_data, record_path=['reviews'])\n",
    "df_concat = pd.concat([df_cad, df_usd, df_gbp, df_aud], ignore_index=True)\n",
    "df_concat.to_csv('reviews_June_11.csv', index=False)"
   ]
  }
 ],
 "metadata": {
  "kernelspec": {
   "display_name": "venv",
   "language": "python",
   "name": "python3"
  },
  "language_info": {
   "codemirror_mode": {
    "name": "ipython",
    "version": 3
   },
   "file_extension": ".py",
   "mimetype": "text/x-python",
   "name": "python",
   "nbconvert_exporter": "python",
   "pygments_lexer": "ipython3",
   "version": "3.12.3"
  }
 },
 "nbformat": 4,
 "nbformat_minor": 2
}
