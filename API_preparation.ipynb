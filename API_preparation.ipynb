{
 "cells": [
  {
   "cell_type": "code",
   "execution_count": 27,
   "metadata": {},
   "outputs": [],
   "source": [
    "import requests\n",
    "import json\n",
    "from config import rainforest_api_key\n",
    "import pandas as pd\n",
    "import random"
   ]
  },
  {
   "cell_type": "code",
   "execution_count": 3,
   "metadata": {},
   "outputs": [],
   "source": [
    "bestsellers_data = []\n",
    "domains = ['amazon.com', 'amazon.co.uk', 'amazon.ca', 'amazon.com.au']\n",
    "for domain in domains:\n",
    "    try:\n",
    "        params = {\n",
    "            'api_key': rainforest_api_key,\n",
    "            'type': 'bestsellers',\n",
    "            'amazon_domain': domain,\n",
    "            'category_id': 'bestsellers_books',\n",
    "            'max_pages': '5'\n",
    "        }\n",
    "        response = requests.get('https://api.rainforestapi.com/request', params)\n",
    "        response.raise_for_status()  # Raise an exception if the request failed\n",
    "        domain_data = response.json()\n",
    "        bestsellers_data.append(domain_data)\n",
    "    except Exception as e:\n",
    "        print(f\"Failed to fetch data for ASIN {asin}: {e}\")"
   ]
  },
  {
   "cell_type": "code",
   "execution_count": 5,
   "metadata": {},
   "outputs": [],
   "source": [
    "# save the data to a json file\n",
    "with open('rainforest_data.json', 'w') as f:\n",
    "    json.dump(bestsellers_data, f)"
   ]
  },
  {
   "cell_type": "code",
   "execution_count": 23,
   "metadata": {},
   "outputs": [],
   "source": [
    "df = pd.json_normalize(bestsellers_data, record_path=['bestsellers'])"
   ]
  },
  {
   "cell_type": "code",
   "execution_count": 24,
   "metadata": {},
   "outputs": [
    {
     "data": {
      "text/plain": [
       "Index(['rank', 'position', 'title', 'asin', 'link', 'variant', 'image',\n",
       "       'rating', 'ratings_total', 'sub_title.text', 'sub_title.link',\n",
       "       'price.symbol', 'price.value', 'price.currency', 'price.raw',\n",
       "       'current_category.name', 'current_category.link', 'current_category.id',\n",
       "       'parent_category.name', 'parent_category.link', 'parent_category.id'],\n",
       "      dtype='object')"
      ]
     },
     "execution_count": 24,
     "metadata": {},
     "output_type": "execute_result"
    }
   ],
   "source": [
    "df.columns"
   ]
  },
  {
   "cell_type": "markdown",
   "metadata": {},
   "source": [
    "Isolate ASINs by Currency = Country"
   ]
  },
  {
   "cell_type": "code",
   "execution_count": 25,
   "metadata": {},
   "outputs": [],
   "source": [
    "cad_df = df[df['price.currency'] == 'CAD']"
   ]
  },
  {
   "cell_type": "code",
   "execution_count": 28,
   "metadata": {},
   "outputs": [
    {
     "name": "stdout",
     "output_type": "stream",
     "text": [
      "['1464221138', '152478589X', '1538724731', '1668001225', '0316565075']\n"
     ]
    }
   ],
   "source": [
    "cad_asins = cad_df['asin'].tolist()\n",
    "chosen_cad_asins = random.sample(cad_asins, 5)\n",
    "print(chosen_cad_asins)"
   ]
  },
  {
   "cell_type": "code",
   "execution_count": 29,
   "metadata": {},
   "outputs": [],
   "source": [
    "usd_df = df[df['price.currency'] == 'USD']"
   ]
  },
  {
   "cell_type": "code",
   "execution_count": 31,
   "metadata": {},
   "outputs": [
    {
     "name": "stdout",
     "output_type": "stream",
     "text": [
      "['0593655036', '1728235871', '059379625X', '0063389428', '148381579X']\n"
     ]
    }
   ],
   "source": [
    "usd_asins = usd_df['asin'].tolist()\n",
    "chosen_usd_asins = random.sample(usd_asins, 5)\n",
    "print(chosen_usd_asins)"
   ]
  },
  {
   "cell_type": "code",
   "execution_count": 13,
   "metadata": {},
   "outputs": [],
   "source": [
    "gbp_df = df[df['price.currency'] == 'GBP']"
   ]
  },
  {
   "cell_type": "code",
   "execution_count": 32,
   "metadata": {},
   "outputs": [
    {
     "name": "stdout",
     "output_type": "stream",
     "text": [
      "['1526632217', '024155067X', '1474612644', '152661717X', '1804940208']\n"
     ]
    }
   ],
   "source": [
    "gbp_asins = gbp_df['asin'].tolist()\n",
    "chosen_gbp_asins = random.sample(gbp_asins, 5)\n",
    "print(chosen_gbp_asins)"
   ]
  },
  {
   "cell_type": "code",
   "execution_count": 33,
   "metadata": {},
   "outputs": [],
   "source": [
    "aud_df = df[df['price.currency'] == 'AUD']"
   ]
  },
  {
   "cell_type": "code",
   "execution_count": 34,
   "metadata": {},
   "outputs": [
    {
     "name": "stdout",
     "output_type": "stream",
     "text": [
      "['0063078902', '146075266X', '1471156265', '1761290495', '0141033576']\n"
     ]
    }
   ],
   "source": [
    "aud_asins = aud_df['asin'].tolist()\n",
    "chosen_aud_asins = random.sample(aud_asins, 5)\n",
    "print(chosen_aud_asins)"
   ]
  }
 ],
 "metadata": {
  "kernelspec": {
   "display_name": "venv",
   "language": "python",
   "name": "python3"
  },
  "language_info": {
   "codemirror_mode": {
    "name": "ipython",
    "version": 3
   },
   "file_extension": ".py",
   "mimetype": "text/x-python",
   "name": "python",
   "nbconvert_exporter": "python",
   "pygments_lexer": "ipython3",
   "version": "3.12.3"
  }
 },
 "nbformat": 4,
 "nbformat_minor": 2
}
