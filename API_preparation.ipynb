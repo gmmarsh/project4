{
 "cells": [
  {
   "cell_type": "code",
   "execution_count": 1,
   "metadata": {},
   "outputs": [],
   "source": [
    "import requests\n",
    "import json\n",
    "from config import rainforest_api_key\n",
    "import pandas as pd\n",
    "import random"
   ]
  },
  {
   "cell_type": "code",
   "execution_count": 2,
   "metadata": {},
   "outputs": [],
   "source": [
    "bestsellers_data = []\n",
    "domains = ['amazon.com', 'amazon.co.uk', 'amazon.ca', 'amazon.com.au']\n",
    "for domain in domains:\n",
    "    try:\n",
    "        params = {\n",
    "            'api_key': rainforest_api_key,\n",
    "            'type': 'bestsellers',\n",
    "            'amazon_domain': domain,\n",
    "            'category_id': 'bestsellers_books',\n",
    "            'max_pages': '5'\n",
    "        }\n",
    "        response = requests.get('https://api.rainforestapi.com/request', params)\n",
    "        response.raise_for_status()  # Raise an exception if the request failed\n",
    "        domain_data = response.json()\n",
    "        bestsellers_data.append(domain_data)\n",
    "    except Exception as e:\n",
    "        print(f\"Failed to fetch data for ASIN {asin}: {e}\")"
   ]
  },
  {
   "cell_type": "code",
   "execution_count": 3,
   "metadata": {},
   "outputs": [],
   "source": [
    "# save the data to a json file\n",
    "with open('rainforest_data.json', 'w') as f:\n",
    "    json.dump(bestsellers_data, f)"
   ]
  },
  {
   "cell_type": "code",
   "execution_count": 4,
   "metadata": {},
   "outputs": [],
   "source": [
    "df = pd.json_normalize(bestsellers_data, record_path=['bestsellers'])"
   ]
  },
  {
   "cell_type": "code",
   "execution_count": 5,
   "metadata": {},
   "outputs": [
    {
     "data": {
      "text/plain": [
       "Index(['rank', 'position', 'title', 'asin', 'link', 'variant', 'image',\n",
       "       'rating', 'ratings_total', 'sub_title.text', 'sub_title.link',\n",
       "       'price.symbol', 'price.value', 'price.currency', 'price.raw',\n",
       "       'current_category.name', 'current_category.link', 'current_category.id',\n",
       "       'parent_category.name', 'parent_category.link', 'parent_category.id'],\n",
       "      dtype='object')"
      ]
     },
     "execution_count": 5,
     "metadata": {},
     "output_type": "execute_result"
    }
   ],
   "source": [
    "df.columns"
   ]
  },
  {
   "cell_type": "markdown",
   "metadata": {},
   "source": [
    "Isolate ASINs by Currency = Country"
   ]
  },
  {
   "cell_type": "code",
   "execution_count": 6,
   "metadata": {},
   "outputs": [],
   "source": [
    "cad_df = df[df['price.currency'] == 'CAD']"
   ]
  },
  {
   "cell_type": "code",
   "execution_count": 7,
   "metadata": {},
   "outputs": [
    {
     "name": "stdout",
     "output_type": "stream",
     "text": [
      "['0857197681', '1637589131', '144347004X', '0679805273', '1728235871', '1338896431', '0593385691', '0399226907', '1738325105', '1649374178']\n"
     ]
    }
   ],
   "source": [
    "cad_asins = cad_df['asin'].tolist()\n",
    "chosen_cad_asins = random.sample(cad_asins, 10)\n",
    "print(chosen_cad_asins)"
   ]
  },
  {
   "cell_type": "code",
   "execution_count": 8,
   "metadata": {},
   "outputs": [],
   "source": [
    "usd_df = df[df['price.currency'] == 'USD']"
   ]
  },
  {
   "cell_type": "code",
   "execution_count": 9,
   "metadata": {},
   "outputs": [
    {
     "name": "stdout",
     "output_type": "stream",
     "text": [
      "['1635575567', '1649374046', 'B095NP7FLT', '0140280197', '1668051354', '1070527718', '1732557101', '1492675377', '1635575583', '1538742578']\n"
     ]
    }
   ],
   "source": [
    "usd_asins = usd_df['asin'].tolist()\n",
    "chosen_usd_asins = random.sample(usd_asins, 10)\n",
    "print(chosen_usd_asins)"
   ]
  },
  {
   "cell_type": "code",
   "execution_count": 10,
   "metadata": {},
   "outputs": [],
   "source": [
    "gbp_df = df[df['price.currency'] == 'GBP']"
   ]
  },
  {
   "cell_type": "code",
   "execution_count": 11,
   "metadata": {},
   "outputs": [
    {
     "name": "stdout",
     "output_type": "stream",
     "text": [
      "['1471197611', '1444715445', '1474612644', '1471136728', '1529937647', '1474612717', '1837832439', '152992376X', '1405953195', '1405943505']\n"
     ]
    }
   ],
   "source": [
    "gbp_asins = gbp_df['asin'].tolist()\n",
    "chosen_gbp_asins = random.sample(gbp_asins, 10)\n",
    "print(chosen_gbp_asins)"
   ]
  },
  {
   "cell_type": "code",
   "execution_count": 12,
   "metadata": {},
   "outputs": [],
   "source": [
    "aud_df = df[df['price.currency'] == 'AUD']"
   ]
  },
  {
   "cell_type": "code",
   "execution_count": 13,
   "metadata": {},
   "outputs": [
    {
     "name": "stdout",
     "output_type": "stream",
     "text": [
      "['0349441561', '1761041118', '1863958533', '1921844779', '1526605392', '1408728516', '178633089X', '1338603450', 'B0CZKSCK6Q', '1761450301']\n"
     ]
    }
   ],
   "source": [
    "aud_asins = aud_df['asin'].tolist()\n",
    "chosen_aud_asins = random.sample(aud_asins, 10)\n",
    "print(chosen_aud_asins)"
   ]
  }
 ],
 "metadata": {
  "kernelspec": {
   "display_name": "venv",
   "language": "python",
   "name": "python3"
  },
  "language_info": {
   "codemirror_mode": {
    "name": "ipython",
    "version": 3
   },
   "file_extension": ".py",
   "mimetype": "text/x-python",
   "name": "python",
   "nbconvert_exporter": "python",
   "pygments_lexer": "ipython3",
   "version": "3.12.3"
  }
 },
 "nbformat": 4,
 "nbformat_minor": 2
}
