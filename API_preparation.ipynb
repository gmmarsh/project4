{
 "cells": [
  {
   "cell_type": "code",
   "execution_count": 1,
   "metadata": {},
   "outputs": [],
   "source": [
    "import requests\n",
    "import json\n",
    "from config import rainforest_api_key\n",
    "import pandas as pd\n",
    "import random"
   ]
  },
  {
   "cell_type": "code",
   "execution_count": 2,
   "metadata": {},
   "outputs": [],
   "source": [
    "bestsellers_data = []\n",
    "domains = ['amazon.com', 'amazon.co.uk', 'amazon.ca', 'amazon.com.au']\n",
    "for domain in domains:\n",
    "    try:\n",
    "        params = {\n",
    "            'api_key': rainforest_api_key,\n",
    "            'type': 'bestsellers',\n",
    "            'amazon_domain': domain,\n",
    "            'category_id': 'bestsellers_books',\n",
    "            'max_pages': '5'\n",
    "        }\n",
    "        response = requests.get('https://api.rainforestapi.com/request', params)\n",
    "        response.raise_for_status()  # Raise an exception if the request failed\n",
    "        domain_data = response.json()\n",
    "        bestsellers_data.append(domain_data)\n",
    "    except Exception as e:\n",
    "        print(f\"Failed to fetch data for ASIN {asin}: {e}\")"
   ]
  },
  {
   "cell_type": "code",
   "execution_count": 3,
   "metadata": {},
   "outputs": [],
   "source": [
    "# save the data to a json file\n",
    "with open('rainforest_data.json', 'w') as f:\n",
    "    json.dump(bestsellers_data, f)"
   ]
  },
  {
   "cell_type": "code",
   "execution_count": 4,
   "metadata": {},
   "outputs": [],
   "source": [
    "df = pd.json_normalize(bestsellers_data, record_path=['bestsellers'])"
   ]
  },
  {
   "cell_type": "code",
   "execution_count": 5,
   "metadata": {},
   "outputs": [
    {
     "data": {
      "text/plain": [
       "Index(['rank', 'position', 'title', 'asin', 'link', 'variant', 'image',\n",
       "       'rating', 'ratings_total', 'sub_title.text', 'sub_title.link',\n",
       "       'price.symbol', 'price.value', 'price.currency', 'price.raw',\n",
       "       'current_category.name', 'current_category.link', 'current_category.id',\n",
       "       'parent_category.name', 'parent_category.link', 'parent_category.id'],\n",
       "      dtype='object')"
      ]
     },
     "execution_count": 5,
     "metadata": {},
     "output_type": "execute_result"
    }
   ],
   "source": [
    "df.columns"
   ]
  },
  {
   "cell_type": "markdown",
   "metadata": {},
   "source": [
    "Isolate ASINs by Currency = Country"
   ]
  },
  {
   "cell_type": "code",
   "execution_count": 6,
   "metadata": {},
   "outputs": [],
   "source": [
    "cad_df = df[df['price.currency'] == 'CAD']"
   ]
  },
  {
   "cell_type": "code",
   "execution_count": 7,
   "metadata": {},
   "outputs": [
    {
     "name": "stdout",
     "output_type": "stream",
     "text": [
      "['1492667838', '152478589X', '1682689476', '0735247269', '0679805273', '144347004X', '0593655036', '059379625X', '1546171460', '1639730192', '0316565075', '0920668364', '1728235871', '0857197681', '1070527718', '1464221138', '0593519655', '0735211299', '0593385691', '0143127748', '0140280197', '1949759229', '000864604X', '0385545991', '0735242062', '1338896431', '1668037718', '1637589131', '1649374186', '0593542924', '1445724324', '1538742578', 'B0D3Q5DCGW', 'B0CP465ZPP', '1665955430', '1635575567', '0812968255', '1538724731', '1649374178', '0307118398', '1668001225', 'B0D6FJD8CY', '1998841081', '1338603450', '0399226907', '1847941834', '1984862057', '1668051354', '0358306639', '1732557101']\n"
     ]
    }
   ],
   "source": [
    "cad_asins = cad_df['asin'].tolist()\n",
    "print(cad_asins)"
   ]
  },
  {
   "cell_type": "code",
   "execution_count": 8,
   "metadata": {},
   "outputs": [],
   "source": [
    "usd_df = df[df['price.currency'] == 'USD']"
   ]
  },
  {
   "cell_type": "code",
   "execution_count": 9,
   "metadata": {},
   "outputs": [
    {
     "name": "stdout",
     "output_type": "stream",
     "text": [
      "['1070527718', '0063389428', '0316565075', '1464221138', '1250178630', '0316258873', '1492667838', '0593655036', '0679805273', '1732557101', '1546171460', '1538742578', '0471138134', '0735211299', '1483815811', '152478589X', '1483815803', '1087852714', '0140280197', '1668037718', '1728235871', '148381582X', '1952568137', '1483815838', '0385348746', '166802781X', '0385545991', '1483815846', 'B095NP7FLT', '1635575567', '0349132615', '1638931798', '1483815854', '148381579X', '0143127748', '1081439793', '059379625X', '1538704439', '195096888X', '1668051354', '1501110365', '1649374178', '1635575583', '0385410956', '1250080401', '1483815862', '1635575605', '1878424319', '0857197681']\n"
     ]
    }
   ],
   "source": [
    "usd_asins = usd_df['asin'].tolist()\n",
    "print(usd_asins)\n"
   ]
  },
  {
   "cell_type": "code",
   "execution_count": 10,
   "metadata": {},
   "outputs": [],
   "source": [
    "gbp_df = df[df['price.currency'] == 'GBP']"
   ]
  },
  {
   "cell_type": "code",
   "execution_count": 11,
   "metadata": {},
   "outputs": [
    {
     "name": "stdout",
     "output_type": "stream",
     "text": [
      "['1529937647', '1035054566', '0711295085', '1529922860', '1837832439', '0753560364', '1529160227', '0241992400', '024155067X', '1804940208', '0008532818', '1399620053', '1471156265', '1035044412', '1529087082', '1464223319', '1800818025', '1526664100', '1405953195', '1526605392', '1398518204', '1529907497', '0241558573', '1526617161', '1444715445', '1780724136', '1405943505', '070234057X', '1847941834', '1529906105', '1408728516', '0241984408', '0349437017', '1408726602', '1405297816', '0115539956', '1399725092', '152911554X', '1529927390', '1780722400', '0349437025', '0007251947', '1780723628', '0241003008', '1526672529', '1472249496', '1840228024', '0241608368', '1509836314', '152661717X']\n"
     ]
    }
   ],
   "source": [
    "gbp_asins = gbp_df['asin'].tolist()\n",
    "print(gbp_asins)"
   ]
  },
  {
   "cell_type": "code",
   "execution_count": 12,
   "metadata": {},
   "outputs": [],
   "source": [
    "aud_df = df[df['price.currency'] == 'AUD']"
   ]
  },
  {
   "cell_type": "code",
   "execution_count": 13,
   "metadata": {},
   "outputs": [
    {
     "name": "stdout",
     "output_type": "stream",
     "text": [
      "['1761561839', '1760980137', '1761527975', '1847941834', '0241694906', '1398530123', '176142081X', '0349441588', '1509836314', '1760266094', '024150970X', '0141978619', '0349437033', '1761450301', '1338603450', '1526605392', '073039753X', '1398529486', '1408728516', '1464223319', '178633089X', '1761560123', '0063078902', '0349441561', '0008710236', '1526617161', '1338896431', '1984862057', '0008623007', '0140449337', '1761048627', '1861972784', '146075266X', '1761429310', '0141033576', '1847941494', '1035040972', '1921844779', '0143778919', 'B09CGGV8DX', '0241624142', '1408728907', '176134451X', '141977378X', '139871948X', '035651949X', '0349433844', '0241988268', '031648623X', 'B0D3Q5DCGW']\n"
     ]
    }
   ],
   "source": [
    "aud_asins = aud_df['asin'].tolist()\n",
    "print(aud_asins)"
   ]
  }
 ],
 "metadata": {
  "kernelspec": {
   "display_name": "venv",
   "language": "python",
   "name": "python3"
  },
  "language_info": {
   "codemirror_mode": {
    "name": "ipython",
    "version": 3
   },
   "file_extension": ".py",
   "mimetype": "text/x-python",
   "name": "python",
   "nbconvert_exporter": "python",
   "pygments_lexer": "ipython3",
   "version": "3.12.3"
  }
 },
 "nbformat": 4,
 "nbformat_minor": 2
}
