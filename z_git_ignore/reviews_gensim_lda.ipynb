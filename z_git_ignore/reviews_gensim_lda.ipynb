{
 "cells": [
  {
   "cell_type": "code",
<<<<<<< HEAD
   "execution_count": 2,
=======
   "execution_count": 1,
>>>>>>> main
   "metadata": {},
   "outputs": [],
   "source": [
    "import pandas as pd\n",
    "df = pd.read_csv('reviews.csv')"
   ]
  },
  {
   "cell_type": "code",
<<<<<<< HEAD
   "execution_count": 3,
=======
   "execution_count": 2,
>>>>>>> main
   "metadata": {},
   "outputs": [
    {
     "data": {
      "text/plain": [
       "13"
      ]
     },
<<<<<<< HEAD
     "execution_count": 3,
=======
     "execution_count": 2,
>>>>>>> main
     "metadata": {},
     "output_type": "execute_result"
    }
   ],
   "source": [
    "# check for duplicates in id column\n",
    "df['id'].duplicated().sum()"
   ]
  },
  {
   "cell_type": "code",
<<<<<<< HEAD
   "execution_count": 4,
=======
   "execution_count": 3,
>>>>>>> main
   "metadata": {},
   "outputs": [
    {
     "data": {
      "text/plain": [
       "616    R2YFM3DW9ZPKAV\n",
       "626    R2RXKVD3AWSP2L\n",
       "630    R3CLJT1O2XDK28\n",
       "633    R1SU9GHKMF2PXN\n",
       "635    R1PXSZE8MH4HCZ\n",
       "638    R2J2XFTAAEL50V\n",
       "641    R1MXD3GZKHTAKE\n",
       "642    R33O38DNX0P4DD\n",
       "880     R4P0HPOPSRECI\n",
       "881    R366Y3EP4BFRMK\n",
       "882     RUPX3V2E7K6B8\n",
       "883     R5DM8A2UO2Z9N\n",
       "884    R3SGPS32AFOG6R\n",
       "Name: id, dtype: object"
      ]
     },
<<<<<<< HEAD
     "execution_count": 4,
=======
     "execution_count": 3,
>>>>>>> main
     "metadata": {},
     "output_type": "execute_result"
    }
   ],
   "source": [
    "# list the duplicate ids\n",
    "df[df['id'].duplicated()]['id']"
   ]
  },
  {
   "cell_type": "code",
<<<<<<< HEAD
   "execution_count": 5,
=======
   "execution_count": 4,
>>>>>>> main
   "metadata": {},
   "outputs": [],
   "source": [
    "# drop duplicates\n",
    "df.drop_duplicates(subset='id', inplace=True)"
   ]
  },
  {
   "cell_type": "code",
<<<<<<< HEAD
   "execution_count": 6,
=======
   "execution_count": 5,
>>>>>>> main
   "metadata": {},
   "outputs": [
    {
     "data": {
      "text/html": [
       "<div>\n",
       "<style scoped>\n",
       "    .dataframe tbody tr th:only-of-type {\n",
       "        vertical-align: middle;\n",
       "    }\n",
       "\n",
       "    .dataframe tbody tr th {\n",
       "        vertical-align: top;\n",
       "    }\n",
       "\n",
       "    .dataframe thead th {\n",
       "        text-align: right;\n",
       "    }\n",
       "</style>\n",
       "<table border=\"1\" class=\"dataframe\">\n",
       "  <thead>\n",
       "    <tr style=\"text-align: right;\">\n",
       "      <th></th>\n",
       "      <th>id</th>\n",
       "      <th>title</th>\n",
       "      <th>body</th>\n",
       "      <th>asin</th>\n",
       "      <th>body_html</th>\n",
       "      <th>link</th>\n",
       "      <th>rating</th>\n",
       "      <th>vine_program</th>\n",
       "      <th>verified_purchase</th>\n",
       "      <th>helpful_votes</th>\n",
       "      <th>...</th>\n",
       "      <th>date.raw</th>\n",
       "      <th>date.utc</th>\n",
       "      <th>profile.name</th>\n",
       "      <th>profile.link</th>\n",
       "      <th>profile.id</th>\n",
       "      <th>profile.image</th>\n",
       "      <th>images</th>\n",
       "      <th>videos</th>\n",
       "      <th>attributes</th>\n",
       "      <th>attributes_flat</th>\n",
       "    </tr>\n",
       "  </thead>\n",
       "  <tbody>\n",
       "    <tr>\n",
       "      <th>66</th>\n",
       "      <td>R2YFM3DW9ZPKAV</td>\n",
       "      <td>Good activity book</td>\n",
       "      <td>Cute pictures and great quality book</td>\n",
       "      <td>0593385691</td>\n",
       "      <td>&lt;span&gt;Cute pictures and great quality book&lt;/span&gt;</td>\n",
       "      <td>https://www.amazon.ca/gp/customer-reviews/R2YF...</td>\n",
       "      <td>5</td>\n",
       "      <td>False</td>\n",
       "      <td>True</td>\n",
       "      <td>NaN</td>\n",
       "      <td>...</td>\n",
       "      <td>Reviewed in Canada on March 26, 2024</td>\n",
       "      <td>2024-03-26T00:00:00.000Z</td>\n",
       "      <td>Magskywei</td>\n",
       "      <td>https://www.amazon.ca/gp/profile/amzn1.account...</td>\n",
       "      <td>AEB3ND3DRYZCTFEJK6YAX6UTB5HA</td>\n",
       "      <td>NaN</td>\n",
       "      <td>NaN</td>\n",
       "      <td>NaN</td>\n",
       "      <td>NaN</td>\n",
       "      <td>NaN</td>\n",
       "    </tr>\n",
       "  </tbody>\n",
       "</table>\n",
       "<p>1 rows × 24 columns</p>\n",
       "</div>"
      ],
      "text/plain": [
       "                id               title                                  body  \\\n",
       "66  R2YFM3DW9ZPKAV  Good activity book  Cute pictures and great quality book   \n",
       "\n",
       "          asin                                          body_html  \\\n",
       "66  0593385691  <span>Cute pictures and great quality book</span>   \n",
       "\n",
       "                                                 link  rating  vine_program  \\\n",
       "66  https://www.amazon.ca/gp/customer-reviews/R2YF...       5         False   \n",
       "\n",
       "    verified_purchase  helpful_votes  ...  \\\n",
       "66               True            NaN  ...   \n",
       "\n",
       "                                date.raw                  date.utc  \\\n",
       "66  Reviewed in Canada on March 26, 2024  2024-03-26T00:00:00.000Z   \n",
       "\n",
       "    profile.name                                       profile.link  \\\n",
       "66     Magskywei  https://www.amazon.ca/gp/profile/amzn1.account...   \n",
       "\n",
       "                      profile.id profile.image images videos attributes  \\\n",
       "66  AEB3ND3DRYZCTFEJK6YAX6UTB5HA           NaN    NaN    NaN        NaN   \n",
       "\n",
       "   attributes_flat  \n",
       "66             NaN  \n",
       "\n",
       "[1 rows x 24 columns]"
      ]
     },
<<<<<<< HEAD
     "execution_count": 6,
=======
     "execution_count": 5,
>>>>>>> main
     "metadata": {},
     "output_type": "execute_result"
    }
   ],
   "source": [
    "# view id R2YFM3DW9ZPKAV to see if it was dropped\n",
    "df[df['id'] == 'R2YFM3DW9ZPKAV']"
   ]
  },
  {
   "cell_type": "code",
<<<<<<< HEAD
   "execution_count": 7,
=======
   "execution_count": 6,
>>>>>>> main
   "metadata": {},
   "outputs": [
    {
     "data": {
      "text/plain": [
       "1"
      ]
     },
<<<<<<< HEAD
     "execution_count": 7,
=======
     "execution_count": 6,
>>>>>>> main
     "metadata": {},
     "output_type": "execute_result"
    }
   ],
   "source": [
    "# check for null values in body column\n",
    "df['body'].isnull().sum()"
   ]
  },
  {
   "cell_type": "code",
<<<<<<< HEAD
   "execution_count": 8,
=======
   "execution_count": 7,
>>>>>>> main
   "metadata": {},
   "outputs": [
    {
     "data": {
      "text/plain": [
       "0"
      ]
     },
<<<<<<< HEAD
     "execution_count": 8,
=======
     "execution_count": 7,
>>>>>>> main
     "metadata": {},
     "output_type": "execute_result"
    }
   ],
   "source": [
    "#check for null values in title column\n",
    "df['title'].isnull().sum()"
   ]
  },
  {
   "cell_type": "code",
<<<<<<< HEAD
   "execution_count": 9,
=======
   "execution_count": 8,
>>>>>>> main
   "metadata": {},
   "outputs": [],
   "source": [
    "df['title_body'] = df['title'] + ' ' + df['body']"
   ]
  },
  {
   "cell_type": "code",
<<<<<<< HEAD
   "execution_count": 13,
=======
   "execution_count": 11,
>>>>>>> main
   "metadata": {},
   "outputs": [],
   "source": [
    "# string\n",
<<<<<<< HEAD
    "docs = df['title_body'].astype(str)"
=======
    "docs = df['title_body'].astype(str).tolist()"
   ]
  },
  {
   "cell_type": "code",
   "execution_count": 12,
   "metadata": {},
   "outputs": [
    {
     "name": "stdout",
     "output_type": "stream",
     "text": [
      "<class 'list'>\n",
      "<class 'str'>\n"
     ]
    }
   ],
   "source": [
    "print(type(docs))\n",
    "print(type(docs[0]))"
   ]
  },
  {
   "cell_type": "code",
   "execution_count": 14,
   "metadata": {},
   "outputs": [],
   "source": [
    "# save the docs to a file\n",
    "with open('docs.txt', 'w') as f:\n",
    "    for doc in docs:\n",
    "        f.write(doc + '\\n')"
>>>>>>> main
   ]
  },
  {
   "cell_type": "markdown",
   "metadata": {},
   "source": [
    "Preprocessing with SPACY"
   ]
  },
  {
   "cell_type": "code",
<<<<<<< HEAD
   "execution_count": 14,
=======
   "execution_count": 10,
>>>>>>> main
   "metadata": {},
   "outputs": [],
   "source": [
    "import spacy\n",
    "nlp = spacy.load('en_core_web_sm')"
   ]
  },
  {
   "cell_type": "code",
<<<<<<< HEAD
   "execution_count": 15,
=======
   "execution_count": 11,
>>>>>>> main
   "metadata": {},
   "outputs": [],
   "source": [
    "# tokenize\n",
    "docs = docs.apply(nlp)"
   ]
  },
  {
   "cell_type": "code",
<<<<<<< HEAD
   "execution_count": 16,
=======
   "execution_count": 12,
>>>>>>> main
   "metadata": {},
   "outputs": [],
   "source": [
    "# stop words\n",
    "from spacy.lang.en.stop_words import STOP_WORDS\n",
    "\n",
    "# remove stop words\n",
    "docs = docs.apply(lambda x: [token for token in x if not token.is_stop])"
   ]
  },
  {
   "cell_type": "code",
<<<<<<< HEAD
   "execution_count": 17,
=======
   "execution_count": 13,
>>>>>>> main
   "metadata": {},
   "outputs": [],
   "source": [
    "# lemmatize the text\n",
    "\n",
    "docs = docs.apply(lambda x: [token.lemma_ for token in x])"
   ]
  },
  {
   "cell_type": "code",
<<<<<<< HEAD
   "execution_count": 18,
   "metadata": {},
   "outputs": [
    {
     "data": {
      "text/plain": [
       "0      [financial, intelligence, Great, ,, great, rea...\n",
       "1      [Unlock, psychology, personal, finance, \", psy...\n",
       "2      [quick, review, decision, make, money, like, b...\n",
       "3      [wish, read, book, soon, investor, solid, book...\n",
       "4      [read, book, timeless, lesson, great, insight,...\n",
       "                             ...                        \n",
       "877    [product, look, disappointed, quality, product...\n",
       "878    [worth, money, piece, LEGO, come, piece, build...\n",
       "879    [terrible, ., gearbot, gear, ., little, Lego, ...\n",
       "885    [beautiful, book, easy, recipe, beautiful, boo...\n",
       "886    [great, inspiration, great, meal, inspiration,...\n",
       "Name: title_body, Length: 874, dtype: object"
      ]
     },
     "execution_count": 18,
     "metadata": {},
     "output_type": "execute_result"
    }
   ],
   "source": [
    "docs"
   ]
  },
  {
   "cell_type": "code",
   "execution_count": 20,
=======
   "execution_count": 14,
>>>>>>> main
   "metadata": {},
   "outputs": [],
   "source": [
    "# remove punctuation and non-alphabetic characters\n",
    "docs = docs.apply(lambda x: [token for token in x if token.isalpha()])"
   ]
  },
  {
   "cell_type": "code",
<<<<<<< HEAD
   "execution_count": 21,
=======
   "execution_count": 15,
>>>>>>> main
   "metadata": {},
   "outputs": [],
   "source": [
    "# lower case\n",
    "docs = docs.apply(lambda x: [token.lower() for token in x])"
   ]
  },
  {
   "cell_type": "code",
<<<<<<< HEAD
   "execution_count": 22,
=======
   "execution_count": 16,
>>>>>>> main
   "metadata": {},
   "outputs": [],
   "source": [
    "from gensim import corpora, models\n",
    "from gensim.models import CoherenceModel"
   ]
  },
  {
   "cell_type": "code",
<<<<<<< HEAD
   "execution_count": 23,
=======
   "execution_count": 17,
>>>>>>> main
   "metadata": {},
   "outputs": [],
   "source": [
    "dictionary = corpora.Dictionary(docs)"
   ]
  },
  {
   "cell_type": "code",
<<<<<<< HEAD
   "execution_count": 24,
=======
   "execution_count": 18,
>>>>>>> main
   "metadata": {},
   "outputs": [],
   "source": [
    "corpus = [dictionary.doc2bow(doc) for doc in docs]"
   ]
  },
  {
   "cell_type": "markdown",
   "metadata": {},
   "source": [
    "Model "
   ]
  },
  {
   "cell_type": "code",
<<<<<<< HEAD
   "execution_count": 25,
=======
   "execution_count": 19,
>>>>>>> main
   "metadata": {},
   "outputs": [],
   "source": [
    "# Calculate coherence scores for different numbers of topics\n",
    "coherence_scores = []\n",
    "for num_topics in range(2, 50, 2):\n",
    "    lda_model = models.LdaModel(corpus, num_topics=num_topics, id2word=dictionary)\n",
    "    coherence_model = CoherenceModel(model=lda_model, texts=docs, dictionary=dictionary, coherence='c_v')\n",
    "    coherence_score = coherence_model.get_coherence()\n",
    "    coherence_scores.append(coherence_score)\n",
    "\n",
    "# Find the number of topics with the highest coherence score\n",
    "optimal_num_topics = range(2, 50, 2)[coherence_scores.index(max(coherence_scores))]\n",
    "\n",
    "# Create the LDA model with the optimal number of topics\n",
    "lda_model = models.LdaModel(corpus, num_topics=optimal_num_topics, id2word=dictionary, passes=15)"
   ]
  },
  {
   "cell_type": "code",
<<<<<<< HEAD
   "execution_count": 27,
=======
   "execution_count": 20,
>>>>>>> main
   "metadata": {},
   "outputs": [
    {
     "name": "stderr",
     "output_type": "stream",
     "text": [
<<<<<<< HEAD
      "/Users/grahammarsh/Documents/GitHub/project4/venv/lib/python3.12/site-packages/joblib/externals/loky/backend/fork_exec.py:38: DeprecationWarning: This process (pid=84057) is multi-threaded, use of fork() may lead to deadlocks in the child.\n",
      "  pid = os.fork()\n",
      "/Users/grahammarsh/Documents/GitHub/project4/venv/lib/python3.12/site-packages/joblib/externals/loky/backend/fork_exec.py:38: DeprecationWarning: This process (pid=84057) is multi-threaded, use of fork() may lead to deadlocks in the child.\n",
      "  pid = os.fork()\n",
      "/Users/grahammarsh/Documents/GitHub/project4/venv/lib/python3.12/site-packages/joblib/externals/loky/backend/fork_exec.py:38: DeprecationWarning: This process (pid=84057) is multi-threaded, use of fork() may lead to deadlocks in the child.\n",
      "  pid = os.fork()\n",
      "/Users/grahammarsh/Documents/GitHub/project4/venv/lib/python3.12/site-packages/joblib/externals/loky/backend/fork_exec.py:38: DeprecationWarning: This process (pid=84057) is multi-threaded, use of fork() may lead to deadlocks in the child.\n",
      "  pid = os.fork()\n",
      "/Users/grahammarsh/Documents/GitHub/project4/venv/lib/python3.12/site-packages/joblib/externals/loky/backend/fork_exec.py:38: DeprecationWarning: This process (pid=84057) is multi-threaded, use of fork() may lead to deadlocks in the child.\n",
      "  pid = os.fork()\n",
      "/Users/grahammarsh/Documents/GitHub/project4/venv/lib/python3.12/site-packages/joblib/externals/loky/backend/fork_exec.py:38: DeprecationWarning: This process (pid=84057) is multi-threaded, use of fork() may lead to deadlocks in the child.\n",
      "  pid = os.fork()\n",
      "/Users/grahammarsh/Documents/GitHub/project4/venv/lib/python3.12/site-packages/joblib/externals/loky/backend/fork_exec.py:38: DeprecationWarning: This process (pid=84057) is multi-threaded, use of fork() may lead to deadlocks in the child.\n",
      "  pid = os.fork()\n",
      "/Users/grahammarsh/Documents/GitHub/project4/venv/lib/python3.12/site-packages/joblib/externals/loky/backend/fork_exec.py:38: DeprecationWarning: This process (pid=84057) is multi-threaded, use of fork() may lead to deadlocks in the child.\n",
      "  pid = os.fork()\n",
      "/Users/grahammarsh/Documents/GitHub/project4/venv/lib/python3.12/site-packages/joblib/externals/loky/backend/fork_exec.py:38: DeprecationWarning: This process (pid=84057) is multi-threaded, use of fork() may lead to deadlocks in the child.\n",
=======
      "/Users/grahammarsh/Documents/GitHub/project4/venv/lib/python3.12/site-packages/joblib/externals/loky/backend/fork_exec.py:38: DeprecationWarning: This process (pid=91999) is multi-threaded, use of fork() may lead to deadlocks in the child.\n",
      "  pid = os.fork()\n",
      "/Users/grahammarsh/Documents/GitHub/project4/venv/lib/python3.12/site-packages/joblib/externals/loky/backend/fork_exec.py:38: DeprecationWarning: This process (pid=91999) is multi-threaded, use of fork() may lead to deadlocks in the child.\n",
      "  pid = os.fork()\n",
      "/Users/grahammarsh/Documents/GitHub/project4/venv/lib/python3.12/site-packages/joblib/externals/loky/backend/fork_exec.py:38: DeprecationWarning: This process (pid=91999) is multi-threaded, use of fork() may lead to deadlocks in the child.\n",
      "  pid = os.fork()\n",
      "/Users/grahammarsh/Documents/GitHub/project4/venv/lib/python3.12/site-packages/joblib/externals/loky/backend/fork_exec.py:38: DeprecationWarning: This process (pid=91999) is multi-threaded, use of fork() may lead to deadlocks in the child.\n",
      "  pid = os.fork()\n",
      "/Users/grahammarsh/Documents/GitHub/project4/venv/lib/python3.12/site-packages/joblib/externals/loky/backend/fork_exec.py:38: DeprecationWarning: This process (pid=91999) is multi-threaded, use of fork() may lead to deadlocks in the child.\n",
      "  pid = os.fork()\n",
      "/Users/grahammarsh/Documents/GitHub/project4/venv/lib/python3.12/site-packages/joblib/externals/loky/backend/fork_exec.py:38: DeprecationWarning: This process (pid=91999) is multi-threaded, use of fork() may lead to deadlocks in the child.\n",
      "  pid = os.fork()\n",
      "/Users/grahammarsh/Documents/GitHub/project4/venv/lib/python3.12/site-packages/joblib/externals/loky/backend/fork_exec.py:38: DeprecationWarning: This process (pid=91999) is multi-threaded, use of fork() may lead to deadlocks in the child.\n",
      "  pid = os.fork()\n",
      "/Users/grahammarsh/Documents/GitHub/project4/venv/lib/python3.12/site-packages/joblib/externals/loky/backend/fork_exec.py:38: DeprecationWarning: This process (pid=91999) is multi-threaded, use of fork() may lead to deadlocks in the child.\n",
      "  pid = os.fork()\n",
      "/Users/grahammarsh/Documents/GitHub/project4/venv/lib/python3.12/site-packages/joblib/externals/loky/backend/fork_exec.py:38: DeprecationWarning: This process (pid=91999) is multi-threaded, use of fork() may lead to deadlocks in the child.\n",
>>>>>>> main
      "  pid = os.fork()\n"
     ]
    },
    {
     "data": {
      "text/html": [
       "\n",
       "<link rel=\"stylesheet\" type=\"text/css\" href=\"https://cdn.jsdelivr.net/gh/bmabey/pyLDAvis@3.4.0/pyLDAvis/js/ldavis.v1.0.0.css\">\n",
       "\n",
       "\n",
<<<<<<< HEAD
       "<div id=\"ldavis_el84057133752891685391990837\" style=\"background-color:white;\"></div>\n",
       "<script type=\"text/javascript\">\n",
       "\n",
       "var ldavis_el84057133752891685391990837_data = {\"mdsDat\": {\"x\": [0.061283530653463585, -0.061283530653463585], \"y\": [0.0, 0.0], \"topics\": [1, 2], \"cluster\": [1, 1], \"Freq\": [59.383976818568215, 40.616023181431785]}, \"tinfo\": {\"Term\": [\"feyre\", \"violet\", \"great\", \"dragon\", \"world\", \"rhys\", \"court\", \"recipe\", \"read\", \"tamlin\", \"rider\", \"fantasy\", \"power\", \"free\", \"becky\", \"bluey\", \"wing\", \"maas\", \"gluten\", \"sarah\", \"law\", \"fourth\", \"good\", \"de\", \"fae\", \"miles\", \"tate\", \"xaden\", \"acotar\", \"dad\", \"recipe\", \"becky\", \"free\", \"gluten\", \"miles\", \"tate\", \"serial\", \"fryer\", \"cook\", \"rachel\", \"excell\", \"rowan\", \"hoover\", \"colleen\", \"ptsd\", \"brilliant\", \"favourite\", \"lovely\", \"sloane\", \"david\", \"forward\", \"coeliac\", \"humour\", \"nicholls\", \"richard\", \"recovery\", \"finance\", \"mile\", \"holiday\", \"incredible\", \"dad\", \"joke\", \"louise\", \"great\", \"trauma\", \"air\", \"money\", \"killer\", \"read\", \"recommend\", \"good\", \"book\", \"easy\", \"need\", \"enjoy\", \"hard\", \"thank\", \"love\", \"write\", \"work\", \"story\", \"feel\", \"know\", \"wait\", \"life\", \"think\", \"way\", \"find\", \"like\", \"go\", \"character\", \"time\", \"end\", \"day\", \"get\", \"want\", \"help\", \"thing\", \"look\", \"series\", \"de\", \"rhys\", \"que\", \"mist\", \"bluey\", \"fury\", \"y\", \"en\", \"dynamic\", \"cadet\", \"quadrant\", \"greene\", \"vivid\", \"para\", \"mortal\", \"smell\", \"\\u1d1b\\u029c\\u1d07\", \"laws\", \"es\", \"el\", \"law\", \"college\", \"section\", \"rebecca\", \"acomaf\", \"libro\", \"bone\", \"\\u00e0\", \"topic\", \"amren\", \"violet\", \"rider\", \"wing\", \"bond\", \"dragon\", \"feyre\", \"power\", \"fourth\", \"xaden\", \"court\", \"world\", \"sarah\", \"fantasy\", \"acotar\", \"tamlin\", \"maas\", \"fae\", \"building\", \"like\", \"character\", \"book\", \"series\", \"create\", \"time\", \"love\", \"new\", \"page\", \"reader\", \"story\", \"read\", \"want\", \"think\", \"thing\", \"feel\", \"find\", \"way\", \"go\", \"know\", \"start\"], \"Freq\": [212.0, 76.0, 233.0, 87.0, 137.0, 52.0, 111.0, 85.0, 634.0, 126.0, 49.0, 90.0, 58.0, 64.0, 58.0, 34.0, 39.0, 93.0, 51.0, 48.0, 30.0, 38.0, 293.0, 25.0, 62.0, 43.0, 42.0, 36.0, 44.0, 60.0, 85.0724360624253, 58.36413599454996, 64.3547850847727, 50.595962599367034, 42.81700973114065, 41.95401848781319, 28.08638549709643, 26.377475617490287, 20.298008981775332, 18.598481884757376, 18.593046905389137, 18.58349336754153, 18.581793112180627, 18.5765901848316, 33.759642884008585, 43.040448096156446, 24.423510048914974, 16.828756862757423, 14.262229422432263, 15.936389877022886, 27.659024487825345, 13.39354779657076, 14.216354635514463, 14.194293639775925, 16.675167614971482, 11.67051193272584, 11.670174800546985, 11.660495020563136, 13.317180790549672, 12.476910212851843, 57.73161181136113, 27.3985657987884, 44.45503720528045, 215.07197610954387, 56.94115214822775, 33.579138520887234, 24.669800429759956, 27.816241920012317, 521.4509984757086, 93.17113326198094, 244.31566778266327, 1064.8225588943783, 101.3353245899279, 95.66283487195979, 93.35943690806252, 55.619547304815164, 50.964823148649785, 427.72682833352275, 116.37375488160853, 57.73485762073678, 198.50032120850145, 155.8843736061591, 139.8081833334102, 73.99654940197678, 93.94883152350425, 141.76901413908223, 128.65930682651583, 126.34061969939039, 221.42187675222863, 121.62240377565361, 192.52674764422082, 141.50366338483522, 86.71552781648124, 83.78259461615835, 98.51795037627986, 105.27559706510219, 73.59932304737686, 89.73094310433784, 77.1007282357991, 85.94133222694607, 24.76829310149076, 51.24587912602649, 18.76157556346999, 20.372248599450757, 33.09313198496681, 20.349623461692936, 13.552185009098794, 12.692441752668016, 12.624290836967079, 12.579117422635914, 13.38704825515169, 9.199893486772936, 9.1903567107146, 8.324572863921983, 8.299803598576418, 8.287656037738872, 7.447470958165848, 7.447193958442571, 7.446278112510655, 7.446031557802009, 28.945656553524923, 9.901136004248844, 7.421263290653645, 10.717134266543086, 10.691309906756066, 6.5698440006819885, 6.563927685871674, 6.561650298957597, 7.366471747192264, 7.347721610968717, 70.02571371269713, 45.9743877291896, 36.00732079981484, 19.92319761021539, 75.679662370702, 171.74929932675008, 50.234765253247566, 33.09701497207869, 31.09040102713886, 85.67650352618813, 102.31218656838223, 39.38201391858249, 67.33962094385475, 35.37766998379171, 87.47725127678854, 64.62711188428516, 45.15897640684955, 20.223257685229793, 162.34198545259576, 135.49853020797823, 395.8891624161655, 81.27898169229064, 23.02675042327595, 92.49382307243455, 172.49269271743253, 52.12713952132198, 52.994848391416724, 51.17144954993127, 82.08217108810169, 112.57494745821424, 59.05029991318462, 65.03610122705567, 55.511315513499106, 62.13015352829908, 57.87077020865331, 57.27469475368295, 55.636744980987714, 53.86751231241722, 50.14960306084722], \"Total\": [212.0, 76.0, 233.0, 87.0, 137.0, 52.0, 111.0, 85.0, 634.0, 126.0, 49.0, 90.0, 58.0, 64.0, 58.0, 34.0, 39.0, 93.0, 51.0, 48.0, 30.0, 38.0, 293.0, 25.0, 62.0, 43.0, 42.0, 36.0, 44.0, 60.0, 85.66738561334026, 58.84226674538776, 64.89958776618985, 51.05451698744183, 43.26692974462047, 42.401627893128335, 28.557411267419504, 26.826598976022723, 20.76991029581833, 19.039007084537044, 19.039034520995628, 19.03913220875418, 19.03917811223445, 19.039226482004235, 34.61888729138816, 44.13939371497513, 25.098671046049954, 17.30875174686809, 14.712678106104663, 16.443785118332634, 28.561698833349897, 13.847452363727665, 14.713097209876148, 14.713334005600828, 17.310382382192977, 12.116852255074571, 12.11681430131305, 12.116823927978302, 13.848226942015916, 12.982591736729454, 60.60381295824498, 28.56517646082044, 46.75211081410478, 233.87307429299017, 60.6141095852452, 35.49698416126346, 25.97151321493292, 29.436750941662417, 634.0259459339229, 105.72797691227379, 293.9916901562578, 1460.711721310544, 117.89533030952553, 110.95601754360165, 109.23346354358472, 62.386012197360934, 57.18745573223243, 600.2195210509553, 144.00242398684153, 66.74254224727434, 280.58249229660316, 218.01452713445818, 193.67569564582743, 91.07861824687959, 122.38121906906481, 206.8051153661379, 185.93400158019878, 184.2113899080437, 383.76386220482436, 177.2591487566413, 328.02527785219905, 233.99748645726976, 118.09434395008766, 114.62616343582883, 145.99963584292047, 164.3258969782868, 97.22361028632542, 145.24225861783694, 113.84001107195056, 167.22031391923673, 25.423093548800736, 52.602262674603246, 19.285805566212023, 21.037342980142917, 34.18731736651669, 21.037038209160045, 14.024086369354077, 13.147627614229553, 13.146299151420605, 13.145794200125913, 14.02179499317549, 9.639658287614257, 9.63937029869748, 8.762596544895873, 8.762113977055675, 8.761645501305408, 7.885565923987622, 7.885556094218856, 7.885502370794643, 7.885520979301346, 30.669081177474357, 10.513867901534782, 7.8848527373087745, 11.389802491293942, 11.389348285727783, 7.00847289594341, 7.008353731311983, 7.008322295987166, 7.883394984614697, 7.883686203378884, 76.21641134601163, 49.93512566003952, 39.41767074615079, 21.895498572063538, 87.5407240379218, 212.56571708736683, 58.644002054037045, 38.512728914660684, 36.75527279839445, 111.9022492309395, 137.21863053134274, 48.115052312420815, 90.02369386734043, 44.60015132899731, 126.63596530337222, 93.44848347690304, 62.037046512859774, 24.495041645305147, 383.76386220482436, 328.02527785219905, 1460.711721310544, 167.22031391923673, 29.72395850694319, 233.99748645726976, 600.2195210509553, 101.93284678008828, 114.05839444484133, 114.03394458531008, 280.58249229660316, 634.0259459339229, 164.3258969782868, 206.8051153661379, 145.24225861783694, 218.01452713445818, 184.2113899080437, 185.93400158019878, 177.2591487566413, 193.67569564582743, 122.67292862461878], \"Category\": [\"Default\", \"Default\", \"Default\", \"Default\", \"Default\", \"Default\", \"Default\", \"Default\", \"Default\", \"Default\", \"Default\", \"Default\", \"Default\", \"Default\", \"Default\", \"Default\", \"Default\", \"Default\", \"Default\", \"Default\", \"Default\", \"Default\", \"Default\", \"Default\", \"Default\", \"Default\", \"Default\", \"Default\", \"Default\", \"Default\", \"Topic1\", \"Topic1\", \"Topic1\", \"Topic1\", \"Topic1\", \"Topic1\", \"Topic1\", \"Topic1\", \"Topic1\", \"Topic1\", \"Topic1\", \"Topic1\", \"Topic1\", \"Topic1\", \"Topic1\", \"Topic1\", \"Topic1\", \"Topic1\", \"Topic1\", \"Topic1\", \"Topic1\", \"Topic1\", \"Topic1\", \"Topic1\", \"Topic1\", \"Topic1\", \"Topic1\", \"Topic1\", \"Topic1\", \"Topic1\", \"Topic1\", \"Topic1\", \"Topic1\", \"Topic1\", \"Topic1\", \"Topic1\", \"Topic1\", \"Topic1\", \"Topic1\", \"Topic1\", \"Topic1\", \"Topic1\", \"Topic1\", \"Topic1\", \"Topic1\", \"Topic1\", \"Topic1\", \"Topic1\", \"Topic1\", \"Topic1\", \"Topic1\", \"Topic1\", \"Topic1\", \"Topic1\", \"Topic1\", \"Topic1\", \"Topic1\", \"Topic1\", \"Topic1\", \"Topic1\", \"Topic1\", \"Topic1\", \"Topic1\", \"Topic1\", \"Topic1\", \"Topic1\", \"Topic1\", \"Topic1\", \"Topic1\", \"Topic1\", \"Topic2\", \"Topic2\", \"Topic2\", \"Topic2\", \"Topic2\", \"Topic2\", \"Topic2\", \"Topic2\", \"Topic2\", \"Topic2\", \"Topic2\", \"Topic2\", \"Topic2\", \"Topic2\", \"Topic2\", \"Topic2\", \"Topic2\", \"Topic2\", \"Topic2\", \"Topic2\", \"Topic2\", \"Topic2\", \"Topic2\", \"Topic2\", \"Topic2\", \"Topic2\", \"Topic2\", \"Topic2\", \"Topic2\", \"Topic2\", \"Topic2\", \"Topic2\", \"Topic2\", \"Topic2\", \"Topic2\", \"Topic2\", \"Topic2\", \"Topic2\", \"Topic2\", \"Topic2\", \"Topic2\", \"Topic2\", \"Topic2\", \"Topic2\", \"Topic2\", \"Topic2\", \"Topic2\", \"Topic2\", \"Topic2\", \"Topic2\", \"Topic2\", \"Topic2\", \"Topic2\", \"Topic2\", \"Topic2\", \"Topic2\", \"Topic2\", \"Topic2\", \"Topic2\", \"Topic2\", \"Topic2\", \"Topic2\", \"Topic2\", \"Topic2\", \"Topic2\", \"Topic2\", \"Topic2\", \"Topic2\", \"Topic2\"], \"logprob\": [30.0, 29.0, 28.0, 27.0, 26.0, 25.0, 24.0, 23.0, 22.0, 21.0, 20.0, 19.0, 18.0, 17.0, 16.0, 15.0, 14.0, 13.0, 12.0, 11.0, 10.0, 9.0, 8.0, 7.0, 6.0, 5.0, 4.0, 3.0, 2.0, 1.0, -5.686, -6.0628, -5.9651, -6.2057, -6.3726, -6.393, -6.7943, -6.857, -7.119, -7.2065, -7.2068, -7.2073, -7.2074, -7.2076, -6.6103, -6.3674, -6.934, -7.3065, -7.4719, -7.3609, -6.8096, -7.5348, -7.4752, -7.4767, -7.3156, -7.6725, -7.6725, -7.6733, -7.5405, -7.6057, -6.0737, -6.8191, -6.3351, -4.7586, -6.0875, -6.6156, -6.924, -6.8039, -3.8729, -5.5951, -4.6311, -3.159, -5.5111, -5.5687, -5.5931, -6.111, -6.1984, -4.0711, -5.3727, -6.0737, -4.8388, -5.0804, -5.1893, -5.8255, -5.5868, -5.1754, -5.2724, -5.2906, -4.7295, -5.3286, -4.8693, -5.1772, -5.6669, -5.7013, -5.5393, -5.473, -5.8309, -5.6327, -5.7844, -5.6759, -6.5401, -5.8131, -6.8179, -6.7355, -6.2504, -6.7366, -7.1431, -7.2087, -7.2141, -7.2177, -7.1554, -7.5305, -7.5315, -7.6305, -7.6335, -7.6349, -7.7418, -7.7419, -7.742, -7.742, -6.3843, -7.457, -7.7453, -7.3778, -7.3803, -7.8672, -7.8681, -7.8684, -7.7528, -7.7553, -5.5008, -5.9216, -6.166, -6.7578, -5.4232, -4.6037, -5.833, -6.2502, -6.3128, -5.2991, -5.1217, -6.0764, -5.5399, -6.1836, -5.2783, -5.5811, -5.9395, -6.7429, -4.66, -4.8407, -3.7686, -5.3518, -6.613, -5.2225, -4.5993, -5.796, -5.7795, -5.8145, -5.342, -5.0261, -5.6713, -5.5747, -5.7331, -5.6205, -5.6915, -5.7018, -5.7308, -5.7632, -5.8347], \"loglift\": [30.0, 29.0, 28.0, 27.0, 26.0, 25.0, 24.0, 23.0, 22.0, 21.0, 20.0, 19.0, 18.0, 17.0, 16.0, 15.0, 14.0, 13.0, 12.0, 11.0, 10.0, 9.0, 8.0, 7.0, 6.0, 5.0, 4.0, 3.0, 2.0, 1.0, 0.5142, 0.513, 0.5127, 0.5121, 0.5107, 0.5105, 0.5045, 0.5043, 0.4982, 0.4977, 0.4974, 0.4969, 0.4968, 0.4965, 0.496, 0.4959, 0.4939, 0.493, 0.4901, 0.4898, 0.489, 0.4878, 0.4868, 0.4852, 0.4838, 0.4836, 0.4836, 0.4828, 0.482, 0.4814, 0.4726, 0.4794, 0.4708, 0.4373, 0.4586, 0.4656, 0.4697, 0.4645, 0.3257, 0.3947, 0.3361, 0.205, 0.3698, 0.3728, 0.3641, 0.4063, 0.4059, 0.1823, 0.3081, 0.3762, 0.1751, 0.1857, 0.1952, 0.3134, 0.2568, 0.1436, 0.1529, 0.144, -0.0288, 0.1445, -0.0117, 0.0182, 0.2123, 0.2077, 0.1278, 0.0759, 0.2428, 0.0396, 0.1315, -0.1445, 0.8749, 0.8749, 0.8734, 0.8689, 0.8685, 0.8678, 0.8668, 0.8658, 0.8605, 0.8569, 0.8547, 0.8543, 0.8533, 0.8497, 0.8468, 0.8454, 0.8438, 0.8438, 0.8437, 0.8437, 0.8432, 0.841, 0.8404, 0.8401, 0.8378, 0.8364, 0.8355, 0.8352, 0.8332, 0.8306, 0.8163, 0.8184, 0.8105, 0.8066, 0.7554, 0.6878, 0.7462, 0.7495, 0.7336, 0.634, 0.6075, 0.7007, 0.6107, 0.6694, 0.5311, 0.5322, 0.5835, 0.7094, 0.0407, 0.0169, -0.4045, 0.1796, 0.6457, -0.0272, -0.3459, 0.2304, 0.1345, 0.0997, -0.3281, -0.8275, -0.1225, -0.2558, -0.0608, -0.3543, -0.2569, -0.2765, -0.2578, -0.3786, 0.0065]}, \"token.table\": {\"Topic\": [1, 2, 1, 2, 1, 2, 1, 2, 1, 1, 2, 1, 2, 2, 1, 2, 1, 2, 1, 2, 1, 2, 1, 2, 1, 1, 1, 2, 1, 1, 2, 1, 2, 1, 2, 1, 2, 1, 2, 1, 2, 1, 2, 1, 2, 1, 2, 2, 2, 1, 2, 1, 2, 2, 1, 1, 2, 1, 2, 1, 2, 1, 2, 1, 2, 1, 1, 2, 1, 2, 1, 2, 1, 2, 1, 1, 2, 1, 2, 1, 1, 2, 1, 2, 1, 2, 2, 1, 2, 1, 2, 1, 2, 1, 1, 1, 2, 1, 2, 1, 2, 1, 2, 1, 2, 2, 2, 1, 2, 1, 2, 1, 2, 1, 2, 1, 2, 1, 1, 2, 1, 1, 1, 2, 1, 2, 2, 1, 2, 1, 2, 1, 2, 1, 2, 2, 1, 2, 1, 2, 1, 2, 1, 2, 1, 1, 2, 1, 2, 1, 2, 1, 2, 1, 2, 1, 1, 2, 1, 2, 1, 2, 1, 1, 2, 2, 1, 1, 2, 1, 2, 1, 2, 1, 2, 1, 2, 1, 1, 2, 1, 2, 1, 2, 1, 2, 1, 2, 1, 2, 1, 2, 2, 1, 2, 1, 2, 1, 2, 1, 2, 1, 2, 1, 2, 1, 2, 1, 2, 2, 2, 2], \"Freq\": [0.08780133638139065, 0.9658147001952971, 0.2017930372839014, 0.7847507005485055, 0.9578278494177805, 0.05634281467163415, 0.1268442165508069, 0.8879095158556484, 0.9856860248257894, 0.029250613298468613, 0.9652702388494643, 0.09134297597369168, 0.9134297597369166, 0.9988080322951366, 0.7290966345121725, 0.27110072043832895, 0.9741864665760335, 0.022655499222698453, 0.1632983547413834, 0.8164917737069171, 0.07606995703541608, 0.9889094414604089, 0.5883692905123048, 0.41155364880394374, 0.9388008464324094, 0.997939701907464, 0.09511247519611912, 0.9511247519611913, 0.9629314578227457, 0.2323456425468465, 0.7685278945780307, 0.23550026145961941, 0.7737865733673209, 0.9570354927991253, 0.04950183583443751, 0.9730119850667549, 0.06081324906667218, 0.7328169894391146, 0.2704443651501494, 0.03933431618305838, 0.9833579045764596, 0.13707905813986315, 0.8681673682191334, 0.0760670351771159, 0.9888714573025067, 0.8566921160900259, 0.14419570270822218, 0.8877029201208462, 0.9887715397362048, 0.736699126223779, 0.2625019875050247, 0.8513874501735681, 0.14647526024491495, 0.8877050149557677, 0.9979497636315233, 0.27402980888969364, 0.725373023531542, 0.2554882943805102, 0.7442485097171384, 0.9562259274989436, 0.03984274697912265, 0.7155486473788448, 0.2843847188300537, 0.1928815265311506, 0.8091615259355587, 0.9903593223096279, 0.6839967933736226, 0.3148556667910326, 0.9803338437035113, 0.035011922989411116, 0.1298272062485981, 0.8568595612407474, 0.9861387753427534, 0.015408418364730522, 0.9691873361673045, 0.047535208619080956, 0.9507041723816192, 0.6780838830756613, 0.3219186111571321, 0.998932180918385, 0.6882578465244326, 0.31592163447023136, 0.8299554312923368, 0.17007283428121658, 0.9193020643781059, 0.08124064754969308, 0.933643053671712, 0.8976371149167461, 0.11220463936459327, 0.761131990285781, 0.2468536184710641, 0.9387483361178628, 0.07221141047060482, 0.9979422372119481, 0.9515331680540055, 0.9243146702403363, 0.07702622252002803, 0.9452068338185409, 0.03500766051179781, 0.9511919319999085, 0.06794228085713631, 0.7228578657386956, 0.278816605356354, 0.06521225687937948, 0.9455777247510025, 0.8876989671193786, 0.9987910496239039, 0.768091711416536, 0.22879327574109581, 0.5758749631356554, 0.4221345883618832, 0.6763878470754322, 0.3250175369063765, 0.9411339773502914, 0.04277881715228597, 0.7130724426466382, 0.28656182274584524, 0.9821621020750987, 0.31033141385507573, 0.6955704103648248, 0.9903585354815175, 0.9938306289307792, 0.04753451996974603, 0.9506903993949206, 0.9625931224379207, 0.03850372489751683, 0.9130216772971301, 0.8652076933301569, 0.135188702082837, 0.4905190189367602, 0.5101397796942306, 0.9515178541227102, 0.06796556100876501, 0.5348137705857294, 0.4646742596892403, 0.9129713959796452, 0.1364163378997986, 0.8526021118737411, 0.9821228427655987, 0.02888596596369408, 0.07131754532759231, 0.9271280892587, 0.05185160643493995, 0.985180522263859, 0.9979512017426201, 0.8217329327628142, 0.1782261447259079, 0.5524670766156737, 0.44723525249840257, 0.08779783501639937, 0.965776185180393, 0.992209571839247, 0.011673053786344081, 0.8796158095143102, 0.12295704864178529, 0.9903562201952547, 0.019010589072678944, 0.9695400427066262, 0.9820695825580223, 0.05776879897400131, 0.08010393379666594, 0.9211952386616583, 0.9979446432576278, 0.1870516515613694, 0.8105571567659341, 0.8877781530247337, 0.9804810295233083, 0.5142915832674245, 0.484390909821644, 0.9515602733258363, 0.9130704955830581, 0.5950783177548588, 0.4075878888731909, 0.7092388351502613, 0.2922491682528715, 0.3079693822096325, 0.6870086218522572, 0.9905280076948786, 0.8918039690171946, 0.1049181140020229, 0.6196543682015371, 0.3855627179920675, 0.6866367872409551, 0.31430557162438083, 0.6068441253360668, 0.3931666164149165, 0.1268489022751757, 0.88794231592623, 0.9403751105151109, 0.06599123582562182, 0.07872320270710276, 0.9184373649161989, 0.9336709474908464, 0.8124848776187411, 0.18665193134484592, 0.6389741479024099, 0.35904261644040175, 0.6937945663712214, 0.306560389791935, 0.07610799783985094, 0.9132959740782113, 0.8690109493449604, 0.13484652662249386, 0.2550674049469215, 0.7433392944167425, 0.8055419956722374, 0.19444117136916075, 0.1632418845837567, 0.8434164036827431, 0.9982824999276452, 0.9988125123766167, 0.8876978605563666], \"Term\": [\"acomaf\", \"acomaf\", \"acotar\", \"acotar\", \"air\", \"air\", \"amren\", \"amren\", \"becky\", \"bluey\", \"bluey\", \"bond\", \"bond\", \"bone\", \"book\", \"book\", \"brilliant\", \"brilliant\", \"building\", \"building\", \"cadet\", \"cadet\", \"character\", \"character\", \"coeliac\", \"colleen\", \"college\", \"college\", \"cook\", \"court\", \"court\", \"create\", \"create\", \"dad\", \"dad\", \"david\", \"david\", \"day\", \"day\", \"de\", \"de\", \"dragon\", \"dragon\", \"dynamic\", \"dynamic\", \"easy\", \"easy\", \"el\", \"en\", \"end\", \"end\", \"enjoy\", \"enjoy\", \"es\", \"excell\", \"fae\", \"fae\", \"fantasy\", \"fantasy\", \"favourite\", \"favourite\", \"feel\", \"feel\", \"feyre\", \"feyre\", \"finance\", \"find\", \"find\", \"forward\", \"forward\", \"fourth\", \"fourth\", \"free\", \"free\", \"fryer\", \"fury\", \"fury\", \"get\", \"get\", \"gluten\", \"go\", \"go\", \"good\", \"good\", \"great\", \"great\", \"greene\", \"hard\", \"hard\", \"help\", \"help\", \"holiday\", \"holiday\", \"hoover\", \"humour\", \"incredible\", \"incredible\", \"joke\", \"joke\", \"killer\", \"killer\", \"know\", \"know\", \"law\", \"law\", \"laws\", \"libro\", \"life\", \"life\", \"like\", \"like\", \"look\", \"look\", \"louise\", \"louise\", \"love\", \"love\", \"lovely\", \"maas\", \"maas\", \"mile\", \"miles\", \"mist\", \"mist\", \"money\", \"money\", \"mortal\", \"need\", \"need\", \"new\", \"new\", \"nicholls\", \"nicholls\", \"page\", \"page\", \"para\", \"power\", \"power\", \"ptsd\", \"ptsd\", \"quadrant\", \"quadrant\", \"que\", \"que\", \"rachel\", \"read\", \"read\", \"reader\", \"reader\", \"rebecca\", \"rebecca\", \"recipe\", \"recipe\", \"recommend\", \"recommend\", \"recovery\", \"rhys\", \"rhys\", \"richard\", \"richard\", \"rider\", \"rider\", \"rowan\", \"sarah\", \"sarah\", \"section\", \"serial\", \"series\", \"series\", \"sloane\", \"smell\", \"start\", \"start\", \"story\", \"story\", \"tamlin\", \"tamlin\", \"tate\", \"thank\", \"thank\", \"thing\", \"thing\", \"think\", \"think\", \"time\", \"time\", \"topic\", \"topic\", \"trauma\", \"trauma\", \"violet\", \"violet\", \"vivid\", \"wait\", \"wait\", \"want\", \"want\", \"way\", \"way\", \"wing\", \"wing\", \"work\", \"work\", \"world\", \"world\", \"write\", \"write\", \"xaden\", \"xaden\", \"y\", \"\\u00e0\", \"\\u1d1b\\u029c\\u1d07\"]}, \"R\": 30, \"lambda.step\": 0.01, \"plot.opts\": {\"xlab\": \"PC1\", \"ylab\": \"PC2\"}, \"topic.order\": [2, 1]};\n",
=======
       "<div id=\"ldavis_el9199964407414565588307750\" style=\"background-color:white;\"></div>\n",
       "<script type=\"text/javascript\">\n",
       "\n",
       "var ldavis_el9199964407414565588307750_data = {\"mdsDat\": {\"x\": [0.06743132789384093, -0.06743132789384093], \"y\": [0.0, 0.0], \"topics\": [1, 2], \"cluster\": [1, 1], \"Freq\": [68.91923386401754, 31.08076613598245]}, \"tinfo\": {\"Term\": [\"dad\", \"trauma\", \"gift\", \"page\", \"feyre\", \"louise\", \"tamlin\", \"ptsd\", \"joke\", \"recipe\", \"experience\", \"de\", \"love\", \"amazing\", \"write\", \"memory\", \"rider\", \"child\", \"murder\", \"reader\", \"nina\", \"free\", \"leave\", \"que\", \"wing\", \"day\", \"millie\", \"becky\", \"fae\", \"richard\", \"tamlin\", \"recipe\", \"becky\", \"gluten\", \"rhys\", \"free\", \"rhysand\", \"fae\", \"amazing\", \"tate\", \"miles\", \"acotar\", \"fryer\", \"feyre\", \"pet\", \"rachel\", \"colleen\", \"excell\", \"rowan\", \"spring\", \"beast\", \"curse\", \"lucien\", \"air\", \"god\", \"hear\", \"serial\", \"mask\", \"situation\", \"hoover\", \"beautiful\", \"scene\", \"love\", \"brilliant\", \"food\", \"book\", \"easy\", \"recommend\", \"read\", \"great\", \"wait\", \"think\", \"definitely\", \"see\", \"good\", \"court\", \"like\", \"get\", \"go\", \"way\", \"thing\", \"character\", \"story\", \"know\", \"want\", \"feel\", \"series\", \"end\", \"time\", \"find\", \"start\", \"world\", \"come\", \"look\", \"write\", \"dad\", \"de\", \"joke\", \"que\", \"print\", \"richard\", \"recovery\", \"david\", \"nicholls\", \"c\", \"gift\", \"memory\", \"canon\", \"vivid\", \"y\", \"coles\", \"cadet\", \"el\", \"ptsd\", \"es\", \"coast\", \"para\", \"disability\", \"\\u00e0\", \"libro\", \"response\", \"fertility\", \"limb\", \"text\", \"lucky\", \"trauma\", \"louise\", \"patient\", \"nina\", \"quadrant\", \"village\", \"church\", \"murder\", \"process\", \"en\", \"millie\", \"mom\", \"page\", \"fill\", \"experience\", \"traumatic\", \"wing\", \"rider\", \"sleep\", \"child\", \"book\", \"write\", \"character\", \"reader\", \"leave\", \"day\", \"like\", \"story\", \"plot\", \"time\", \"year\", \"find\", \"read\", \"violet\", \"feel\", \"enjoy\", \"good\", \"life\", \"know\", \"love\", \"world\", \"people\", \"way\", \"series\", \"go\", \"want\"], \"Freq\": [56.0, 56.0, 51.0, 109.0, 219.0, 43.0, 131.0, 32.0, 26.0, 89.0, 61.0, 23.0, 617.0, 85.0, 143.0, 20.0, 47.0, 61.0, 25.0, 112.0, 21.0, 67.0, 62.0, 17.0, 37.0, 113.0, 23.0, 61.0, 64.0, 16.0, 130.26422781618322, 88.92745539061272, 61.003244994644504, 52.895068764342966, 53.77419623296706, 67.17381432461735, 50.98004346317368, 63.50035793211103, 84.9305123394013, 43.795426182830546, 44.663018946213455, 45.526668568068985, 27.562142604225883, 215.1500512182742, 21.23616979830984, 19.434138876192595, 19.42087989342784, 19.419286037681594, 19.410236121366815, 19.408984411062377, 33.491797504643074, 17.61831881525472, 18.468909321484773, 36.05963969636235, 18.45029457690319, 25.43316799940982, 28.935226463463056, 15.77120769049518, 14.892007388930503, 19.26472606881772, 47.72157900337384, 47.233208729924556, 559.998889177831, 43.77173345787994, 31.1782337401818, 1254.244104853492, 111.61669824860243, 99.81879847320481, 551.0325376527428, 212.86293428019118, 85.72145097350449, 184.24152632601812, 70.80667397480055, 56.12695766977656, 245.1804750782316, 99.79494991963713, 294.8510229206651, 125.0134131853653, 147.04760673848668, 152.31918045116012, 121.1644463439469, 239.5262811342569, 209.66198413040155, 153.54540261397412, 133.66588522474802, 167.7491810591274, 134.25684154190324, 101.1351708785675, 170.89326053884685, 131.87279920400798, 98.68109374003899, 101.06115906062055, 89.10636696847108, 89.17573102853522, 89.23327921433176, 55.31351815288774, 22.85138225355551, 26.001354907474276, 17.215611522786958, 13.205347694331971, 15.484790467473914, 10.822624912827884, 14.65104323816756, 13.064088074436759, 8.417738128020494, 48.96035357160977, 19.108443070401382, 8.404660938313004, 8.390599140104758, 12.185166487694604, 12.153232784837634, 11.360267749367896, 6.81412864377612, 30.280822463396028, 6.811775207941495, 6.809167408545386, 7.561305946615248, 6.784995995513623, 6.012427403943965, 6.012146687400887, 6.011953814129792, 6.011899962384794, 6.011590219369234, 6.007627723948229, 7.500085296878907, 51.56549169850394, 39.84482210055032, 8.961102235057533, 19.10462838083367, 11.78441860621402, 10.2805922042523, 12.363207231351208, 20.920487834263266, 12.775996515784412, 10.829508006078711, 19.56385772967378, 11.334816116128787, 67.85876567026169, 17.08374273059407, 36.869443678608235, 10.699888001648612, 24.196233721153785, 28.444534484175716, 17.847120624350616, 32.425405189970405, 236.8890139657539, 54.02283008294008, 89.99116983899393, 45.630158605471046, 31.72810376925456, 45.03184662217184, 92.26253714194968, 73.15796681406097, 41.51708606690447, 64.2234535916511, 40.14417974979821, 53.10537967325133, 97.6844255463832, 32.839545733083085, 52.5710848111557, 37.866719943039485, 54.48815804641948, 36.49940198574047, 42.706157039821356, 57.63901524389439, 36.31040298486753, 34.118497941893715, 36.57319033420679, 34.94475939671798, 33.22630667410024, 33.061977119418486], \"Total\": [56.0, 56.0, 51.0, 109.0, 219.0, 43.0, 131.0, 32.0, 26.0, 89.0, 61.0, 23.0, 617.0, 85.0, 143.0, 20.0, 47.0, 61.0, 25.0, 112.0, 21.0, 67.0, 62.0, 17.0, 37.0, 113.0, 23.0, 61.0, 64.0, 16.0, 131.04377254803475, 89.46900414959694, 61.443747685606766, 53.30724061560412, 54.208814236301855, 67.75635562388187, 51.4860866399948, 64.13255221119616, 85.80800590008282, 44.25631333472481, 45.156558444863144, 46.0562243811229, 27.981416058876928, 219.2567222738768, 21.65078612731849, 19.842678742343587, 19.84111227197077, 19.840935748321616, 19.83991103101618, 19.839743325784386, 34.266593066380246, 18.032960255981337, 18.931031387464035, 36.96337194690359, 18.928776067803067, 26.135220547617273, 29.740580455700655, 16.219539269850262, 15.318009447251868, 19.823074901309738, 49.512511209705345, 49.45743723253386, 617.6379044217254, 45.857041263192414, 32.40045361304537, 1491.133118819246, 121.71559466522906, 109.15092395421271, 648.716963199126, 240.65973233697696, 93.91942738680335, 211.7532233146717, 77.79337874686135, 60.89169895889979, 299.6686331246511, 113.96195839666547, 387.1135600626148, 148.9024001675925, 180.27391341258692, 188.89237078536692, 147.66531017781125, 329.5174509732508, 282.8199509444625, 196.25155965379548, 166.7278623441665, 220.3202658702831, 169.20160093862123, 120.5316619679125, 235.11671413049794, 184.9781788772593, 124.26590501802093, 137.37156204548808, 113.5568007862368, 115.16923045593055, 143.25610929727185, 56.26594721242625, 23.31772421471163, 26.533886449931074, 17.703900917796414, 13.69210135174108, 16.115209482074373, 11.282509461009939, 15.316006662418177, 13.709122373596665, 8.87538195173038, 51.64706420372858, 20.175055019782526, 8.876885323901362, 8.878489859453987, 12.91643493557396, 12.921112594641691, 12.117062502063224, 7.270641704324904, 32.317625711562215, 7.2709111541768445, 7.271045070373993, 8.079387666556396, 7.273671892072597, 6.468251409826681, 6.468293677733776, 6.468333647562699, 6.46835008807431, 6.468389794966983, 6.468756095728221, 8.086623205810886, 56.74143364295514, 43.76358026038778, 9.708967118755847, 21.078751685023526, 12.967482064502763, 11.349257132146132, 13.797603405553968, 25.3692877191941, 14.648426614961476, 12.182934805134039, 23.7331137790162, 13.023874890178762, 109.83822951385183, 21.33554771948282, 61.32563569440457, 12.199784067314988, 37.61464440526383, 47.927142835431695, 24.855979739094234, 61.89150248839695, 1491.133118819246, 143.25610929727185, 329.5174509732508, 112.66871369047905, 62.88474508323745, 113.64933178197658, 387.1135600626148, 282.8199509444625, 107.76567136529796, 235.11671413049794, 103.41826097962146, 184.9781788772593, 648.716963199126, 74.50122082522677, 220.3202658702831, 109.13489730516073, 299.6686331246511, 122.87593613989961, 196.25155965379548, 617.6379044217254, 137.37156204548808, 114.13463640987007, 188.89237078536692, 169.20160093862123, 180.27391341258692, 166.7278623441665], \"Category\": [\"Default\", \"Default\", \"Default\", \"Default\", \"Default\", \"Default\", \"Default\", \"Default\", \"Default\", \"Default\", \"Default\", \"Default\", \"Default\", \"Default\", \"Default\", \"Default\", \"Default\", \"Default\", \"Default\", \"Default\", \"Default\", \"Default\", \"Default\", \"Default\", \"Default\", \"Default\", \"Default\", \"Default\", \"Default\", \"Default\", \"Topic1\", \"Topic1\", \"Topic1\", \"Topic1\", \"Topic1\", \"Topic1\", \"Topic1\", \"Topic1\", \"Topic1\", \"Topic1\", \"Topic1\", \"Topic1\", \"Topic1\", \"Topic1\", \"Topic1\", \"Topic1\", \"Topic1\", \"Topic1\", \"Topic1\", \"Topic1\", \"Topic1\", \"Topic1\", \"Topic1\", \"Topic1\", \"Topic1\", \"Topic1\", \"Topic1\", \"Topic1\", \"Topic1\", \"Topic1\", \"Topic1\", \"Topic1\", \"Topic1\", \"Topic1\", \"Topic1\", \"Topic1\", \"Topic1\", \"Topic1\", \"Topic1\", \"Topic1\", \"Topic1\", \"Topic1\", \"Topic1\", \"Topic1\", \"Topic1\", \"Topic1\", \"Topic1\", \"Topic1\", \"Topic1\", \"Topic1\", \"Topic1\", \"Topic1\", \"Topic1\", \"Topic1\", \"Topic1\", \"Topic1\", \"Topic1\", \"Topic1\", \"Topic1\", \"Topic1\", \"Topic1\", \"Topic1\", \"Topic1\", \"Topic1\", \"Topic1\", \"Topic2\", \"Topic2\", \"Topic2\", \"Topic2\", \"Topic2\", \"Topic2\", \"Topic2\", \"Topic2\", \"Topic2\", \"Topic2\", \"Topic2\", \"Topic2\", \"Topic2\", \"Topic2\", \"Topic2\", \"Topic2\", \"Topic2\", \"Topic2\", \"Topic2\", \"Topic2\", \"Topic2\", \"Topic2\", \"Topic2\", \"Topic2\", \"Topic2\", \"Topic2\", \"Topic2\", \"Topic2\", \"Topic2\", \"Topic2\", \"Topic2\", \"Topic2\", \"Topic2\", \"Topic2\", \"Topic2\", \"Topic2\", \"Topic2\", \"Topic2\", \"Topic2\", \"Topic2\", \"Topic2\", \"Topic2\", \"Topic2\", \"Topic2\", \"Topic2\", \"Topic2\", \"Topic2\", \"Topic2\", \"Topic2\", \"Topic2\", \"Topic2\", \"Topic2\", \"Topic2\", \"Topic2\", \"Topic2\", \"Topic2\", \"Topic2\", \"Topic2\", \"Topic2\", \"Topic2\", \"Topic2\", \"Topic2\", \"Topic2\", \"Topic2\", \"Topic2\", \"Topic2\", \"Topic2\", \"Topic2\", \"Topic2\", \"Topic2\", \"Topic2\", \"Topic2\", \"Topic2\", \"Topic2\", \"Topic2\", \"Topic2\"], \"logprob\": [30.0, 29.0, 28.0, 27.0, 26.0, 25.0, 24.0, 23.0, 22.0, 21.0, 20.0, 19.0, 18.0, 17.0, 16.0, 15.0, 14.0, 13.0, 12.0, 11.0, 10.0, 9.0, 8.0, 7.0, 6.0, 5.0, 4.0, 3.0, 2.0, 1.0, -5.4089, -5.7906, -6.1675, -6.3102, -6.2937, -6.0712, -6.347, -6.1274, -5.8366, -6.4989, -6.4793, -6.4602, -6.962, -4.9071, -7.2228, -7.3114, -7.3121, -7.3122, -7.3127, -7.3127, -6.7672, -7.4095, -7.3624, -6.6933, -7.3634, -7.0424, -6.9134, -7.5203, -7.5776, -7.3202, -6.4131, -6.4234, -3.9505, -6.4995, -6.8387, -3.1442, -5.5634, -5.6751, -3.9667, -4.9178, -5.8274, -5.0622, -6.0185, -6.2508, -4.7765, -5.6753, -4.592, -5.45, -5.2877, -5.2525, -5.4813, -4.7998, -4.933, -5.2445, -5.3831, -5.156, -5.3787, -5.662, -5.1374, -5.3966, -5.6866, -5.6627, -5.7886, -5.7879, -5.7872, -5.4691, -6.3531, -6.224, -6.6363, -6.9015, -6.7423, -7.1005, -6.7976, -6.9122, -7.3518, -5.5911, -6.532, -7.3533, -7.355, -6.9819, -6.9845, -7.052, -7.5631, -6.0716, -7.5635, -7.5638, -7.4591, -7.5674, -7.6883, -7.6883, -7.6884, -7.6884, -7.6884, -7.6891, -7.4672, -5.5393, -5.7971, -7.2892, -6.5322, -7.0153, -7.1519, -6.9674, -6.4414, -6.9345, -7.0998, -6.5084, -7.0542, -5.2647, -6.644, -5.8747, -7.1119, -6.2959, -6.1342, -6.6003, -6.0032, -4.0145, -5.4927, -4.9824, -5.6615, -6.0249, -5.6747, -4.9575, -5.1895, -5.756, -5.3197, -5.7896, -5.5098, -4.9004, -5.9905, -5.5199, -5.848, -5.4841, -5.8848, -5.7278, -5.4279, -5.89, -5.9523, -5.8828, -5.9283, -5.9788, -5.9837], \"loglift\": [30.0, 29.0, 28.0, 27.0, 26.0, 25.0, 24.0, 23.0, 22.0, 21.0, 20.0, 19.0, 18.0, 17.0, 16.0, 15.0, 14.0, 13.0, 12.0, 11.0, 10.0, 9.0, 8.0, 7.0, 6.0, 5.0, 4.0, 3.0, 2.0, 1.0, 0.3663, 0.3662, 0.365, 0.3645, 0.3642, 0.3636, 0.3624, 0.3623, 0.362, 0.3618, 0.3612, 0.3607, 0.3571, 0.3533, 0.3529, 0.3514, 0.3508, 0.3508, 0.3503, 0.3503, 0.3494, 0.349, 0.3475, 0.3475, 0.3466, 0.345, 0.3448, 0.3442, 0.344, 0.3437, 0.3354, 0.3262, 0.2743, 0.3257, 0.3338, 0.1992, 0.2856, 0.2829, 0.209, 0.2495, 0.2809, 0.2331, 0.2781, 0.2908, 0.1716, 0.2395, 0.1, 0.1974, 0.1685, 0.157, 0.1744, 0.0533, 0.0729, 0.1268, 0.1512, 0.0996, 0.1409, 0.1968, 0.0532, 0.0338, 0.1417, 0.0653, 0.1298, 0.1164, -0.1011, 1.1515, 1.1484, 1.1483, 1.1406, 1.1324, 1.1287, 1.127, 1.1242, 1.1204, 1.1156, 1.1152, 1.1143, 1.1139, 1.1121, 1.1103, 1.1073, 1.1041, 1.1037, 1.1035, 1.1034, 1.103, 1.1023, 1.099, 1.0955, 1.0955, 1.0954, 1.0954, 1.0953, 1.0946, 1.0933, 1.0729, 1.0748, 1.0884, 1.0702, 1.0729, 1.0697, 1.0588, 0.9758, 1.0318, 1.0508, 0.9754, 1.0297, 0.687, 0.9463, 0.6598, 1.0374, 0.7274, 0.6469, 0.8373, 0.5221, -0.6711, 0.1934, -0.1293, 0.2647, 0.4845, 0.2428, -0.2655, -0.1836, 0.2147, -0.1291, 0.2223, -0.0794, -0.7247, 0.3494, -0.2643, 0.1101, -0.5361, -0.0453, -0.3565, -1.2031, -0.162, -0.039, -0.4733, -0.4087, -0.5226, -0.4494]}, \"token.table\": {\"Topic\": [1, 2, 1, 2, 1, 2, 1, 2, 1, 2, 1, 1, 2, 1, 2, 2, 1, 2, 2, 1, 2, 1, 2, 1, 2, 2, 1, 2, 1, 1, 2, 1, 2, 1, 1, 2, 1, 2, 1, 2, 2, 1, 2, 2, 1, 2, 2, 1, 2, 1, 2, 1, 2, 2, 1, 1, 2, 1, 2, 1, 2, 2, 1, 2, 1, 2, 1, 2, 1, 2, 1, 2, 1, 1, 2, 1, 2, 1, 1, 2, 1, 1, 2, 1, 2, 1, 2, 1, 2, 1, 2, 1, 2, 1, 2, 2, 1, 2, 1, 2, 2, 1, 2, 1, 2, 1, 2, 1, 1, 2, 1, 1, 2, 1, 1, 2, 1, 2, 1, 2, 1, 2, 1, 2, 1, 2, 1, 2, 1, 2, 1, 2, 1, 1, 2, 2, 1, 2, 1, 2, 1, 2, 2, 1, 1, 2, 1, 2, 1, 2, 1, 2, 2, 2, 1, 1, 2, 1, 2, 1, 2, 1, 1, 2, 1, 2, 1, 2, 1, 2, 1, 1, 2, 1, 1, 2, 1, 2, 1, 2, 1, 2, 1, 2, 1, 2, 1, 2, 1, 2, 1, 2, 1, 2, 1, 2, 2, 1, 2, 1, 2, 1, 2, 1, 2, 1, 2, 1, 2, 1, 2, 1, 2, 2], \"Freq\": [0.9987792229632713, 0.021712591803549376, 0.973937119473639, 0.02705380887426775, 0.9905835604544443, 0.011653924240640521, 0.9630370879320673, 0.029182942058547493, 0.9694519390604275, 0.04039383079418448, 0.9927779847043622, 0.8409711944383478, 0.1589395319632284, 0.9595036833594629, 0.0436138037890665, 0.9013696586252592, 0.08252825301757136, 0.9078107831932849, 0.9012170043990189, 0.7283377535579518, 0.27312665758423194, 0.46856190000294057, 0.5170338206928999, 0.07247635481372575, 0.8697162577647088, 0.9627226804743143, 0.07739271619803809, 0.928712594376457, 0.9576076048337776, 0.7837487440980011, 0.21134797593653962, 0.8774857979531353, 0.12284801171343894, 0.9981722215591085, 0.0177727390996299, 0.9775006504796445, 0.06529117034492818, 0.9793675551739226, 0.6071307144363041, 0.395954813762807, 0.9863741327504348, 0.9126740751424756, 0.08998195107038492, 0.9623750017689324, 0.9201778975656227, 0.08215874085407346, 0.962776091116701, 0.08208202834497544, 0.9029023117947298, 0.8379540972967572, 0.15763492919443947, 0.6505710066457595, 0.3481929331343501, 0.962740411974197, 0.9576161246128347, 0.39135346463583076, 0.6033365913135724, 0.9979331524066024, 0.015592705506353163, 0.7625263129398753, 0.2405588963441273, 0.9275935776979966, 0.9805856703970989, 0.018243454332969283, 0.1874805396417056, 0.7967922934772488, 0.7135976837980845, 0.2865202821310491, 0.9567767281973636, 0.030863765425721407, 0.9888371265408601, 0.014758763082699406, 1.0006641529893974, 0.8394760585410987, 0.16117940323989097, 0.05808655431344768, 0.9487470537863122, 0.9942364186917942, 0.8154257996472623, 0.1830547713493854, 0.9509331155656244, 0.8175697184098979, 0.18019903997605913, 0.8850670526872888, 0.11634684260677974, 0.9565635749830789, 0.038262542999323156, 0.9584789491333983, 0.05044626048070517, 0.03768765657028723, 0.9798790708274678, 0.7847071395084408, 0.21910653895365556, 0.49296534412227994, 0.5088674519971922, 0.9276016672919764, 0.6998929383706607, 0.292978439317951, 0.7620502881694053, 0.23765636105622132, 0.9275878835670301, 0.7727758503522849, 0.2257547427995439, 0.0914002002624215, 0.914002002624215, 0.9066801049464575, 0.09390615372659739, 0.9508198275937276, 0.12366101085078626, 0.9892880868062901, 0.986464518738929, 0.049566159746253786, 0.9417570351788219, 0.9965329854564913, 0.16854088499489805, 0.8427044249744903, 0.15356412871473374, 0.8446027079310355, 0.15767096200236033, 0.8277725505123917, 0.07294412966405261, 0.9482736856326841, 0.09488227907827207, 0.9013816512435847, 0.38238052621472135, 0.6190922805381203, 0.12377175613683863, 0.9901740490947091, 0.10299756789454909, 0.9269781110509417, 0.700926576860605, 0.29789379516575715, 0.9699416860204747, 0.6124399278901808, 0.38973449956647865, 0.9494525103224515, 0.1365334347893212, 0.8874673261305879, 0.06188573436211509, 0.9282860154317264, 0.07711597324953347, 0.9253916789944016, 0.9602403492278453, 0.9575320069792119, 0.8493688792763519, 0.15106742317437835, 0.5946637518562685, 0.408276605752065, 0.9947579147208039, 0.011177055221582065, 0.9161626523834887, 0.08245463871451399, 0.9749604055741115, 0.9275959353551329, 0.9961479652480202, 0.9905588738294744, 0.019422723016264205, 0.062053180327090514, 0.9307977049063577, 0.3964350653082043, 0.5842200962436696, 0.9576655848051371, 0.9503120790311124, 0.040438811873664354, 0.9196655859084906, 0.08211299874182952, 0.9750986549571966, 0.03362409155024816, 0.7919546816144442, 0.20685383475004138, 0.9792395057368946, 0.28162237310606547, 0.7241718165584541, 0.9576736799466036, 0.7966787027032323, 0.2092287502048893, 0.7425218740711748, 0.25811474670093215, 0.9920349320861306, 0.007631037939124082, 0.9942084345619522, 0.9275353578352145, 0.8194206198754318, 0.18284592344327816, 0.8689360054112161, 0.13222939212779375, 0.7272983574663648, 0.27220523320378565, 0.08811902835346823, 0.9164378948760696, 0.08196866391095779, 0.9016553030205358, 0.08811149384989757, 0.8811149384989757, 0.5637491511518753, 0.4429457616193305, 0.9010541349530794, 0.9156784958431708, 0.08517939496215543, 0.8037049004046588, 0.19792732621905776, 0.8046910490244908, 0.19587874219675105, 0.3456100730326396, 0.6380493655987192, 0.7352322307185799, 0.26206297332543443, 0.6212649529334586, 0.37694727481355916, 0.07742074380337237, 0.9290489256404684, 0.6091767488955759, 0.38677888818766726, 0.9276077288654389], \"Term\": [\"acotar\", \"acotar\", \"air\", \"air\", \"amazing\", \"amazing\", \"beast\", \"beast\", \"beautiful\", \"beautiful\", \"becky\", \"book\", \"book\", \"brilliant\", \"brilliant\", \"c\", \"cadet\", \"cadet\", \"canon\", \"character\", \"character\", \"child\", \"child\", \"church\", \"church\", \"coast\", \"coles\", \"coles\", \"colleen\", \"come\", \"come\", \"court\", \"court\", \"curse\", \"dad\", \"dad\", \"david\", \"david\", \"day\", \"day\", \"de\", \"definitely\", \"definitely\", \"disability\", \"easy\", \"easy\", \"el\", \"en\", \"en\", \"end\", \"end\", \"enjoy\", \"enjoy\", \"es\", \"excell\", \"experience\", \"experience\", \"fae\", \"fae\", \"feel\", \"feel\", \"fertility\", \"feyre\", \"feyre\", \"fill\", \"fill\", \"find\", \"find\", \"food\", \"food\", \"free\", \"free\", \"fryer\", \"get\", \"get\", \"gift\", \"gift\", \"gluten\", \"go\", \"go\", \"god\", \"good\", \"good\", \"great\", \"great\", \"hear\", \"hear\", \"hoover\", \"hoover\", \"joke\", \"joke\", \"know\", \"know\", \"leave\", \"leave\", \"libro\", \"life\", \"life\", \"like\", \"like\", \"limb\", \"look\", \"look\", \"louise\", \"louise\", \"love\", \"love\", \"lucien\", \"lucky\", \"lucky\", \"mask\", \"memory\", \"memory\", \"miles\", \"millie\", \"millie\", \"mom\", \"mom\", \"murder\", \"murder\", \"nicholls\", \"nicholls\", \"nina\", \"nina\", \"page\", \"page\", \"para\", \"para\", \"patient\", \"patient\", \"people\", \"people\", \"pet\", \"plot\", \"plot\", \"print\", \"process\", \"process\", \"ptsd\", \"ptsd\", \"quadrant\", \"quadrant\", \"que\", \"rachel\", \"read\", \"read\", \"reader\", \"reader\", \"recipe\", \"recipe\", \"recommend\", \"recommend\", \"recovery\", \"response\", \"rhys\", \"rhysand\", \"rhysand\", \"richard\", \"richard\", \"rider\", \"rider\", \"rowan\", \"scene\", \"scene\", \"see\", \"see\", \"serial\", \"serial\", \"series\", \"series\", \"situation\", \"sleep\", \"sleep\", \"spring\", \"start\", \"start\", \"story\", \"story\", \"tamlin\", \"tamlin\", \"tate\", \"text\", \"thing\", \"thing\", \"think\", \"think\", \"time\", \"time\", \"trauma\", \"trauma\", \"traumatic\", \"traumatic\", \"village\", \"village\", \"violet\", \"violet\", \"vivid\", \"wait\", \"wait\", \"want\", \"want\", \"way\", \"way\", \"wing\", \"wing\", \"world\", \"world\", \"write\", \"write\", \"y\", \"y\", \"year\", \"year\", \"\\u00e0\"]}, \"R\": 30, \"lambda.step\": 0.01, \"plot.opts\": {\"xlab\": \"PC1\", \"ylab\": \"PC2\"}, \"topic.order\": [1, 2]};\n",
>>>>>>> main
       "\n",
       "function LDAvis_load_lib(url, callback){\n",
       "  var s = document.createElement('script');\n",
       "  s.src = url;\n",
       "  s.async = true;\n",
       "  s.onreadystatechange = s.onload = callback;\n",
       "  s.onerror = function(){console.warn(\"failed to load library \" + url);};\n",
       "  document.getElementsByTagName(\"head\")[0].appendChild(s);\n",
       "}\n",
       "\n",
       "if(typeof(LDAvis) !== \"undefined\"){\n",
       "   // already loaded: just create the visualization\n",
       "   !function(LDAvis){\n",
<<<<<<< HEAD
       "       new LDAvis(\"#\" + \"ldavis_el84057133752891685391990837\", ldavis_el84057133752891685391990837_data);\n",
=======
       "       new LDAvis(\"#\" + \"ldavis_el9199964407414565588307750\", ldavis_el9199964407414565588307750_data);\n",
>>>>>>> main
       "   }(LDAvis);\n",
       "}else if(typeof define === \"function\" && define.amd){\n",
       "   // require.js is available: use it to load d3/LDAvis\n",
       "   require.config({paths: {d3: \"https://d3js.org/d3.v5\"}});\n",
       "   require([\"d3\"], function(d3){\n",
       "      window.d3 = d3;\n",
       "      LDAvis_load_lib(\"https://cdn.jsdelivr.net/gh/bmabey/pyLDAvis@3.4.0/pyLDAvis/js/ldavis.v3.0.0.js\", function(){\n",
<<<<<<< HEAD
       "        new LDAvis(\"#\" + \"ldavis_el84057133752891685391990837\", ldavis_el84057133752891685391990837_data);\n",
=======
       "        new LDAvis(\"#\" + \"ldavis_el9199964407414565588307750\", ldavis_el9199964407414565588307750_data);\n",
>>>>>>> main
       "      });\n",
       "    });\n",
       "}else{\n",
       "    // require.js not available: dynamically load d3 & LDAvis\n",
       "    LDAvis_load_lib(\"https://d3js.org/d3.v5.js\", function(){\n",
       "         LDAvis_load_lib(\"https://cdn.jsdelivr.net/gh/bmabey/pyLDAvis@3.4.0/pyLDAvis/js/ldavis.v3.0.0.js\", function(){\n",
<<<<<<< HEAD
       "                 new LDAvis(\"#\" + \"ldavis_el84057133752891685391990837\", ldavis_el84057133752891685391990837_data);\n",
=======
       "                 new LDAvis(\"#\" + \"ldavis_el9199964407414565588307750\", ldavis_el9199964407414565588307750_data);\n",
>>>>>>> main
       "            })\n",
       "         });\n",
       "}\n",
       "</script>"
      ],
      "text/plain": [
       "<IPython.core.display.HTML object>"
      ]
     },
<<<<<<< HEAD
     "execution_count": 27,
=======
     "execution_count": 20,
>>>>>>> main
     "metadata": {},
     "output_type": "execute_result"
    }
   ],
   "source": [
    "import pyLDAvis\n",
    "import pyLDAvis.gensim_models as gensimvis\n",
    "\n",
    "# Prepare the visualization\n",
    "vis = gensimvis.prepare(lda_model, corpus, dictionary)\n",
    "\n",
    "# Display the visualization\n",
    "pyLDAvis.display(vis)"
   ]
  },
  {
   "cell_type": "code",
<<<<<<< HEAD
   "execution_count": 29,
=======
   "execution_count": 21,
   "metadata": {},
   "outputs": [],
   "source": [
    "# save the visualization to an HTML file\n",
    "pyLDAvis.save_html(vis, 'lda.html')"
   ]
  },
  {
   "cell_type": "code",
   "execution_count": 22,
>>>>>>> main
   "metadata": {},
   "outputs": [
    {
     "name": "stdout",
     "output_type": "stream",
     "text": [
<<<<<<< HEAD
      "0.3247869701008909\n"
=======
      "0.3030604316389657\n"
>>>>>>> main
     ]
    }
   ],
   "source": [
    "# coherence_scores of the optimal number of topics\n",
    "coherence_model = CoherenceModel(model=lda_model, texts=docs, dictionary=dictionary, coherence='c_v')\n",
    "coherence_score = coherence_model.get_coherence()\n",
    "print(coherence_score)"
   ]
  },
  {
   "cell_type": "code",
<<<<<<< HEAD
   "execution_count": 31,
=======
   "execution_count": 23,
>>>>>>> main
   "metadata": {},
   "outputs": [],
   "source": [
    "# how can we improve the model?\n",
    "# 1. increase the number of passes\n",
    "# 2. increase the number of topics\n",
    "# 3. increase the number of words per topic\n",
    "# 4. increase the number of documents\n",
    "# 5. increase the number of words per document\n",
    "# 6. increase the number of words per topic\n",
    "# 7. increase the number of words per document\n",
    "# 8. increase the number of words per topic\n",
    "\n",
    "# let's try increasing the number of topics\n"
   ]
  }
 ],
 "metadata": {
  "kernelspec": {
   "display_name": "venv",
   "language": "python",
   "name": "python3"
  },
  "language_info": {
   "codemirror_mode": {
    "name": "ipython",
    "version": 3
   },
   "file_extension": ".py",
   "mimetype": "text/x-python",
   "name": "python",
   "nbconvert_exporter": "python",
   "pygments_lexer": "ipython3",
   "version": "3.12.3"
  }
 },
 "nbformat": 4,
 "nbformat_minor": 2
}
