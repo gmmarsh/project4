{
 "cells": [
  {
   "cell_type": "code",
   "execution_count": 1,
   "metadata": {},
   "outputs": [],
   "source": [
    "import pandas as pd\n",
    "df = pd.read_csv('reviews.csv')"
   ]
  },
  {
   "cell_type": "code",
   "execution_count": 2,
   "metadata": {},
   "outputs": [
    {
     "data": {
      "text/plain": [
       "13"
      ]
     },
     "execution_count": 2,
     "metadata": {},
     "output_type": "execute_result"
    }
   ],
   "source": [
    "# check for duplicates in id column\n",
    "df['id'].duplicated().sum()"
   ]
  },
  {
   "cell_type": "code",
   "execution_count": 3,
   "metadata": {},
   "outputs": [
    {
     "data": {
      "text/plain": [
       "616    R2YFM3DW9ZPKAV\n",
       "626    R2RXKVD3AWSP2L\n",
       "630    R3CLJT1O2XDK28\n",
       "633    R1SU9GHKMF2PXN\n",
       "635    R1PXSZE8MH4HCZ\n",
       "638    R2J2XFTAAEL50V\n",
       "641    R1MXD3GZKHTAKE\n",
       "642    R33O38DNX0P4DD\n",
       "880     R4P0HPOPSRECI\n",
       "881    R366Y3EP4BFRMK\n",
       "882     RUPX3V2E7K6B8\n",
       "883     R5DM8A2UO2Z9N\n",
       "884    R3SGPS32AFOG6R\n",
       "Name: id, dtype: object"
      ]
     },
     "execution_count": 3,
     "metadata": {},
     "output_type": "execute_result"
    }
   ],
   "source": [
    "# list the duplicate ids\n",
    "df[df['id'].duplicated()]['id']"
   ]
  },
  {
   "cell_type": "code",
   "execution_count": 4,
   "metadata": {},
   "outputs": [],
   "source": [
    "# drop duplicates\n",
    "df.drop_duplicates(subset='id', inplace=True)"
   ]
  },
  {
   "cell_type": "code",
   "execution_count": 5,
   "metadata": {},
   "outputs": [
    {
     "data": {
      "text/html": [
       "<div>\n",
       "<style scoped>\n",
       "    .dataframe tbody tr th:only-of-type {\n",
       "        vertical-align: middle;\n",
       "    }\n",
       "\n",
       "    .dataframe tbody tr th {\n",
       "        vertical-align: top;\n",
       "    }\n",
       "\n",
       "    .dataframe thead th {\n",
       "        text-align: right;\n",
       "    }\n",
       "</style>\n",
       "<table border=\"1\" class=\"dataframe\">\n",
       "  <thead>\n",
       "    <tr style=\"text-align: right;\">\n",
       "      <th></th>\n",
       "      <th>id</th>\n",
       "      <th>title</th>\n",
       "      <th>body</th>\n",
       "      <th>asin</th>\n",
       "      <th>body_html</th>\n",
       "      <th>link</th>\n",
       "      <th>rating</th>\n",
       "      <th>vine_program</th>\n",
       "      <th>verified_purchase</th>\n",
       "      <th>helpful_votes</th>\n",
       "      <th>...</th>\n",
       "      <th>date.raw</th>\n",
       "      <th>date.utc</th>\n",
       "      <th>profile.name</th>\n",
       "      <th>profile.link</th>\n",
       "      <th>profile.id</th>\n",
       "      <th>profile.image</th>\n",
       "      <th>images</th>\n",
       "      <th>videos</th>\n",
       "      <th>attributes</th>\n",
       "      <th>attributes_flat</th>\n",
       "    </tr>\n",
       "  </thead>\n",
       "  <tbody>\n",
       "    <tr>\n",
       "      <th>66</th>\n",
       "      <td>R2YFM3DW9ZPKAV</td>\n",
       "      <td>Good activity book</td>\n",
       "      <td>Cute pictures and great quality book</td>\n",
       "      <td>0593385691</td>\n",
       "      <td>&lt;span&gt;Cute pictures and great quality book&lt;/span&gt;</td>\n",
       "      <td>https://www.amazon.ca/gp/customer-reviews/R2YF...</td>\n",
       "      <td>5</td>\n",
       "      <td>False</td>\n",
       "      <td>True</td>\n",
       "      <td>NaN</td>\n",
       "      <td>...</td>\n",
       "      <td>Reviewed in Canada on March 26, 2024</td>\n",
       "      <td>2024-03-26T00:00:00.000Z</td>\n",
       "      <td>Magskywei</td>\n",
       "      <td>https://www.amazon.ca/gp/profile/amzn1.account...</td>\n",
       "      <td>AEB3ND3DRYZCTFEJK6YAX6UTB5HA</td>\n",
       "      <td>NaN</td>\n",
       "      <td>NaN</td>\n",
       "      <td>NaN</td>\n",
       "      <td>NaN</td>\n",
       "      <td>NaN</td>\n",
       "    </tr>\n",
       "  </tbody>\n",
       "</table>\n",
       "<p>1 rows × 24 columns</p>\n",
       "</div>"
      ],
      "text/plain": [
       "                id               title                                  body  \\\n",
       "66  R2YFM3DW9ZPKAV  Good activity book  Cute pictures and great quality book   \n",
       "\n",
       "          asin                                          body_html  \\\n",
       "66  0593385691  <span>Cute pictures and great quality book</span>   \n",
       "\n",
       "                                                 link  rating  vine_program  \\\n",
       "66  https://www.amazon.ca/gp/customer-reviews/R2YF...       5         False   \n",
       "\n",
       "    verified_purchase  helpful_votes  ...  \\\n",
       "66               True            NaN  ...   \n",
       "\n",
       "                                date.raw                  date.utc  \\\n",
       "66  Reviewed in Canada on March 26, 2024  2024-03-26T00:00:00.000Z   \n",
       "\n",
       "    profile.name                                       profile.link  \\\n",
       "66     Magskywei  https://www.amazon.ca/gp/profile/amzn1.account...   \n",
       "\n",
       "                      profile.id profile.image images videos attributes  \\\n",
       "66  AEB3ND3DRYZCTFEJK6YAX6UTB5HA           NaN    NaN    NaN        NaN   \n",
       "\n",
       "   attributes_flat  \n",
       "66             NaN  \n",
       "\n",
       "[1 rows x 24 columns]"
      ]
     },
     "execution_count": 5,
     "metadata": {},
     "output_type": "execute_result"
    }
   ],
   "source": [
    "# view id R2YFM3DW9ZPKAV to see if it was dropped\n",
    "df[df['id'] == 'R2YFM3DW9ZPKAV']"
   ]
  },
  {
   "cell_type": "code",
   "execution_count": 6,
   "metadata": {},
   "outputs": [
    {
     "data": {
      "text/plain": [
       "1"
      ]
     },
     "execution_count": 6,
     "metadata": {},
     "output_type": "execute_result"
    }
   ],
   "source": [
    "# check for null values in body column\n",
    "df['body'].isnull().sum()"
   ]
  },
  {
   "cell_type": "code",
   "execution_count": 7,
   "metadata": {},
   "outputs": [
    {
     "data": {
      "text/plain": [
       "0"
      ]
     },
     "execution_count": 7,
     "metadata": {},
     "output_type": "execute_result"
    }
   ],
   "source": [
    "#check for null values in title column\n",
    "df['title'].isnull().sum()"
   ]
  },
  {
   "cell_type": "code",
   "execution_count": 8,
   "metadata": {},
   "outputs": [],
   "source": [
    "df['title_body'] = df['title'] + ' ' + df['body']"
   ]
  },
  {
   "cell_type": "code",
   "execution_count": 11,
   "metadata": {},
   "outputs": [],
   "source": [
    "# string\n",
    "docs = df['title_body'].astype(str).tolist()"
   ]
  },
  {
   "cell_type": "code",
   "execution_count": 12,
   "metadata": {},
   "outputs": [
    {
     "name": "stdout",
     "output_type": "stream",
     "text": [
      "<class 'list'>\n",
      "<class 'str'>\n"
     ]
    }
   ],
   "source": [
    "print(type(docs))\n",
    "print(type(docs[0]))"
   ]
  },
  {
   "cell_type": "code",
   "execution_count": 14,
   "metadata": {},
   "outputs": [],
   "source": [
    "# save the docs to a file\n",
    "with open('docs.txt', 'w') as f:\n",
    "    for doc in docs:\n",
    "        f.write(doc + '\\n')"
   ]
  },
  {
   "cell_type": "markdown",
   "metadata": {},
   "source": [
    "Preprocessing with SPACY"
   ]
  },
  {
   "cell_type": "code",
   "execution_count": 10,
   "metadata": {},
   "outputs": [],
   "source": [
    "import spacy\n",
    "nlp = spacy.load('en_core_web_sm')"
   ]
  },
  {
   "cell_type": "code",
   "execution_count": 11,
   "metadata": {},
   "outputs": [],
   "source": [
    "# tokenize\n",
    "docs = docs.apply(nlp)"
   ]
  },
  {
   "cell_type": "code",
   "execution_count": 12,
   "metadata": {},
   "outputs": [],
   "source": [
    "# stop words\n",
    "from spacy.lang.en.stop_words import STOP_WORDS\n",
    "\n",
    "# remove stop words\n",
    "docs = docs.apply(lambda x: [token for token in x if not token.is_stop])"
   ]
  },
  {
   "cell_type": "code",
   "execution_count": 13,
   "metadata": {},
   "outputs": [],
   "source": [
    "# lemmatize the text\n",
    "\n",
    "docs = docs.apply(lambda x: [token.lemma_ for token in x])"
   ]
  },
  {
   "cell_type": "code",
   "execution_count": 14,
   "metadata": {},
   "outputs": [],
   "source": [
    "# remove punctuation and non-alphabetic characters\n",
    "docs = docs.apply(lambda x: [token for token in x if token.isalpha()])"
   ]
  },
  {
   "cell_type": "code",
   "execution_count": 15,
   "metadata": {},
   "outputs": [],
   "source": [
    "# lower case\n",
    "docs = docs.apply(lambda x: [token.lower() for token in x])"
   ]
  },
  {
   "cell_type": "code",
   "execution_count": 16,
   "metadata": {},
   "outputs": [],
   "source": [
    "from gensim import corpora, models\n",
    "from gensim.models import CoherenceModel"
   ]
  },
  {
   "cell_type": "code",
   "execution_count": 17,
   "metadata": {},
   "outputs": [],
   "source": [
    "dictionary = corpora.Dictionary(docs)"
   ]
  },
  {
   "cell_type": "code",
   "execution_count": 18,
   "metadata": {},
   "outputs": [],
   "source": [
    "corpus = [dictionary.doc2bow(doc) for doc in docs]"
   ]
  },
  {
   "cell_type": "markdown",
   "metadata": {},
   "source": [
    "Model "
   ]
  },
  {
   "cell_type": "code",
   "execution_count": 19,
   "metadata": {},
   "outputs": [],
   "source": [
    "# Calculate coherence scores for different numbers of topics\n",
    "coherence_scores = []\n",
    "for num_topics in range(2, 50, 2):\n",
    "    lda_model = models.LdaModel(corpus, num_topics=num_topics, id2word=dictionary)\n",
    "    coherence_model = CoherenceModel(model=lda_model, texts=docs, dictionary=dictionary, coherence='c_v')\n",
    "    coherence_score = coherence_model.get_coherence()\n",
    "    coherence_scores.append(coherence_score)\n",
    "\n",
    "# Find the number of topics with the highest coherence score\n",
    "optimal_num_topics = range(2, 50, 2)[coherence_scores.index(max(coherence_scores))]\n",
    "\n",
    "# Create the LDA model with the optimal number of topics\n",
    "lda_model = models.LdaModel(corpus, num_topics=optimal_num_topics, id2word=dictionary, passes=15)"
   ]
  },
  {
   "cell_type": "code",
   "execution_count": 20,
   "metadata": {},
   "outputs": [
    {
     "name": "stderr",
     "output_type": "stream",
     "text": [
      "/Users/grahammarsh/Documents/GitHub/project4/venv/lib/python3.12/site-packages/joblib/externals/loky/backend/fork_exec.py:38: DeprecationWarning: This process (pid=91999) is multi-threaded, use of fork() may lead to deadlocks in the child.\n",
      "  pid = os.fork()\n",
      "/Users/grahammarsh/Documents/GitHub/project4/venv/lib/python3.12/site-packages/joblib/externals/loky/backend/fork_exec.py:38: DeprecationWarning: This process (pid=91999) is multi-threaded, use of fork() may lead to deadlocks in the child.\n",
      "  pid = os.fork()\n",
      "/Users/grahammarsh/Documents/GitHub/project4/venv/lib/python3.12/site-packages/joblib/externals/loky/backend/fork_exec.py:38: DeprecationWarning: This process (pid=91999) is multi-threaded, use of fork() may lead to deadlocks in the child.\n",
      "  pid = os.fork()\n",
      "/Users/grahammarsh/Documents/GitHub/project4/venv/lib/python3.12/site-packages/joblib/externals/loky/backend/fork_exec.py:38: DeprecationWarning: This process (pid=91999) is multi-threaded, use of fork() may lead to deadlocks in the child.\n",
      "  pid = os.fork()\n",
      "/Users/grahammarsh/Documents/GitHub/project4/venv/lib/python3.12/site-packages/joblib/externals/loky/backend/fork_exec.py:38: DeprecationWarning: This process (pid=91999) is multi-threaded, use of fork() may lead to deadlocks in the child.\n",
      "  pid = os.fork()\n",
      "/Users/grahammarsh/Documents/GitHub/project4/venv/lib/python3.12/site-packages/joblib/externals/loky/backend/fork_exec.py:38: DeprecationWarning: This process (pid=91999) is multi-threaded, use of fork() may lead to deadlocks in the child.\n",
      "  pid = os.fork()\n",
      "/Users/grahammarsh/Documents/GitHub/project4/venv/lib/python3.12/site-packages/joblib/externals/loky/backend/fork_exec.py:38: DeprecationWarning: This process (pid=91999) is multi-threaded, use of fork() may lead to deadlocks in the child.\n",
      "  pid = os.fork()\n",
      "/Users/grahammarsh/Documents/GitHub/project4/venv/lib/python3.12/site-packages/joblib/externals/loky/backend/fork_exec.py:38: DeprecationWarning: This process (pid=91999) is multi-threaded, use of fork() may lead to deadlocks in the child.\n",
      "  pid = os.fork()\n",
      "/Users/grahammarsh/Documents/GitHub/project4/venv/lib/python3.12/site-packages/joblib/externals/loky/backend/fork_exec.py:38: DeprecationWarning: This process (pid=91999) is multi-threaded, use of fork() may lead to deadlocks in the child.\n",
      "  pid = os.fork()\n"
     ]
    },
    {
     "data": {
      "text/html": [
       "\n",
       "<link rel=\"stylesheet\" type=\"text/css\" href=\"https://cdn.jsdelivr.net/gh/bmabey/pyLDAvis@3.4.0/pyLDAvis/js/ldavis.v1.0.0.css\">\n",
       "\n",
       "\n",
       "<div id=\"ldavis_el9199964407414565588307750\" style=\"background-color:white;\"></div>\n",
       "<script type=\"text/javascript\">\n",
       "\n",
       "var ldavis_el9199964407414565588307750_data = {\"mdsDat\": {\"x\": [0.06743132789384093, -0.06743132789384093], \"y\": [0.0, 0.0], \"topics\": [1, 2], \"cluster\": [1, 1], \"Freq\": [68.91923386401754, 31.08076613598245]}, \"tinfo\": {\"Term\": [\"dad\", \"trauma\", \"gift\", \"page\", \"feyre\", \"louise\", \"tamlin\", \"ptsd\", \"joke\", \"recipe\", \"experience\", \"de\", \"love\", \"amazing\", \"write\", \"memory\", \"rider\", \"child\", \"murder\", \"reader\", \"nina\", \"free\", \"leave\", \"que\", \"wing\", \"day\", \"millie\", \"becky\", \"fae\", \"richard\", \"tamlin\", \"recipe\", \"becky\", \"gluten\", \"rhys\", \"free\", \"rhysand\", \"fae\", \"amazing\", \"tate\", \"miles\", \"acotar\", \"fryer\", \"feyre\", \"pet\", \"rachel\", \"colleen\", \"excell\", \"rowan\", \"spring\", \"beast\", \"curse\", \"lucien\", \"air\", \"god\", \"hear\", \"serial\", \"mask\", \"situation\", \"hoover\", \"beautiful\", \"scene\", \"love\", \"brilliant\", \"food\", \"book\", \"easy\", \"recommend\", \"read\", \"great\", \"wait\", \"think\", \"definitely\", \"see\", \"good\", \"court\", \"like\", \"get\", \"go\", \"way\", \"thing\", \"character\", \"story\", \"know\", \"want\", \"feel\", \"series\", \"end\", \"time\", \"find\", \"start\", \"world\", \"come\", \"look\", \"write\", \"dad\", \"de\", \"joke\", \"que\", \"print\", \"richard\", \"recovery\", \"david\", \"nicholls\", \"c\", \"gift\", \"memory\", \"canon\", \"vivid\", \"y\", \"coles\", \"cadet\", \"el\", \"ptsd\", \"es\", \"coast\", \"para\", \"disability\", \"\\u00e0\", \"libro\", \"response\", \"fertility\", \"limb\", \"text\", \"lucky\", \"trauma\", \"louise\", \"patient\", \"nina\", \"quadrant\", \"village\", \"church\", \"murder\", \"process\", \"en\", \"millie\", \"mom\", \"page\", \"fill\", \"experience\", \"traumatic\", \"wing\", \"rider\", \"sleep\", \"child\", \"book\", \"write\", \"character\", \"reader\", \"leave\", \"day\", \"like\", \"story\", \"plot\", \"time\", \"year\", \"find\", \"read\", \"violet\", \"feel\", \"enjoy\", \"good\", \"life\", \"know\", \"love\", \"world\", \"people\", \"way\", \"series\", \"go\", \"want\"], \"Freq\": [56.0, 56.0, 51.0, 109.0, 219.0, 43.0, 131.0, 32.0, 26.0, 89.0, 61.0, 23.0, 617.0, 85.0, 143.0, 20.0, 47.0, 61.0, 25.0, 112.0, 21.0, 67.0, 62.0, 17.0, 37.0, 113.0, 23.0, 61.0, 64.0, 16.0, 130.26422781618322, 88.92745539061272, 61.003244994644504, 52.895068764342966, 53.77419623296706, 67.17381432461735, 50.98004346317368, 63.50035793211103, 84.9305123394013, 43.795426182830546, 44.663018946213455, 45.526668568068985, 27.562142604225883, 215.1500512182742, 21.23616979830984, 19.434138876192595, 19.42087989342784, 19.419286037681594, 19.410236121366815, 19.408984411062377, 33.491797504643074, 17.61831881525472, 18.468909321484773, 36.05963969636235, 18.45029457690319, 25.43316799940982, 28.935226463463056, 15.77120769049518, 14.892007388930503, 19.26472606881772, 47.72157900337384, 47.233208729924556, 559.998889177831, 43.77173345787994, 31.1782337401818, 1254.244104853492, 111.61669824860243, 99.81879847320481, 551.0325376527428, 212.86293428019118, 85.72145097350449, 184.24152632601812, 70.80667397480055, 56.12695766977656, 245.1804750782316, 99.79494991963713, 294.8510229206651, 125.0134131853653, 147.04760673848668, 152.31918045116012, 121.1644463439469, 239.5262811342569, 209.66198413040155, 153.54540261397412, 133.66588522474802, 167.7491810591274, 134.25684154190324, 101.1351708785675, 170.89326053884685, 131.87279920400798, 98.68109374003899, 101.06115906062055, 89.10636696847108, 89.17573102853522, 89.23327921433176, 55.31351815288774, 22.85138225355551, 26.001354907474276, 17.215611522786958, 13.205347694331971, 15.484790467473914, 10.822624912827884, 14.65104323816756, 13.064088074436759, 8.417738128020494, 48.96035357160977, 19.108443070401382, 8.404660938313004, 8.390599140104758, 12.185166487694604, 12.153232784837634, 11.360267749367896, 6.81412864377612, 30.280822463396028, 6.811775207941495, 6.809167408545386, 7.561305946615248, 6.784995995513623, 6.012427403943965, 6.012146687400887, 6.011953814129792, 6.011899962384794, 6.011590219369234, 6.007627723948229, 7.500085296878907, 51.56549169850394, 39.84482210055032, 8.961102235057533, 19.10462838083367, 11.78441860621402, 10.2805922042523, 12.363207231351208, 20.920487834263266, 12.775996515784412, 10.829508006078711, 19.56385772967378, 11.334816116128787, 67.85876567026169, 17.08374273059407, 36.869443678608235, 10.699888001648612, 24.196233721153785, 28.444534484175716, 17.847120624350616, 32.425405189970405, 236.8890139657539, 54.02283008294008, 89.99116983899393, 45.630158605471046, 31.72810376925456, 45.03184662217184, 92.26253714194968, 73.15796681406097, 41.51708606690447, 64.2234535916511, 40.14417974979821, 53.10537967325133, 97.6844255463832, 32.839545733083085, 52.5710848111557, 37.866719943039485, 54.48815804641948, 36.49940198574047, 42.706157039821356, 57.63901524389439, 36.31040298486753, 34.118497941893715, 36.57319033420679, 34.94475939671798, 33.22630667410024, 33.061977119418486], \"Total\": [56.0, 56.0, 51.0, 109.0, 219.0, 43.0, 131.0, 32.0, 26.0, 89.0, 61.0, 23.0, 617.0, 85.0, 143.0, 20.0, 47.0, 61.0, 25.0, 112.0, 21.0, 67.0, 62.0, 17.0, 37.0, 113.0, 23.0, 61.0, 64.0, 16.0, 131.04377254803475, 89.46900414959694, 61.443747685606766, 53.30724061560412, 54.208814236301855, 67.75635562388187, 51.4860866399948, 64.13255221119616, 85.80800590008282, 44.25631333472481, 45.156558444863144, 46.0562243811229, 27.981416058876928, 219.2567222738768, 21.65078612731849, 19.842678742343587, 19.84111227197077, 19.840935748321616, 19.83991103101618, 19.839743325784386, 34.266593066380246, 18.032960255981337, 18.931031387464035, 36.96337194690359, 18.928776067803067, 26.135220547617273, 29.740580455700655, 16.219539269850262, 15.318009447251868, 19.823074901309738, 49.512511209705345, 49.45743723253386, 617.6379044217254, 45.857041263192414, 32.40045361304537, 1491.133118819246, 121.71559466522906, 109.15092395421271, 648.716963199126, 240.65973233697696, 93.91942738680335, 211.7532233146717, 77.79337874686135, 60.89169895889979, 299.6686331246511, 113.96195839666547, 387.1135600626148, 148.9024001675925, 180.27391341258692, 188.89237078536692, 147.66531017781125, 329.5174509732508, 282.8199509444625, 196.25155965379548, 166.7278623441665, 220.3202658702831, 169.20160093862123, 120.5316619679125, 235.11671413049794, 184.9781788772593, 124.26590501802093, 137.37156204548808, 113.5568007862368, 115.16923045593055, 143.25610929727185, 56.26594721242625, 23.31772421471163, 26.533886449931074, 17.703900917796414, 13.69210135174108, 16.115209482074373, 11.282509461009939, 15.316006662418177, 13.709122373596665, 8.87538195173038, 51.64706420372858, 20.175055019782526, 8.876885323901362, 8.878489859453987, 12.91643493557396, 12.921112594641691, 12.117062502063224, 7.270641704324904, 32.317625711562215, 7.2709111541768445, 7.271045070373993, 8.079387666556396, 7.273671892072597, 6.468251409826681, 6.468293677733776, 6.468333647562699, 6.46835008807431, 6.468389794966983, 6.468756095728221, 8.086623205810886, 56.74143364295514, 43.76358026038778, 9.708967118755847, 21.078751685023526, 12.967482064502763, 11.349257132146132, 13.797603405553968, 25.3692877191941, 14.648426614961476, 12.182934805134039, 23.7331137790162, 13.023874890178762, 109.83822951385183, 21.33554771948282, 61.32563569440457, 12.199784067314988, 37.61464440526383, 47.927142835431695, 24.855979739094234, 61.89150248839695, 1491.133118819246, 143.25610929727185, 329.5174509732508, 112.66871369047905, 62.88474508323745, 113.64933178197658, 387.1135600626148, 282.8199509444625, 107.76567136529796, 235.11671413049794, 103.41826097962146, 184.9781788772593, 648.716963199126, 74.50122082522677, 220.3202658702831, 109.13489730516073, 299.6686331246511, 122.87593613989961, 196.25155965379548, 617.6379044217254, 137.37156204548808, 114.13463640987007, 188.89237078536692, 169.20160093862123, 180.27391341258692, 166.7278623441665], \"Category\": [\"Default\", \"Default\", \"Default\", \"Default\", \"Default\", \"Default\", \"Default\", \"Default\", \"Default\", \"Default\", \"Default\", \"Default\", \"Default\", \"Default\", \"Default\", \"Default\", \"Default\", \"Default\", \"Default\", \"Default\", \"Default\", \"Default\", \"Default\", \"Default\", \"Default\", \"Default\", \"Default\", \"Default\", \"Default\", \"Default\", \"Topic1\", \"Topic1\", \"Topic1\", \"Topic1\", \"Topic1\", \"Topic1\", \"Topic1\", \"Topic1\", \"Topic1\", \"Topic1\", \"Topic1\", \"Topic1\", \"Topic1\", \"Topic1\", \"Topic1\", \"Topic1\", \"Topic1\", \"Topic1\", \"Topic1\", \"Topic1\", \"Topic1\", \"Topic1\", \"Topic1\", \"Topic1\", \"Topic1\", \"Topic1\", \"Topic1\", \"Topic1\", \"Topic1\", \"Topic1\", \"Topic1\", \"Topic1\", \"Topic1\", \"Topic1\", \"Topic1\", \"Topic1\", \"Topic1\", \"Topic1\", \"Topic1\", \"Topic1\", \"Topic1\", \"Topic1\", \"Topic1\", \"Topic1\", \"Topic1\", \"Topic1\", \"Topic1\", \"Topic1\", \"Topic1\", \"Topic1\", \"Topic1\", \"Topic1\", \"Topic1\", \"Topic1\", \"Topic1\", \"Topic1\", \"Topic1\", \"Topic1\", \"Topic1\", \"Topic1\", \"Topic1\", \"Topic1\", \"Topic1\", \"Topic1\", \"Topic1\", \"Topic2\", \"Topic2\", \"Topic2\", \"Topic2\", \"Topic2\", \"Topic2\", \"Topic2\", \"Topic2\", \"Topic2\", \"Topic2\", \"Topic2\", \"Topic2\", \"Topic2\", \"Topic2\", \"Topic2\", \"Topic2\", \"Topic2\", \"Topic2\", \"Topic2\", \"Topic2\", \"Topic2\", \"Topic2\", \"Topic2\", \"Topic2\", \"Topic2\", \"Topic2\", \"Topic2\", \"Topic2\", \"Topic2\", \"Topic2\", \"Topic2\", \"Topic2\", \"Topic2\", \"Topic2\", \"Topic2\", \"Topic2\", \"Topic2\", \"Topic2\", \"Topic2\", \"Topic2\", \"Topic2\", \"Topic2\", \"Topic2\", \"Topic2\", \"Topic2\", \"Topic2\", \"Topic2\", \"Topic2\", \"Topic2\", \"Topic2\", \"Topic2\", \"Topic2\", \"Topic2\", \"Topic2\", \"Topic2\", \"Topic2\", \"Topic2\", \"Topic2\", \"Topic2\", \"Topic2\", \"Topic2\", \"Topic2\", \"Topic2\", \"Topic2\", \"Topic2\", \"Topic2\", \"Topic2\", \"Topic2\", \"Topic2\", \"Topic2\", \"Topic2\", \"Topic2\", \"Topic2\", \"Topic2\", \"Topic2\", \"Topic2\"], \"logprob\": [30.0, 29.0, 28.0, 27.0, 26.0, 25.0, 24.0, 23.0, 22.0, 21.0, 20.0, 19.0, 18.0, 17.0, 16.0, 15.0, 14.0, 13.0, 12.0, 11.0, 10.0, 9.0, 8.0, 7.0, 6.0, 5.0, 4.0, 3.0, 2.0, 1.0, -5.4089, -5.7906, -6.1675, -6.3102, -6.2937, -6.0712, -6.347, -6.1274, -5.8366, -6.4989, -6.4793, -6.4602, -6.962, -4.9071, -7.2228, -7.3114, -7.3121, -7.3122, -7.3127, -7.3127, -6.7672, -7.4095, -7.3624, -6.6933, -7.3634, -7.0424, -6.9134, -7.5203, -7.5776, -7.3202, -6.4131, -6.4234, -3.9505, -6.4995, -6.8387, -3.1442, -5.5634, -5.6751, -3.9667, -4.9178, -5.8274, -5.0622, -6.0185, -6.2508, -4.7765, -5.6753, -4.592, -5.45, -5.2877, -5.2525, -5.4813, -4.7998, -4.933, -5.2445, -5.3831, -5.156, -5.3787, -5.662, -5.1374, -5.3966, -5.6866, -5.6627, -5.7886, -5.7879, -5.7872, -5.4691, -6.3531, -6.224, -6.6363, -6.9015, -6.7423, -7.1005, -6.7976, -6.9122, -7.3518, -5.5911, -6.532, -7.3533, -7.355, -6.9819, -6.9845, -7.052, -7.5631, -6.0716, -7.5635, -7.5638, -7.4591, -7.5674, -7.6883, -7.6883, -7.6884, -7.6884, -7.6884, -7.6891, -7.4672, -5.5393, -5.7971, -7.2892, -6.5322, -7.0153, -7.1519, -6.9674, -6.4414, -6.9345, -7.0998, -6.5084, -7.0542, -5.2647, -6.644, -5.8747, -7.1119, -6.2959, -6.1342, -6.6003, -6.0032, -4.0145, -5.4927, -4.9824, -5.6615, -6.0249, -5.6747, -4.9575, -5.1895, -5.756, -5.3197, -5.7896, -5.5098, -4.9004, -5.9905, -5.5199, -5.848, -5.4841, -5.8848, -5.7278, -5.4279, -5.89, -5.9523, -5.8828, -5.9283, -5.9788, -5.9837], \"loglift\": [30.0, 29.0, 28.0, 27.0, 26.0, 25.0, 24.0, 23.0, 22.0, 21.0, 20.0, 19.0, 18.0, 17.0, 16.0, 15.0, 14.0, 13.0, 12.0, 11.0, 10.0, 9.0, 8.0, 7.0, 6.0, 5.0, 4.0, 3.0, 2.0, 1.0, 0.3663, 0.3662, 0.365, 0.3645, 0.3642, 0.3636, 0.3624, 0.3623, 0.362, 0.3618, 0.3612, 0.3607, 0.3571, 0.3533, 0.3529, 0.3514, 0.3508, 0.3508, 0.3503, 0.3503, 0.3494, 0.349, 0.3475, 0.3475, 0.3466, 0.345, 0.3448, 0.3442, 0.344, 0.3437, 0.3354, 0.3262, 0.2743, 0.3257, 0.3338, 0.1992, 0.2856, 0.2829, 0.209, 0.2495, 0.2809, 0.2331, 0.2781, 0.2908, 0.1716, 0.2395, 0.1, 0.1974, 0.1685, 0.157, 0.1744, 0.0533, 0.0729, 0.1268, 0.1512, 0.0996, 0.1409, 0.1968, 0.0532, 0.0338, 0.1417, 0.0653, 0.1298, 0.1164, -0.1011, 1.1515, 1.1484, 1.1483, 1.1406, 1.1324, 1.1287, 1.127, 1.1242, 1.1204, 1.1156, 1.1152, 1.1143, 1.1139, 1.1121, 1.1103, 1.1073, 1.1041, 1.1037, 1.1035, 1.1034, 1.103, 1.1023, 1.099, 1.0955, 1.0955, 1.0954, 1.0954, 1.0953, 1.0946, 1.0933, 1.0729, 1.0748, 1.0884, 1.0702, 1.0729, 1.0697, 1.0588, 0.9758, 1.0318, 1.0508, 0.9754, 1.0297, 0.687, 0.9463, 0.6598, 1.0374, 0.7274, 0.6469, 0.8373, 0.5221, -0.6711, 0.1934, -0.1293, 0.2647, 0.4845, 0.2428, -0.2655, -0.1836, 0.2147, -0.1291, 0.2223, -0.0794, -0.7247, 0.3494, -0.2643, 0.1101, -0.5361, -0.0453, -0.3565, -1.2031, -0.162, -0.039, -0.4733, -0.4087, -0.5226, -0.4494]}, \"token.table\": {\"Topic\": [1, 2, 1, 2, 1, 2, 1, 2, 1, 2, 1, 1, 2, 1, 2, 2, 1, 2, 2, 1, 2, 1, 2, 1, 2, 2, 1, 2, 1, 1, 2, 1, 2, 1, 1, 2, 1, 2, 1, 2, 2, 1, 2, 2, 1, 2, 2, 1, 2, 1, 2, 1, 2, 2, 1, 1, 2, 1, 2, 1, 2, 2, 1, 2, 1, 2, 1, 2, 1, 2, 1, 2, 1, 1, 2, 1, 2, 1, 1, 2, 1, 1, 2, 1, 2, 1, 2, 1, 2, 1, 2, 1, 2, 1, 2, 2, 1, 2, 1, 2, 2, 1, 2, 1, 2, 1, 2, 1, 1, 2, 1, 1, 2, 1, 1, 2, 1, 2, 1, 2, 1, 2, 1, 2, 1, 2, 1, 2, 1, 2, 1, 2, 1, 1, 2, 2, 1, 2, 1, 2, 1, 2, 2, 1, 1, 2, 1, 2, 1, 2, 1, 2, 2, 2, 1, 1, 2, 1, 2, 1, 2, 1, 1, 2, 1, 2, 1, 2, 1, 2, 1, 1, 2, 1, 1, 2, 1, 2, 1, 2, 1, 2, 1, 2, 1, 2, 1, 2, 1, 2, 1, 2, 1, 2, 1, 2, 2, 1, 2, 1, 2, 1, 2, 1, 2, 1, 2, 1, 2, 1, 2, 1, 2, 2], \"Freq\": [0.9987792229632713, 0.021712591803549376, 0.973937119473639, 0.02705380887426775, 0.9905835604544443, 0.011653924240640521, 0.9630370879320673, 0.029182942058547493, 0.9694519390604275, 0.04039383079418448, 0.9927779847043622, 0.8409711944383478, 0.1589395319632284, 0.9595036833594629, 0.0436138037890665, 0.9013696586252592, 0.08252825301757136, 0.9078107831932849, 0.9012170043990189, 0.7283377535579518, 0.27312665758423194, 0.46856190000294057, 0.5170338206928999, 0.07247635481372575, 0.8697162577647088, 0.9627226804743143, 0.07739271619803809, 0.928712594376457, 0.9576076048337776, 0.7837487440980011, 0.21134797593653962, 0.8774857979531353, 0.12284801171343894, 0.9981722215591085, 0.0177727390996299, 0.9775006504796445, 0.06529117034492818, 0.9793675551739226, 0.6071307144363041, 0.395954813762807, 0.9863741327504348, 0.9126740751424756, 0.08998195107038492, 0.9623750017689324, 0.9201778975656227, 0.08215874085407346, 0.962776091116701, 0.08208202834497544, 0.9029023117947298, 0.8379540972967572, 0.15763492919443947, 0.6505710066457595, 0.3481929331343501, 0.962740411974197, 0.9576161246128347, 0.39135346463583076, 0.6033365913135724, 0.9979331524066024, 0.015592705506353163, 0.7625263129398753, 0.2405588963441273, 0.9275935776979966, 0.9805856703970989, 0.018243454332969283, 0.1874805396417056, 0.7967922934772488, 0.7135976837980845, 0.2865202821310491, 0.9567767281973636, 0.030863765425721407, 0.9888371265408601, 0.014758763082699406, 1.0006641529893974, 0.8394760585410987, 0.16117940323989097, 0.05808655431344768, 0.9487470537863122, 0.9942364186917942, 0.8154257996472623, 0.1830547713493854, 0.9509331155656244, 0.8175697184098979, 0.18019903997605913, 0.8850670526872888, 0.11634684260677974, 0.9565635749830789, 0.038262542999323156, 0.9584789491333983, 0.05044626048070517, 0.03768765657028723, 0.9798790708274678, 0.7847071395084408, 0.21910653895365556, 0.49296534412227994, 0.5088674519971922, 0.9276016672919764, 0.6998929383706607, 0.292978439317951, 0.7620502881694053, 0.23765636105622132, 0.9275878835670301, 0.7727758503522849, 0.2257547427995439, 0.0914002002624215, 0.914002002624215, 0.9066801049464575, 0.09390615372659739, 0.9508198275937276, 0.12366101085078626, 0.9892880868062901, 0.986464518738929, 0.049566159746253786, 0.9417570351788219, 0.9965329854564913, 0.16854088499489805, 0.8427044249744903, 0.15356412871473374, 0.8446027079310355, 0.15767096200236033, 0.8277725505123917, 0.07294412966405261, 0.9482736856326841, 0.09488227907827207, 0.9013816512435847, 0.38238052621472135, 0.6190922805381203, 0.12377175613683863, 0.9901740490947091, 0.10299756789454909, 0.9269781110509417, 0.700926576860605, 0.29789379516575715, 0.9699416860204747, 0.6124399278901808, 0.38973449956647865, 0.9494525103224515, 0.1365334347893212, 0.8874673261305879, 0.06188573436211509, 0.9282860154317264, 0.07711597324953347, 0.9253916789944016, 0.9602403492278453, 0.9575320069792119, 0.8493688792763519, 0.15106742317437835, 0.5946637518562685, 0.408276605752065, 0.9947579147208039, 0.011177055221582065, 0.9161626523834887, 0.08245463871451399, 0.9749604055741115, 0.9275959353551329, 0.9961479652480202, 0.9905588738294744, 0.019422723016264205, 0.062053180327090514, 0.9307977049063577, 0.3964350653082043, 0.5842200962436696, 0.9576655848051371, 0.9503120790311124, 0.040438811873664354, 0.9196655859084906, 0.08211299874182952, 0.9750986549571966, 0.03362409155024816, 0.7919546816144442, 0.20685383475004138, 0.9792395057368946, 0.28162237310606547, 0.7241718165584541, 0.9576736799466036, 0.7966787027032323, 0.2092287502048893, 0.7425218740711748, 0.25811474670093215, 0.9920349320861306, 0.007631037939124082, 0.9942084345619522, 0.9275353578352145, 0.8194206198754318, 0.18284592344327816, 0.8689360054112161, 0.13222939212779375, 0.7272983574663648, 0.27220523320378565, 0.08811902835346823, 0.9164378948760696, 0.08196866391095779, 0.9016553030205358, 0.08811149384989757, 0.8811149384989757, 0.5637491511518753, 0.4429457616193305, 0.9010541349530794, 0.9156784958431708, 0.08517939496215543, 0.8037049004046588, 0.19792732621905776, 0.8046910490244908, 0.19587874219675105, 0.3456100730326396, 0.6380493655987192, 0.7352322307185799, 0.26206297332543443, 0.6212649529334586, 0.37694727481355916, 0.07742074380337237, 0.9290489256404684, 0.6091767488955759, 0.38677888818766726, 0.9276077288654389], \"Term\": [\"acotar\", \"acotar\", \"air\", \"air\", \"amazing\", \"amazing\", \"beast\", \"beast\", \"beautiful\", \"beautiful\", \"becky\", \"book\", \"book\", \"brilliant\", \"brilliant\", \"c\", \"cadet\", \"cadet\", \"canon\", \"character\", \"character\", \"child\", \"child\", \"church\", \"church\", \"coast\", \"coles\", \"coles\", \"colleen\", \"come\", \"come\", \"court\", \"court\", \"curse\", \"dad\", \"dad\", \"david\", \"david\", \"day\", \"day\", \"de\", \"definitely\", \"definitely\", \"disability\", \"easy\", \"easy\", \"el\", \"en\", \"en\", \"end\", \"end\", \"enjoy\", \"enjoy\", \"es\", \"excell\", \"experience\", \"experience\", \"fae\", \"fae\", \"feel\", \"feel\", \"fertility\", \"feyre\", \"feyre\", \"fill\", \"fill\", \"find\", \"find\", \"food\", \"food\", \"free\", \"free\", \"fryer\", \"get\", \"get\", \"gift\", \"gift\", \"gluten\", \"go\", \"go\", \"god\", \"good\", \"good\", \"great\", \"great\", \"hear\", \"hear\", \"hoover\", \"hoover\", \"joke\", \"joke\", \"know\", \"know\", \"leave\", \"leave\", \"libro\", \"life\", \"life\", \"like\", \"like\", \"limb\", \"look\", \"look\", \"louise\", \"louise\", \"love\", \"love\", \"lucien\", \"lucky\", \"lucky\", \"mask\", \"memory\", \"memory\", \"miles\", \"millie\", \"millie\", \"mom\", \"mom\", \"murder\", \"murder\", \"nicholls\", \"nicholls\", \"nina\", \"nina\", \"page\", \"page\", \"para\", \"para\", \"patient\", \"patient\", \"people\", \"people\", \"pet\", \"plot\", \"plot\", \"print\", \"process\", \"process\", \"ptsd\", \"ptsd\", \"quadrant\", \"quadrant\", \"que\", \"rachel\", \"read\", \"read\", \"reader\", \"reader\", \"recipe\", \"recipe\", \"recommend\", \"recommend\", \"recovery\", \"response\", \"rhys\", \"rhysand\", \"rhysand\", \"richard\", \"richard\", \"rider\", \"rider\", \"rowan\", \"scene\", \"scene\", \"see\", \"see\", \"serial\", \"serial\", \"series\", \"series\", \"situation\", \"sleep\", \"sleep\", \"spring\", \"start\", \"start\", \"story\", \"story\", \"tamlin\", \"tamlin\", \"tate\", \"text\", \"thing\", \"thing\", \"think\", \"think\", \"time\", \"time\", \"trauma\", \"trauma\", \"traumatic\", \"traumatic\", \"village\", \"village\", \"violet\", \"violet\", \"vivid\", \"wait\", \"wait\", \"want\", \"want\", \"way\", \"way\", \"wing\", \"wing\", \"world\", \"world\", \"write\", \"write\", \"y\", \"y\", \"year\", \"year\", \"\\u00e0\"]}, \"R\": 30, \"lambda.step\": 0.01, \"plot.opts\": {\"xlab\": \"PC1\", \"ylab\": \"PC2\"}, \"topic.order\": [1, 2]};\n",
       "\n",
       "function LDAvis_load_lib(url, callback){\n",
       "  var s = document.createElement('script');\n",
       "  s.src = url;\n",
       "  s.async = true;\n",
       "  s.onreadystatechange = s.onload = callback;\n",
       "  s.onerror = function(){console.warn(\"failed to load library \" + url);};\n",
       "  document.getElementsByTagName(\"head\")[0].appendChild(s);\n",
       "}\n",
       "\n",
       "if(typeof(LDAvis) !== \"undefined\"){\n",
       "   // already loaded: just create the visualization\n",
       "   !function(LDAvis){\n",
       "       new LDAvis(\"#\" + \"ldavis_el9199964407414565588307750\", ldavis_el9199964407414565588307750_data);\n",
       "   }(LDAvis);\n",
       "}else if(typeof define === \"function\" && define.amd){\n",
       "   // require.js is available: use it to load d3/LDAvis\n",
       "   require.config({paths: {d3: \"https://d3js.org/d3.v5\"}});\n",
       "   require([\"d3\"], function(d3){\n",
       "      window.d3 = d3;\n",
       "      LDAvis_load_lib(\"https://cdn.jsdelivr.net/gh/bmabey/pyLDAvis@3.4.0/pyLDAvis/js/ldavis.v3.0.0.js\", function(){\n",
       "        new LDAvis(\"#\" + \"ldavis_el9199964407414565588307750\", ldavis_el9199964407414565588307750_data);\n",
       "      });\n",
       "    });\n",
       "}else{\n",
       "    // require.js not available: dynamically load d3 & LDAvis\n",
       "    LDAvis_load_lib(\"https://d3js.org/d3.v5.js\", function(){\n",
       "         LDAvis_load_lib(\"https://cdn.jsdelivr.net/gh/bmabey/pyLDAvis@3.4.0/pyLDAvis/js/ldavis.v3.0.0.js\", function(){\n",
       "                 new LDAvis(\"#\" + \"ldavis_el9199964407414565588307750\", ldavis_el9199964407414565588307750_data);\n",
       "            })\n",
       "         });\n",
       "}\n",
       "</script>"
      ],
      "text/plain": [
       "<IPython.core.display.HTML object>"
      ]
     },
     "execution_count": 20,
     "metadata": {},
     "output_type": "execute_result"
    }
   ],
   "source": [
    "import pyLDAvis\n",
    "import pyLDAvis.gensim_models as gensimvis\n",
    "\n",
    "# Prepare the visualization\n",
    "vis = gensimvis.prepare(lda_model, corpus, dictionary)\n",
    "\n",
    "# Display the visualization\n",
    "pyLDAvis.display(vis)"
   ]
  },
  {
   "cell_type": "code",
   "execution_count": 21,
   "metadata": {},
   "outputs": [],
   "source": [
    "# save the visualization to an HTML file\n",
    "pyLDAvis.save_html(vis, 'lda.html')"
   ]
  },
  {
   "cell_type": "code",
   "execution_count": 22,
   "metadata": {},
   "outputs": [
    {
     "name": "stdout",
     "output_type": "stream",
     "text": [
      "0.3030604316389657\n"
     ]
    }
   ],
   "source": [
    "# coherence_scores of the optimal number of topics\n",
    "coherence_model = CoherenceModel(model=lda_model, texts=docs, dictionary=dictionary, coherence='c_v')\n",
    "coherence_score = coherence_model.get_coherence()\n",
    "print(coherence_score)"
   ]
  },
  {
   "cell_type": "code",
   "execution_count": 23,
   "metadata": {},
   "outputs": [],
   "source": [
    "# how can we improve the model?\n",
    "# 1. increase the number of passes\n",
    "# 2. increase the number of topics\n",
    "# 3. increase the number of words per topic\n",
    "# 4. increase the number of documents\n",
    "# 5. increase the number of words per document\n",
    "# 6. increase the number of words per topic\n",
    "# 7. increase the number of words per document\n",
    "# 8. increase the number of words per topic\n",
    "\n",
    "# let's try increasing the number of topics\n"
   ]
  }
 ],
 "metadata": {
  "kernelspec": {
   "display_name": "venv",
   "language": "python",
   "name": "python3"
  },
  "language_info": {
   "codemirror_mode": {
    "name": "ipython",
    "version": 3
   },
   "file_extension": ".py",
   "mimetype": "text/x-python",
   "name": "python",
   "nbconvert_exporter": "python",
   "pygments_lexer": "ipython3",
   "version": "3.12.3"
  }
 },
 "nbformat": 4,
 "nbformat_minor": 2
}
