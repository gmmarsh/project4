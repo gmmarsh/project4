{
 "cells": [
  {
   "cell_type": "code",
   "execution_count": 1,
   "metadata": {},
   "outputs": [],
   "source": [
    "# import concatenated reviews data from file and store in a dataframe\n",
    "import pandas as pd\n",
    "df = pd.read_csv('concatenated_reviews.csv')"
   ]
  },
  {
   "cell_type": "code",
   "execution_count": 2,
   "metadata": {},
   "outputs": [],
   "source": [
    "df['title_body'] = df['title'] + ' ' + df['body']"
   ]
  },
  {
   "cell_type": "code",
   "execution_count": 3,
   "metadata": {},
   "outputs": [],
   "source": [
    "docs = df['title_body'].astype(str).tolist()"
   ]
  },
  {
   "cell_type": "markdown",
   "metadata": {},
   "source": [
    "source: https://radimrehurek.com/gensim_3.8.3/parsing/preprocessing.html"
   ]
  },
  {
   "cell_type": "code",
   "execution_count": 4,
   "metadata": {},
   "outputs": [],
   "source": [
    "from gensim.parsing.preprocessing import preprocess_string\n",
    "from gensim.parsing.preprocessing import remove_stopwords\n",
    "from gensim.parsing.preprocessing import strip_punctuation\n",
    "from gensim.parsing.preprocessing import strip_numeric\n",
    "from gensim.parsing.preprocessing import strip_multiple_whitespaces\n",
    "from gensim.parsing.preprocessing import strip_short\n",
    "from gensim.parsing.preprocessing import strip_tags\n",
    "from gensim.parsing.preprocessing import strip_non_alphanum"
   ]
  },
  {
   "cell_type": "code",
   "execution_count": 5,
   "metadata": {},
   "outputs": [],
   "source": [
    "docs = [strip_tags(doc) for doc in docs]\n",
    "docs = [strip_non_alphanum(doc) for doc in docs]\n",
    "docs = [strip_multiple_whitespaces(doc) for doc in docs]\n",
    "docs = [strip_short(doc, minsize=3) for doc in docs]\n",
    "docs = [strip_numeric(doc) for doc in docs]\n",
    "docs = [remove_stopwords(doc) for doc in docs]\n",
    "docs = [strip_punctuation(doc) for doc in docs]\n",
    "docs = [preprocess_string(doc) for doc in docs]"
   ]
  },
  {
   "cell_type": "code",
   "execution_count": 6,
   "metadata": {},
   "outputs": [],
   "source": [
    "# create a dictionary from the documents\n",
    "from gensim import corpora\n",
    "dictionary = corpora.Dictionary(docs)"
   ]
  },
  {
   "cell_type": "code",
   "execution_count": 7,
   "metadata": {},
   "outputs": [],
   "source": [
    "# create a corpus from the documents\n",
    "corpus = [dictionary.doc2bow(doc) for doc in docs]"
   ]
  },
  {
   "cell_type": "code",
   "execution_count": 8,
   "metadata": {},
   "outputs": [],
   "source": [
    "from gensim.models import LdaModel\n",
    "lda_model = LdaModel(corpus=corpus, id2word=dictionary, num_topics=10, passes=15)"
   ]
  },
  {
   "cell_type": "code",
   "execution_count": 9,
   "metadata": {},
   "outputs": [
    {
     "name": "stdout",
     "output_type": "stream",
     "text": [
      "(0, '0.021*\"book\" + 0.015*\"feyr\" + 0.015*\"tamlin\" + 0.014*\"like\" + 0.010*\"law\"')\n",
      "(1, '0.062*\"dad\" + 0.040*\"gift\" + 0.037*\"joke\" + 0.025*\"book\" + 0.020*\"good\"')\n",
      "(2, '0.056*\"book\" + 0.035*\"read\" + 0.015*\"love\" + 0.013*\"charact\" + 0.012*\"like\"')\n",
      "(3, '0.029*\"book\" + 0.017*\"love\" + 0.015*\"mile\" + 0.012*\"like\" + 0.012*\"tate\"')\n",
      "(4, '0.021*\"book\" + 0.008*\"great\" + 0.007*\"que\" + 0.006*\"time\" + 0.006*\"read\"')\n",
      "(5, '0.026*\"book\" + 0.015*\"feyr\" + 0.013*\"love\" + 0.012*\"court\" + 0.010*\"charact\"')\n",
      "(6, '0.040*\"love\" + 0.030*\"book\" + 0.020*\"read\" + 0.018*\"feyr\" + 0.015*\"charact\"')\n",
      "(7, '0.061*\"book\" + 0.031*\"great\" + 0.018*\"read\" + 0.012*\"help\" + 0.011*\"parent\"')\n",
      "(8, '0.020*\"book\" + 0.016*\"love\" + 0.008*\"bluei\" + 0.008*\"feyr\" + 0.008*\"charact\"')\n",
      "(9, '0.029*\"book\" + 0.013*\"milli\" + 0.013*\"nina\" + 0.011*\"read\" + 0.008*\"stori\"')\n"
     ]
    }
   ],
   "source": [
    "topics = lda_model.print_topics(num_words=5)\n",
    "for topic in topics:\n",
    "    print(topic)"
   ]
  },
  {
   "cell_type": "code",
   "execution_count": 10,
   "metadata": {},
   "outputs": [
    {
     "name": "stdout",
     "output_type": "stream",
     "text": [
      "0.31242447248070115\n"
     ]
    }
   ],
   "source": [
    "from gensim.models import CoherenceModel\n",
    "coherence_model_lda = CoherenceModel(model=lda_model, texts=docs, dictionary=dictionary, coherence='c_v')\n",
    "coherence_score = coherence_model_lda.get_coherence()\n",
    "print(coherence_score)"
   ]
  }
 ],
 "metadata": {
  "kernelspec": {
   "display_name": "venv",
   "language": "python",
   "name": "python3"
  },
  "language_info": {
   "codemirror_mode": {
    "name": "ipython",
    "version": 3
   },
   "file_extension": ".py",
   "mimetype": "text/x-python",
   "name": "python",
   "nbconvert_exporter": "python",
   "pygments_lexer": "ipython3",
   "version": "3.12.3"
  }
 },
 "nbformat": 4,
 "nbformat_minor": 2
}
