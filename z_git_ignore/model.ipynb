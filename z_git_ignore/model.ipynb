{
 "cells": [
  {
   "cell_type": "code",
   "execution_count": 1,
   "metadata": {},
   "outputs": [],
   "source": [
    "from config import rainforest_api_key\n",
    "import pandas as pd\n",
    "import requests\n",
    "import json"
   ]
  },
  {
   "cell_type": "code",
   "execution_count": null,
   "metadata": {},
   "outputs": [],
   "source": [
    "data = []\n",
    "asins = ['1638931798', '1761560123', '1338896431', '1878424319', '1398518204', '1544512279', '1399620053', '1399725106', '0804172706', '0063078902', 'B0D3Q5DCGW', 'B0D51T5R5R', '152478589X', '1526672529', '1399725092', '073039753X', '0593733878', '1405943505', '1649374178', '1761290495', '1804990787', '0593492919', '1035051044', '0349441561', '1861972784', '1483815862', '1444715445', '1761041118', '1035054566', '0316434434', '1785042181', '0593519655', '0753560364', '0735242062', '1338603450', '031648623X', '0349437017', '1761268287', '1035044412', '1760980137', '1760266094', '0349441588', '1483815870', '1408726602', '1668037718', '024150970X', 'B0CP465ZPP', '0593655036', '1538704439', '1984862057', '1483815854', '0241624142', '0141033576', '1501110365', '1492667838', '0063389428', '1455570249', '0241992400', '1637589131', '146075266X', '1649374046', '0385348746', '1250178630', '1526664100', '1483815811', '0593638883', '0920668364', '1471156265', '0241558573', '1526605392', '1483815846', '1035040808', '152661717X', '0143127748', '1483815803', '1526635364', '1847941834', '144347004X', '0115539956', '141977378X', '1921844779', '1538742578', '1665955430', '148381582X', '152911554X', '0008623007', '0008587574', '1471136728', '1668051354', '1529907497', '1250080401', 'B09CGGV8DX', '1732557101', '1668024497', '1589255518', '0857197681', '1804993476', '000864604X', '1761048627', '0805047905', '1847941494', '0143778919', '1526632217', '1529922860', '1070527718', '1686456964', '1087852714', '1398529486', '1529160227', '0008710236', '0812968255', '0679805273', '1464221138', '0141978619', '1509836314', '1408728516', '0385545991', '1538724731', '1668001225', '0007251947', '1800818025', '1464223319', '1639730192', '1526617161', '148381579X', '1635575567', '1837832439', '1526617188', '1761450301', '0316258873', '0241984408', '1784756253', '178633089X', '0349437033', '0241536715', '1728235871', '0316565075', '0761189181', '1405953195', '0349132615', '0140280197', '1635575605', '0735243751', '0593712641', '1483815838', '1804942758', '0349437025', '176134451X', '0735211299', '0735247269', '1649374186', '0008532818', '0349433844', '0711295085', '0761189602', '0241694906', '059379625X', '1949759229', '1804940208', '1635575583']\n",
    "domains = ['amazon.com']\n",
    "for domain in domains:\n",
    "    for asin in asins:\n",
    "            params = {\n",
    "                'api_key':  rainforest_api_key,\n",
    "                'type': 'reviews',\n",
    "                'amazon_domain': domain,\n",
    "                'asin': asin,\n",
    "                'sort_by': 'most_recent',\n",
    "                'max_page': 5\n",
    "            }\n",
    "            response = requests.get('https://api.rainforestapi.com/request', params)\n",
    "            review_data = response.json()\n",
    "            data.append(review_data)"
   ]
  },
  {
   "cell_type": "code",
   "execution_count": 8,
   "metadata": {},
   "outputs": [],
   "source": [
    "# save the data to a json file\n",
    "with open('reviews.json', 'w') as f:\n",
    "    json.dump(data, f)"
   ]
  },
  {
   "cell_type": "code",
   "execution_count": 5,
   "metadata": {},
   "outputs": [
    {
     "name": "stdout",
     "output_type": "stream",
     "text": [
      "1761290495\n",
      "1035051044\n"
     ]
    }
   ],
   "source": [
    "# Check what ASINs do not have any reviews in the data\n",
    "for i in range(len(data)):\n",
    "    if 'reviews' not in data[i]:\n",
    "        print(asins[i])"
   ]
  },
  {
   "cell_type": "code",
   "execution_count": 9,
   "metadata": {},
   "outputs": [],
   "source": [
    "df = pd.DataFrame(data)"
   ]
  },
  {
   "cell_type": "code",
   "execution_count": 10,
   "metadata": {},
   "outputs": [],
   "source": [
    "df = df.dropna(subset=['reviews'])"
   ]
  },
  {
   "cell_type": "code",
   "execution_count": 14,
   "metadata": {},
   "outputs": [],
   "source": [
    "df = pd.json_normalize(df['reviews'])"
   ]
  },
  {
   "cell_type": "code",
   "execution_count": 18,
   "metadata": {},
   "outputs": [
    {
     "name": "stdout",
     "output_type": "stream",
     "text": [
      "Number of missing asins: 185\n"
     ]
    }
   ],
   "source": [
    "num_missing_asins = df['asin'].isnull().sum()\n",
    "print(f\"Number of missing asins: {num_missing_asins}\")"
   ]
  },
  {
   "cell_type": "code",
   "execution_count": 19,
   "metadata": {},
   "outputs": [
    {
     "name": "stdout",
     "output_type": "stream",
     "text": [
      "Number of na asins: 185\n"
     ]
    }
   ],
   "source": [
    "num_na_asins = df['asin'].isna().sum()\n",
    "print(f\"Number of na asins: {num_na_asins}\")"
   ]
  },
  {
   "cell_type": "code",
   "execution_count": 22,
   "metadata": {},
   "outputs": [
    {
     "name": "stdout",
     "output_type": "stream",
     "text": [
      "Number of missing reviews: 2\n"
     ]
    }
   ],
   "source": [
    "number_missing_reviews = df['body'].isnull().sum()\n",
    "print(f\"Number of missing reviews: {number_missing_reviews}\")"
   ]
  },
  {
   "cell_type": "code",
   "execution_count": 24,
   "metadata": {},
   "outputs": [
    {
     "name": "stdout",
     "output_type": "stream",
     "text": [
      "Number of reviews: 894\n"
     ]
    }
   ],
   "source": [
    "count_reviews = df['body'].count()\n",
    "print(f\"Number of reviews: {count_reviews}\")"
   ]
  },
  {
   "cell_type": "code",
   "execution_count": 28,
   "metadata": {},
   "outputs": [],
   "source": [
    "body_df = df['body']\n",
    "body_df.to_csv('reviews.csv', index=False)"
   ]
  },
  {
   "cell_type": "code",
   "execution_count": 31,
   "metadata": {},
   "outputs": [],
   "source": [
    "documents = body_df.tolist()"
   ]
  },
  {
   "cell_type": "code",
   "execution_count": 32,
   "metadata": {},
   "outputs": [],
   "source": [
    "documents = [str(doc) for doc in documents]"
   ]
  },
  {
   "cell_type": "code",
   "execution_count": 33,
   "metadata": {},
   "outputs": [
    {
     "name": "stdout",
     "output_type": "stream",
     "text": [
      "Total number of words in the documents: 43863\n"
     ]
    }
   ],
   "source": [
    "# count the number of words in the documents\n",
    "word_count = 0\n",
    "for doc in documents:\n",
    "    word_count += len(doc.split())\n",
    "print(f\"Total number of words in the documents: {word_count}\")"
   ]
  }
 ],
 "metadata": {
  "kernelspec": {
   "display_name": "venv",
   "language": "python",
   "name": "python3"
  },
  "language_info": {
   "codemirror_mode": {
    "name": "ipython",
    "version": 3
   },
   "file_extension": ".py",
   "mimetype": "text/x-python",
   "name": "python",
   "nbconvert_exporter": "python",
   "pygments_lexer": "ipython3",
   "version": "3.12.3"
  }
 },
 "nbformat": 4,
 "nbformat_minor": 2
}
